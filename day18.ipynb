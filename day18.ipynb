{
 "cells": [
  {
   "cell_type": "code",
   "execution_count": 1,
   "id": "d656b341-db22-4db9-aa2a-39ee2e8e966c",
   "metadata": {},
   "outputs": [],
   "source": [
    "import heapq"
   ]
  },
  {
   "cell_type": "code",
   "execution_count": 2,
   "id": "76392f23-8816-4cf1-b64e-922d0ac8520e",
   "metadata": {},
   "outputs": [],
   "source": [
    "testlines = '''5,4\n",
    "4,2\n",
    "4,5\n",
    "3,0\n",
    "2,1\n",
    "6,3\n",
    "2,4\n",
    "1,5\n",
    "0,6\n",
    "3,3\n",
    "2,6\n",
    "5,1\n",
    "1,2\n",
    "5,5\n",
    "2,5\n",
    "6,5\n",
    "1,4\n",
    "0,4\n",
    "6,4\n",
    "1,1\n",
    "6,1\n",
    "1,0\n",
    "0,5\n",
    "1,6\n",
    "2,0'''.splitlines()"
   ]
  },
  {
   "cell_type": "code",
   "execution_count": 3,
   "id": "9d564e7a-ca8f-44b9-ad12-ab9b6e68ba69",
   "metadata": {},
   "outputs": [],
   "source": [
    "with open('day18input.txt') as fp:\n",
    "    data = fp.read().splitlines()"
   ]
  },
  {
   "cell_type": "code",
   "execution_count": 4,
   "id": "beaa8023-b510-41d1-94b3-78fe11c65a66",
   "metadata": {},
   "outputs": [
    {
     "data": {
      "text/plain": [
       "3450"
      ]
     },
     "execution_count": 4,
     "metadata": {},
     "output_type": "execute_result"
    }
   ],
   "source": [
    "len(data)"
   ]
  },
  {
   "cell_type": "code",
   "execution_count": 5,
   "id": "b87753c1-8e54-409f-8cc2-f272495b1a37",
   "metadata": {},
   "outputs": [],
   "source": [
    "test_size = 6,6\n",
    "puzzle_size = 70,70"
   ]
  },
  {
   "cell_type": "markdown",
   "id": "bc97cb9a-e1e0-43ac-87ab-2709b454566b",
   "metadata": {},
   "source": [
    "## Part 1 ##\n",
    "\n",
    "Another Dijkstra problem; we can steal the code from day 16 for this pretty easily"
   ]
  },
  {
   "cell_type": "code",
   "execution_count": 6,
   "id": "fc52764d-607b-46e0-9a63-7ca3148309f9",
   "metadata": {},
   "outputs": [],
   "source": [
    "def get_corruption(lines, numbytes):\n",
    "    corruption = set()\n",
    "    for i, line in enumerate(lines):\n",
    "        if i == numbytes:\n",
    "            break\n",
    "        tokens = line.split(',')\n",
    "        x = int(tokens[0])\n",
    "        y = int(tokens[1])\n",
    "        corruption.add((x,y))\n",
    "    return corruption"
   ]
  },
  {
   "cell_type": "code",
   "execution_count": 7,
   "id": "13560e6e-d54e-4bd6-838f-97dea322652f",
   "metadata": {},
   "outputs": [],
   "source": [
    "DIRS = [(0,+1), (+1, 0), (0, -1), (-1, 0)] # E, S, W, N\n",
    "def traverse(start, end, corruption, maxx, maxy):\n",
    "    q = [(0, start)]\n",
    "    seen = set()\n",
    "    while q:\n",
    "        cost, pos = heapq.heappop(q)\n",
    "        if pos in seen:\n",
    "            continue\n",
    "        if end == pos:\n",
    "            return cost\n",
    "        seen.add(pos)\n",
    "        # add possible next moves to the queue\n",
    "        for d in DIRS:\n",
    "            newpos = (pos[0]+d[0], pos[1]+d[1])\n",
    "            if newpos in corruption:\n",
    "                continue\n",
    "            if (0 <= newpos[0] <= maxx) and (0 <= newpos[1] <= maxy):\n",
    "                heapq.heappush(q, (cost+1, newpos))\n",
    "    raise ValueError('Heap queue exhausted without finding the target')"
   ]
  },
  {
   "cell_type": "code",
   "execution_count": 8,
   "id": "96c175c1-7294-4748-8b90-c854ba4012ae",
   "metadata": {},
   "outputs": [],
   "source": [
    "corruption = get_corruption(testlines, 12)"
   ]
  },
  {
   "cell_type": "code",
   "execution_count": 9,
   "id": "a49555eb-8b2b-43ff-8250-91f1cc6fa16a",
   "metadata": {},
   "outputs": [
    {
     "data": {
      "text/plain": [
       "22"
      ]
     },
     "execution_count": 9,
     "metadata": {},
     "output_type": "execute_result"
    }
   ],
   "source": [
    "traverse((0,0), (6,6), corruption, 6, 6)"
   ]
  },
  {
   "cell_type": "code",
   "execution_count": 10,
   "id": "b6089a08-fe7f-4790-9d94-95c03f04dd93",
   "metadata": {},
   "outputs": [],
   "source": [
    "def part1(lines, numbytes, size):\n",
    "    corruption = get_corruption(lines, numbytes)\n",
    "    maxx, maxy = size\n",
    "    return traverse((0,0), (maxx, maxy), corruption, maxx, maxy)"
   ]
  },
  {
   "cell_type": "code",
   "execution_count": 11,
   "id": "02435431-13e6-491a-83dc-16e18f3503dd",
   "metadata": {},
   "outputs": [],
   "source": [
    "assert(22 == part1(testlines, 12, test_size))"
   ]
  },
  {
   "cell_type": "code",
   "execution_count": 12,
   "id": "8d13a159-3f26-4435-a47a-514380503631",
   "metadata": {},
   "outputs": [
    {
     "data": {
      "text/plain": [
       "292"
      ]
     },
     "execution_count": 12,
     "metadata": {},
     "output_type": "execute_result"
    }
   ],
   "source": [
    "part1(data, 1024, puzzle_size)"
   ]
  },
  {
   "cell_type": "markdown",
   "id": "8e5e8b97-485e-4dd8-b2e3-2eccf23309f8",
   "metadata": {},
   "source": [
    "## Part 2 ##\n",
    "\n",
    "Still Dijkstra, only now looking for a path that can't be found"
   ]
  },
  {
   "cell_type": "code",
   "execution_count": 13,
   "id": "233e9952-70c2-4bbf-8da3-6e9e87d9a8b1",
   "metadata": {},
   "outputs": [],
   "source": [
    "def can_traverse(corruption, size):\n",
    "    start, end = (0,0), size\n",
    "    q = [(0, start)]\n",
    "    seen = set()\n",
    "    while q:\n",
    "        cost, pos = heapq.heappop(q)\n",
    "        if pos in seen:\n",
    "            continue\n",
    "        if end == pos:\n",
    "            return True\n",
    "        seen.add(pos)\n",
    "        # add possible next moves to the queue\n",
    "        for d in DIRS:\n",
    "            newpos = (pos[0]+d[0], pos[1]+d[1])\n",
    "            if newpos in corruption:\n",
    "                continue\n",
    "            if (0 <= newpos[0] <= size[0]) and (0 <= newpos[1] <= size[1]):\n",
    "                heapq.heappush(q, (cost+1, newpos))\n",
    "    return False"
   ]
  },
  {
   "cell_type": "code",
   "execution_count": 14,
   "id": "35332343-8e45-4d6b-b812-113220886823",
   "metadata": {},
   "outputs": [],
   "source": [
    "def part2(lines, initbytes, size):\n",
    "    corruption = set()\n",
    "    all_byte_positions = []\n",
    "    for line in lines:\n",
    "        x, y = line.split(',')\n",
    "        all_byte_positions.append((int(x), int(y)))\n",
    "    corruption = set(all_byte_positions[:initbytes])\n",
    "    for byte in all_byte_positions[initbytes+1:]:\n",
    "        corruption.add(byte)\n",
    "        if not can_traverse(corruption, size):\n",
    "            return byte\n",
    "    raise ValueError('No blocking byte found')"
   ]
  },
  {
   "cell_type": "code",
   "execution_count": 15,
   "id": "d5eae074-49d9-42e6-9958-e3f885b8a02d",
   "metadata": {},
   "outputs": [
    {
     "data": {
      "text/plain": [
       "(6, 1)"
      ]
     },
     "execution_count": 15,
     "metadata": {},
     "output_type": "execute_result"
    }
   ],
   "source": [
    "part2(testlines, 12, test_size)"
   ]
  },
  {
   "cell_type": "code",
   "execution_count": 16,
   "id": "2d1889b6-11b0-4209-ac48-7ef6493b3d25",
   "metadata": {},
   "outputs": [
    {
     "data": {
      "text/plain": [
       "(58, 44)"
      ]
     },
     "execution_count": 16,
     "metadata": {},
     "output_type": "execute_result"
    }
   ],
   "source": [
    "part2(data, 1024, puzzle_size)"
   ]
  },
  {
   "cell_type": "code",
   "execution_count": null,
   "id": "3f97ea92-3611-430d-9076-98a7111be119",
   "metadata": {},
   "outputs": [],
   "source": []
  }
 ],
 "metadata": {
  "kernelspec": {
   "display_name": "Python 3 (ipykernel)",
   "language": "python",
   "name": "python3"
  },
  "language_info": {
   "codemirror_mode": {
    "name": "ipython",
    "version": 3
   },
   "file_extension": ".py",
   "mimetype": "text/x-python",
   "name": "python",
   "nbconvert_exporter": "python",
   "pygments_lexer": "ipython3",
   "version": "3.12.7"
  }
 },
 "nbformat": 4,
 "nbformat_minor": 5
}
