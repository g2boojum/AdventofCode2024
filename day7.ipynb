{
 "cells": [
  {
   "cell_type": "code",
   "execution_count": 1,
   "id": "99494052-268e-4128-b878-fdcb3f06015c",
   "metadata": {},
   "outputs": [],
   "source": [
    "%matplotlib inline\n",
    "import itertools\n",
    "import operator"
   ]
  },
  {
   "cell_type": "code",
   "execution_count": 2,
   "id": "8ab6c684-e006-4d05-b8d8-3d5a094ff387",
   "metadata": {},
   "outputs": [],
   "source": [
    "testlines = '''190: 10 19\n",
    "3267: 81 40 27\n",
    "83: 17 5\n",
    "156: 15 6\n",
    "7290: 6 8 6 15\n",
    "161011: 16 10 13\n",
    "192: 17 8 14\n",
    "21037: 9 7 18 13\n",
    "292: 11 6 16 20'''.splitlines()"
   ]
  },
  {
   "cell_type": "code",
   "execution_count": 3,
   "id": "ff188dcc-bc78-48e0-99dd-ff753b6f5534",
   "metadata": {},
   "outputs": [],
   "source": [
    "with open('day7input.txt') as fp:\n",
    "    data = fp.read().splitlines()"
   ]
  },
  {
   "cell_type": "markdown",
   "id": "d96bb681-22c3-4028-8749-5001e58db1a9",
   "metadata": {},
   "source": [
    "## Part 1 ##"
   ]
  },
  {
   "cell_type": "code",
   "execution_count": 41,
   "id": "d377d614-6fa3-487b-8952-6aa0f1f1a74a",
   "metadata": {},
   "outputs": [],
   "source": [
    "def process(lines):\n",
    "    equations = []\n",
    "    for line in lines:\n",
    "        lhs, rhs = line.split(':')\n",
    "        testvalue = int(lhs)\n",
    "        equations.append([testvalue] + [int(s) for s in rhs.split()])\n",
    "    return equations"
   ]
  },
  {
   "cell_type": "code",
   "execution_count": 5,
   "id": "7d1d81d8-6fc5-4d00-aff9-41136b0c3ee5",
   "metadata": {},
   "outputs": [],
   "source": [
    "def is_valid(testval, args):\n",
    "    ops = itertools.product([operator.add, operator.mul], repeat = len(args) -1)\n",
    "    for opset in ops:\n",
    "        a = args[0]\n",
    "        for i, op in enumerate(opset):\n",
    "            b = args[i+1]\n",
    "            a = op(a, b)\n",
    "        if a == testval:\n",
    "            return True\n",
    "    return False     "
   ]
  },
  {
   "cell_type": "code",
   "execution_count": 43,
   "id": "ceab9c39-6157-4682-96e1-2703544a1aac",
   "metadata": {},
   "outputs": [],
   "source": [
    "def part1(lines):\n",
    "    eqs = process(lines)\n",
    "    total = sum(vals[0] for vals in eqs if is_valid(vals[0], vals[1:]))\n",
    "    return total"
   ]
  },
  {
   "cell_type": "code",
   "execution_count": 45,
   "id": "77826be3-6dda-4172-a44b-2e684eb83b57",
   "metadata": {},
   "outputs": [],
   "source": [
    "assert(3749 == part1(testlines))"
   ]
  },
  {
   "cell_type": "code",
   "execution_count": 46,
   "id": "0f5edd32-9da3-4dbf-a495-3cb684060638",
   "metadata": {},
   "outputs": [
    {
     "data": {
      "text/plain": [
       "2314935962622"
      ]
     },
     "execution_count": 46,
     "metadata": {},
     "output_type": "execute_result"
    }
   ],
   "source": [
    "part1(data)"
   ]
  },
  {
   "cell_type": "markdown",
   "id": "859b55dd-27ee-4b1a-b36d-1661c01e7deb",
   "metadata": {},
   "source": [
    "## Part 2 ##"
   ]
  },
  {
   "cell_type": "code",
   "execution_count": 47,
   "id": "75d1482c-fda2-4e38-a933-be72281f0878",
   "metadata": {},
   "outputs": [],
   "source": [
    "def cat(a, b):\n",
    "    return int(f'{a}{b}')"
   ]
  },
  {
   "cell_type": "code",
   "execution_count": 49,
   "id": "f54a4c0f-5e45-4cc6-90b1-e8001085eee8",
   "metadata": {},
   "outputs": [],
   "source": [
    "def is_valid2(testval, args):\n",
    "    ops = itertools.product([operator.add, operator.mul, cat], repeat = len(args) -1)\n",
    "    for opset in ops:\n",
    "        a = args[0]\n",
    "        for i, op in enumerate(opset):\n",
    "            b = args[i+1]\n",
    "            a = op(a, b)\n",
    "        if a == testval:\n",
    "            return True\n",
    "    return False     "
   ]
  },
  {
   "cell_type": "code",
   "execution_count": 50,
   "id": "1c855c04-31a9-4862-bf93-319ed4f5435e",
   "metadata": {},
   "outputs": [],
   "source": [
    "def part2(lines):\n",
    "    eqs = process(lines)\n",
    "    total = sum(vals[0] for vals in eqs if is_valid2(vals[0], vals[1:]))\n",
    "    return total"
   ]
  },
  {
   "cell_type": "code",
   "execution_count": 51,
   "id": "91d208ab-5e90-4ba4-b35d-646a79be4195",
   "metadata": {},
   "outputs": [
    {
     "data": {
      "text/plain": [
       "11387"
      ]
     },
     "execution_count": 51,
     "metadata": {},
     "output_type": "execute_result"
    }
   ],
   "source": [
    "assert(11387 == part2(testlines)"
   ]
  },
  {
   "cell_type": "code",
   "execution_count": null,
   "id": "770dc281-200f-4cf3-8a65-3ec49a013df3",
   "metadata": {},
   "outputs": [],
   "source": []
  }
 ],
 "metadata": {
  "kernelspec": {
   "display_name": "Python 3 (ipykernel)",
   "language": "python",
   "name": "python3"
  },
  "language_info": {
   "codemirror_mode": {
    "name": "ipython",
    "version": 3
   },
   "file_extension": ".py",
   "mimetype": "text/x-python",
   "name": "python",
   "nbconvert_exporter": "python",
   "pygments_lexer": "ipython3",
   "version": "3.12.7"
  }
 },
 "nbformat": 4,
 "nbformat_minor": 5
}
