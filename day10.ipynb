{
 "cells": [
  {
   "cell_type": "code",
   "execution_count": 1,
   "id": "21f66fd5-0729-4c36-86b6-60f03f382212",
   "metadata": {},
   "outputs": [],
   "source": [
    "import graphs\n",
    "import itertools"
   ]
  },
  {
   "cell_type": "code",
   "execution_count": 2,
   "id": "7048239f-8a5d-44cd-9cd2-070527d197a0",
   "metadata": {},
   "outputs": [],
   "source": [
    "testlines = '''89010123\n",
    "78121874\n",
    "87430965\n",
    "96549874\n",
    "45678903\n",
    "32019012\n",
    "01329801\n",
    "10456732'''.splitlines()"
   ]
  },
  {
   "cell_type": "code",
   "execution_count": 3,
   "id": "ad3afefa-4145-48c2-b46c-c8cda21180f2",
   "metadata": {},
   "outputs": [],
   "source": [
    "with open('day10input.txt') as fp:\n",
    "    data = fp.read().splitlines()"
   ]
  },
  {
   "cell_type": "markdown",
   "id": "b10706b7-2703-46e6-bdc0-e4ce45e49a10",
   "metadata": {},
   "source": [
    "## Part 1 ##"
   ]
  },
  {
   "cell_type": "code",
   "execution_count": 4,
   "id": "a5d9ddca-90e9-413e-81a1-0bf1f3c36f6f",
   "metadata": {},
   "outputs": [],
   "source": [
    "from collections import deque\n",
    "\n",
    "def BFS(graph, start):\n",
    "    visited = set()  # Keep track of the nodes that we've visited\n",
    "    queue = deque([start])  # Use a queue to implement the BFS\n",
    "\n",
    "    while queue:\n",
    "        node = queue.popleft()  # Dequeue a node from front of queue\n",
    "        if node not in visited:\n",
    "            visited.add(node)  # Mark the node as visited\n",
    "            queue.extend(graph[node])  # Enqueue all neighbours\n",
    "    return visited"
   ]
  },
  {
   "cell_type": "code",
   "execution_count": 5,
   "id": "5894088b-aeaf-4999-b2d6-1445a2e0ba9c",
   "metadata": {},
   "outputs": [],
   "source": [
    "def get_graph(lines):\n",
    "    heights = []\n",
    "    for line in lines:\n",
    "        rowheights = [int(c) for c in line]\n",
    "        heights.append(rowheights)\n",
    "    nrows, ncols = len(heights), len(heights[0])\n",
    "    starts = []\n",
    "    ends = []\n",
    "    graph = {}\n",
    "    nbrs = [(+1, 0), (-1, 0), (0, +1), (0, -1)]\n",
    "    for row, rowheights in enumerate(heights):\n",
    "        for col, h in enumerate(rowheights):\n",
    "            pos = (row, col)\n",
    "            if h == 0:\n",
    "                starts.append(pos)\n",
    "            elif h == 9:\n",
    "                ends.append(pos)\n",
    "            conn = []\n",
    "            for nbr in nbrs:\n",
    "                nbrrow = row + nbr[0]\n",
    "                nbrcol = col + nbr[1]\n",
    "                if (0 <= nbrrow < nrows) and (0 <= nbrcol < ncols) and (heights[nbrrow][nbrcol] == h + 1):\n",
    "                    conn.append((nbrrow, nbrcol))\n",
    "            graph[pos] = conn\n",
    "    return starts, ends, graph       "
   ]
  },
  {
   "cell_type": "code",
   "execution_count": 6,
   "id": "1cd7bda3-a631-47f7-9e6e-2f2892db35bb",
   "metadata": {},
   "outputs": [],
   "source": [
    "def part1(lines):\n",
    "    starts, ends, graph = get_graph(lines)\n",
    "    total = 0\n",
    "    for start in starts:\n",
    "        visited = BFS(graph, start)\n",
    "        total += sum(1 for end in ends if end in visited)\n",
    "    return total"
   ]
  },
  {
   "cell_type": "code",
   "execution_count": 7,
   "id": "7fa81986-f087-4a8a-bbeb-85b1b2f60925",
   "metadata": {},
   "outputs": [],
   "source": [
    "assert(36 == part1(testlines))"
   ]
  },
  {
   "cell_type": "code",
   "execution_count": 8,
   "id": "7e996b48-9665-423f-beb2-f0191217fff6",
   "metadata": {},
   "outputs": [
    {
     "data": {
      "text/plain": [
       "501"
      ]
     },
     "execution_count": 8,
     "metadata": {},
     "output_type": "execute_result"
    }
   ],
   "source": [
    "part1(data)"
   ]
  },
  {
   "cell_type": "markdown",
   "id": "4182e4e6-5600-406f-89fa-be3ab2ec6a51",
   "metadata": {},
   "source": [
    "## Part 2 ##"
   ]
  },
  {
   "cell_type": "code",
   "execution_count": 17,
   "id": "916bcda6-6c21-4ec5-b015-31b627197a36",
   "metadata": {},
   "outputs": [],
   "source": [
    "# depth first search finding and counting paths from start to end\n",
    "# taken from a solution that I've managed to misplac\n",
    "def dfs(graph, start, end, visited=None):\n",
    "    if visited is None:\n",
    "        visited = set()\n",
    "    if start == end:\n",
    "        return 1\n",
    "    visited.add(start)\n",
    "    path_count = 0\n",
    "    for neighbor in graph[start]:\n",
    "        if neighbor not in visited:\n",
    "            path_count += dfs(graph, neighbor, end, visited)\n",
    "    visited.remove(start)\n",
    "    print(start, end, visited)\n",
    "    return path_count"
   ]
  },
  {
   "cell_type": "code",
   "execution_count": 10,
   "id": "6aee6248-fdc4-4fc1-aac1-22d0b6020ed7",
   "metadata": {},
   "outputs": [],
   "source": [
    "def part2(lines):\n",
    "    starts, ends, graph = get_graph(lines)\n",
    "    return sum(dfs(graph, start, end) for start,end in itertools.product(starts, ends))"
   ]
  },
  {
   "cell_type": "code",
   "execution_count": 11,
   "id": "fb5b7ff7-be34-4846-9e8f-4fd8123c38e2",
   "metadata": {},
   "outputs": [],
   "source": [
    "assert(81 == part2(testlines))"
   ]
  },
  {
   "cell_type": "code",
   "execution_count": 12,
   "id": "b0769480-7ddb-4089-9a21-c9c73ba3255c",
   "metadata": {},
   "outputs": [
    {
     "data": {
      "text/plain": [
       "1017"
      ]
     },
     "execution_count": 12,
     "metadata": {},
     "output_type": "execute_result"
    }
   ],
   "source": [
    "part2(data)"
   ]
  },
  {
   "cell_type": "code",
   "execution_count": null,
   "id": "56b44625-bdb8-4bb7-9651-66bb8501e3b5",
   "metadata": {},
   "outputs": [],
   "source": []
  }
 ],
 "metadata": {
  "kernelspec": {
   "display_name": "Python 3 (ipykernel)",
   "language": "python",
   "name": "python3"
  },
  "language_info": {
   "codemirror_mode": {
    "name": "ipython",
    "version": 3
   },
   "file_extension": ".py",
   "mimetype": "text/x-python",
   "name": "python",
   "nbconvert_exporter": "python",
   "pygments_lexer": "ipython3",
   "version": "3.12.7"
  }
 },
 "nbformat": 4,
 "nbformat_minor": 5
}
