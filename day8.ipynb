{
 "cells": [
  {
   "cell_type": "code",
   "execution_count": 1,
   "id": "3908631d-51ff-4d12-89ef-30b487a856e4",
   "metadata": {},
   "outputs": [],
   "source": [
    "%matplotlib inline\n",
    "import collections\n",
    "import itertools"
   ]
  },
  {
   "cell_type": "code",
   "execution_count": 2,
   "id": "675e9bf1-a308-4c2d-8eb6-1f003c86ac96",
   "metadata": {},
   "outputs": [],
   "source": [
    "testlines = '''............\n",
    "........0...\n",
    ".....0......\n",
    ".......0....\n",
    "....0.......\n",
    "......A.....\n",
    "............\n",
    "............\n",
    "........A...\n",
    ".........A..\n",
    "............\n",
    "............'''.splitlines()"
   ]
  },
  {
   "cell_type": "code",
   "execution_count": 3,
   "id": "08394cec-431d-4e86-bd47-386006e47e64",
   "metadata": {},
   "outputs": [],
   "source": [
    "with open('day8input.txt') as fp:\n",
    "    data = fp.read().splitlines()"
   ]
  },
  {
   "cell_type": "markdown",
   "id": "3e98fdf3-c1b0-4560-8fdc-6095dd6453b4",
   "metadata": {},
   "source": [
    "## Part 1 ##"
   ]
  },
  {
   "cell_type": "code",
   "execution_count": 4,
   "id": "8e8a78c5-65b8-4c81-8646-762ca269e575",
   "metadata": {},
   "outputs": [],
   "source": [
    "def get_antenna_map(lines):\n",
    "    nrows, ncols = len(lines), len(lines[0])\n",
    "    positions = collections.defaultdict(list)\n",
    "    for row, line in enumerate(lines):\n",
    "        for col, c in enumerate(line):\n",
    "            if c != '.':\n",
    "                positions[c].append((row, col))\n",
    "    return positions, nrows, ncols"
   ]
  },
  {
   "cell_type": "code",
   "execution_count": 6,
   "id": "286f75d5-8a77-4a84-a8fd-3ff7558f0460",
   "metadata": {},
   "outputs": [],
   "source": [
    "def get_pair_antinodes(pos1, pos2, nrows, ncols):\n",
    "    delrow = abs(pos1[0] - pos2[0])\n",
    "    delcol = abs(pos1[1] - pos2[1])\n",
    "    vec12 = (pos2[0] - pos1[0], pos2[1] - pos1[1])\n",
    "    a1 = (pos2[0] + vec12[0], pos2[1] + vec12[1])\n",
    "    a2 = (pos1[0] - vec12[0], pos1[1] - vec12[1])\n",
    "    antinodes = []\n",
    "    if (a1[0] >= 0) and (a1[0] < nrows) and (a1[1] >= 0) and (a1[1] < ncols):\n",
    "        antinodes.append(a1)\n",
    "    if (a2[0] >= 0) and (a2[0] < nrows) and (a2[1] >= 0) and (a2[1] < ncols):\n",
    "        antinodes.append(a2)\n",
    "    return antinodes    "
   ]
  },
  {
   "cell_type": "code",
   "execution_count": 8,
   "id": "0aec13e2-a8a7-4a86-bdc2-79550bf36976",
   "metadata": {},
   "outputs": [],
   "source": [
    "def get_all_antinodes(antenna_map, nrows, ncols):\n",
    "    antinodes = collections.defaultdict(list)\n",
    "    for freq in antenna_map:\n",
    "        for pos1,pos2 in itertools.combinations(antenna_map[freq], 2):\n",
    "            antinodes[freq].extend(get_pair_antinodes(pos1, pos2, nrows, ncols))\n",
    "    return antinodes"
   ]
  },
  {
   "cell_type": "code",
   "execution_count": 15,
   "id": "d188017d-b6d2-43df-b771-399c5d89b6e4",
   "metadata": {},
   "outputs": [],
   "source": [
    "def part1(lines):\n",
    "    antmap, nrows, ncols = get_antenna_map(lines)\n",
    "    antinodes = get_all_antinodes(antmap, nrows, ncols)\n",
    "    unique_antinodes = set(itertools.chain(*(antinodes[freq] for freq in antinodes)))\n",
    "    return len(unique_antinodes)"
   ]
  },
  {
   "cell_type": "code",
   "execution_count": 17,
   "id": "0781d0f1-7c10-45cf-9f40-15f315322952",
   "metadata": {},
   "outputs": [],
   "source": [
    "assert(14 == part1(testlines))"
   ]
  },
  {
   "cell_type": "code",
   "execution_count": 18,
   "id": "e57d7ddd-a7f6-4365-98d5-56da351a258e",
   "metadata": {},
   "outputs": [
    {
     "data": {
      "text/plain": [
       "303"
      ]
     },
     "execution_count": 18,
     "metadata": {},
     "output_type": "execute_result"
    }
   ],
   "source": [
    "part1(data)"
   ]
  },
  {
   "cell_type": "markdown",
   "id": "351bf500-d54b-4f40-8472-11c8b8f8e594",
   "metadata": {},
   "source": [
    "## Part 2 ##"
   ]
  },
  {
   "cell_type": "code",
   "execution_count": 19,
   "id": "3faa4dc4-a789-4b59-8c3c-096077d0d11f",
   "metadata": {},
   "outputs": [],
   "source": [
    "def get_pair_antinodes2(pos1, pos2, nrows, ncols):\n",
    "    delrow = abs(pos1[0] - pos2[0])\n",
    "    delcol = abs(pos1[1] - pos2[1])\n",
    "    vec12 = (pos2[0] - pos1[0], pos2[1] - pos1[1])\n",
    "    antinodes = []\n",
    "    # start from pos2\n",
    "    arow, acol = pos2\n",
    "    while (0 <= arow < nrows) and (0 <= acol < ncols):\n",
    "        antinodes.append((arow, acol))\n",
    "        arow, acol = arow + vec12[0], acol + vec12[1]\n",
    "    # start from pos1\n",
    "    arow, acol = pos1\n",
    "    while (0 <= arow < nrows) and (0 <= acol < ncols):\n",
    "        antinodes.append((arow, acol))\n",
    "        arow, acol = arow - vec12[0], acol - vec12[1]\n",
    "    return antinodes    "
   ]
  },
  {
   "cell_type": "code",
   "execution_count": 20,
   "id": "3d2e84cd-efd5-4fc2-8eb1-a50541c02b2c",
   "metadata": {},
   "outputs": [],
   "source": [
    "def get_all_antinodes2(antenna_map, nrows, ncols):\n",
    "    antinodes = collections.defaultdict(list)\n",
    "    for freq in antenna_map:\n",
    "        for pos1,pos2 in itertools.combinations(antenna_map[freq], 2):\n",
    "            antinodes[freq].extend(get_pair_antinodes2(pos1, pos2, nrows, ncols))\n",
    "    return antinodes"
   ]
  },
  {
   "cell_type": "code",
   "execution_count": null,
   "id": "3f6e0c8b-1ee6-4818-b35d-4b9b72c91d68",
   "metadata": {},
   "outputs": [],
   "source": [
    "def part2(lines):\n",
    "    antmap, nrows, ncols = get_antenna_map(lines)\n",
    "    antinodes = get_all_antinodes2(antmap, nrows, ncols)\n",
    "    unique_antinodes = set(itertools.chain(*(antinodes[freq] for freq in antinodes)))\n",
    "    return len(unique_antinodes)"
   ]
  }
 ],
 "metadata": {
  "kernelspec": {
   "display_name": "Python 3 (ipykernel)",
   "language": "python",
   "name": "python3"
  },
  "language_info": {
   "codemirror_mode": {
    "name": "ipython",
    "version": 3
   },
   "file_extension": ".py",
   "mimetype": "text/x-python",
   "name": "python",
   "nbconvert_exporter": "python",
   "pygments_lexer": "ipython3",
   "version": "3.12.7"
  }
 },
 "nbformat": 4,
 "nbformat_minor": 5
}
