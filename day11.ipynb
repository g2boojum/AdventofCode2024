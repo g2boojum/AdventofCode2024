{
 "cells": [
  {
   "cell_type": "code",
   "execution_count": 38,
   "id": "a4375c47-de5d-480d-9783-3874b72a1080",
   "metadata": {},
   "outputs": [],
   "source": [
    "import collections"
   ]
  },
  {
   "cell_type": "code",
   "execution_count": 1,
   "id": "ea491595-89c0-4b51-8a8f-18fe8f933c83",
   "metadata": {},
   "outputs": [],
   "source": [
    "testline = [int(num) for num in '0 1 10 99 999'.split()]"
   ]
  },
  {
   "cell_type": "code",
   "execution_count": 2,
   "id": "5b63c1a9-3195-4164-83f0-690cb2ba4bb5",
   "metadata": {},
   "outputs": [],
   "source": [
    "data = [int(num) for num in '814 1183689 0 1 766231 4091 93836 46'.split()]"
   ]
  },
  {
   "cell_type": "markdown",
   "id": "4aeaa81a-9d39-402f-b717-599f48153339",
   "metadata": {},
   "source": [
    "## Part 1 ##"
   ]
  },
  {
   "cell_type": "code",
   "execution_count": 3,
   "id": "ecee6a4d-e75f-4ddf-93bd-05a6e6311865",
   "metadata": {},
   "outputs": [],
   "source": [
    "def blink(stones):\n",
    "    newstones = []\n",
    "    for stone in stones:\n",
    "        s = str(stone)\n",
    "        numdigits = len(s)\n",
    "        if stone == 0:\n",
    "            newstones.append(1)\n",
    "        elif numdigits%2 == 0:\n",
    "            halfway = numdigits//2\n",
    "            newstones.append(int(s[:halfway]))\n",
    "            newstones.append(int(s[halfway:]))\n",
    "        else:\n",
    "            newstones.append(2024*stone)\n",
    "    return newstones"
   ]
  },
  {
   "cell_type": "code",
   "execution_count": 4,
   "id": "cdfefeb6-8931-4837-b18e-187c2160f87c",
   "metadata": {},
   "outputs": [
    {
     "data": {
      "text/plain": [
       "[1, 2024, 1, 0, 9, 9, 2021976]"
      ]
     },
     "execution_count": 4,
     "metadata": {},
     "output_type": "execute_result"
    }
   ],
   "source": [
    "blink(testline)"
   ]
  },
  {
   "cell_type": "code",
   "execution_count": 5,
   "id": "05378bf6-09e9-47df-a577-ec48ba5af6cc",
   "metadata": {},
   "outputs": [],
   "source": [
    "def part1(stones):\n",
    "    for i in range(25):\n",
    "        stones = blink(stones)\n",
    "    return len(stones)"
   ]
  },
  {
   "cell_type": "code",
   "execution_count": 6,
   "id": "500e7aaf-b701-4cbe-90f4-2140425b1e3b",
   "metadata": {},
   "outputs": [],
   "source": [
    "assert(55312 == part1([125, 17]))"
   ]
  },
  {
   "cell_type": "code",
   "execution_count": 7,
   "id": "eb89e95c-4a55-4866-a23c-042c36b8dcb2",
   "metadata": {},
   "outputs": [
    {
     "data": {
      "text/plain": [
       "200446"
      ]
     },
     "execution_count": 7,
     "metadata": {},
     "output_type": "execute_result"
    }
   ],
   "source": [
    "part1(data)"
   ]
  },
  {
   "cell_type": "markdown",
   "id": "e8691345-b6b7-4192-8929-ee97b26e8638",
   "metadata": {},
   "source": [
    "## Part 2 ##"
   ]
  },
  {
   "cell_type": "code",
   "execution_count": 11,
   "id": "a58191ff-d9a4-4746-bb41-bd655c1cb77c",
   "metadata": {},
   "outputs": [
    {
     "data": {
      "text/plain": [
       "{814: 1, 1183689: 1, 0: 1, 1: 1, 766231: 1, 4091: 1, 93836: 1, 46: 1}"
      ]
     },
     "execution_count": 11,
     "metadata": {},
     "output_type": "execute_result"
    }
   ],
   "source": [
    "data2 = dict(collections.Counter(data))\n",
    "data2"
   ]
  },
  {
   "cell_type": "code",
   "execution_count": 32,
   "id": "1b7faf10-05d3-4ef1-94bd-9144e126a00a",
   "metadata": {},
   "outputs": [],
   "source": [
    "def blink2(stonedict):\n",
    "    newdict = collections.defaultdict(int)\n",
    "    for stoneval in stonedict:\n",
    "        numstones = stonedict[stoneval]\n",
    "        if stoneval == 0:\n",
    "            newdict[1] += numstones\n",
    "            continue\n",
    "        s = str(stoneval)\n",
    "        numdigits = len(s)\n",
    "        if numdigits%2 == 0:\n",
    "            halfway = numdigits//2\n",
    "            val1 = int(s[:halfway])\n",
    "            val2 = int(s[halfway:])\n",
    "            newdict[val1] += numstones\n",
    "            newdict[val2] += numstones\n",
    "        else:\n",
    "            val = 2024*stoneval\n",
    "            newdict[val] += numstones\n",
    "    return newdict\n"
   ]
  },
  {
   "cell_type": "code",
   "execution_count": 34,
   "id": "1b8e1d56-36ec-4ed0-b9e9-d8aa600ca8bb",
   "metadata": {},
   "outputs": [],
   "source": [
    "def part2(stonedict, numblinks):\n",
    "    for i in range(numblinks):\n",
    "        stonedict = blink2(stonedict)\n",
    "    return sum(stonedict[val] for val in stonedict)"
   ]
  },
  {
   "cell_type": "code",
   "execution_count": 39,
   "id": "57f90671-65d1-4fb0-afeb-70ef8b24b854",
   "metadata": {},
   "outputs": [],
   "source": [
    "assert(200446 == part2(data2, 25))"
   ]
  },
  {
   "cell_type": "code",
   "execution_count": 37,
   "id": "2e4810bf-ff09-4756-830a-f29b642ec91c",
   "metadata": {},
   "outputs": [
    {
     "data": {
      "text/plain": [
       "238317474993392"
      ]
     },
     "execution_count": 37,
     "metadata": {},
     "output_type": "execute_result"
    }
   ],
   "source": [
    "part2(data2, 75)"
   ]
  },
  {
   "cell_type": "code",
   "execution_count": null,
   "id": "1139a708-e426-4fe8-935b-27ddc6950125",
   "metadata": {},
   "outputs": [],
   "source": []
  }
 ],
 "metadata": {
  "kernelspec": {
   "display_name": "Python 3 (ipykernel)",
   "language": "python",
   "name": "python3"
  },
  "language_info": {
   "codemirror_mode": {
    "name": "ipython",
    "version": 3
   },
   "file_extension": ".py",
   "mimetype": "text/x-python",
   "name": "python",
   "nbconvert_exporter": "python",
   "pygments_lexer": "ipython3",
   "version": "3.12.7"
  }
 },
 "nbformat": 4,
 "nbformat_minor": 5
}
