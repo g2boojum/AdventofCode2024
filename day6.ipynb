{
 "cells": [
  {
   "cell_type": "code",
   "execution_count": 1,
   "id": "dc6b6d70-1572-49f9-a6fd-5e41c90e3fa0",
   "metadata": {},
   "outputs": [],
   "source": [
    "%matplotlib inline\n",
    "import itertools"
   ]
  },
  {
   "cell_type": "code",
   "execution_count": 2,
   "id": "224ced88-3ad9-45c4-8107-ae83b3120f71",
   "metadata": {},
   "outputs": [],
   "source": [
    "testlines = '''....#.....\n",
    ".........#\n",
    "..........\n",
    "..#.......\n",
    ".......#..\n",
    "..........\n",
    ".#..^.....\n",
    "........#.\n",
    "#.........\n",
    "......#...'''.splitlines()"
   ]
  },
  {
   "cell_type": "code",
   "execution_count": 3,
   "id": "492953fe-e457-4b39-a20d-d648c4abc549",
   "metadata": {},
   "outputs": [],
   "source": [
    "with open('day6input.txt') as fp:\n",
    "    data = fp.read().splitlines()"
   ]
  },
  {
   "cell_type": "markdown",
   "id": "8c7136cb-3685-4457-838e-a43bb9634ff6",
   "metadata": {},
   "source": [
    "## Part 1 ##"
   ]
  },
  {
   "cell_type": "code",
   "execution_count": 4,
   "id": "4d8b34bb-a7fa-4db6-835e-e3e5dddfd491",
   "metadata": {},
   "outputs": [],
   "source": [
    "def make_map(lines):\n",
    "    nrows, ncols = len(lines), len(lines[0])\n",
    "    mymap = []\n",
    "    for row, line in enumerate(lines):\n",
    "        for col, char in enumerate(line):\n",
    "            if '#' == char:\n",
    "                mymap.append((row, col))\n",
    "            elif '^' == char:\n",
    "                startpos = (row, col)\n",
    "            elif '.' == char:\n",
    "                continue\n",
    "            else:\n",
    "                raise ValueError('Unrecognized character: ', char)\n",
    "    return mymap,startpos, nrows, ncols"
   ]
  },
  {
   "cell_type": "code",
   "execution_count": 5,
   "id": "a9203f13-6dde-464c-97eb-7b6a89679f8d",
   "metadata": {},
   "outputs": [],
   "source": [
    "up, dn, rt, lf = (-1, 0), (+1, 0), (0, +1), (0, -1)"
   ]
  },
  {
   "cell_type": "code",
   "execution_count": 6,
   "id": "da27ecac-cd9b-4226-bf6f-290810b19944",
   "metadata": {},
   "outputs": [],
   "source": [
    "def trial_step(mymap, currpos, currdir, nextdir):\n",
    "    newpos = (currpos[0] + currdir[0], currpos[1] + currdir[1])\n",
    "    if newpos in mymap:\n",
    "        # there's a barrier here. Can't move, so just change direction\n",
    "        return currpos, next(nextdir)\n",
    "    return newpos, currdir"
   ]
  },
  {
   "cell_type": "code",
   "execution_count": 7,
   "id": "cab30441-0981-48ed-82f8-7a0304418d13",
   "metadata": {},
   "outputs": [],
   "source": [
    "def is_gone(currpos, currdir, nrows, ncols):\n",
    "    row, col = currpos\n",
    "    if (row == 0) and (currdir == up):\n",
    "        return True\n",
    "    elif (row == nrows-1) and (currdir == dn):\n",
    "        return True\n",
    "    elif (col == 0) and (currdir == lf):\n",
    "        return True\n",
    "    elif (col == ncols-1) and (currdir == rt):\n",
    "        return True"
   ]
  },
  {
   "cell_type": "code",
   "execution_count": 25,
   "id": "63dc0a1a-cd6e-4061-8ea3-e8368127251f",
   "metadata": {},
   "outputs": [],
   "source": [
    "def travel(mymap, startpos, nrows, ncols):\n",
    "    currpos = startpos\n",
    "    currdir = up\n",
    "    nextdir = itertools.cycle([rt, dn, lf, up]) # assumes we're starting going up, so the _next_ direction will be to the right\n",
    "    visited = set()\n",
    "    while not is_gone(currpos, currdir, nrows, ncols):\n",
    "        visited.add(currpos)\n",
    "        currpos, currdir = trial_step(mymap, currpos, currdir, nextdir)\n",
    "    visited.add(currpos) # need to add this position, too!\n",
    "    return visited"
   ]
  },
  {
   "cell_type": "code",
   "execution_count": 26,
   "id": "f7d30b40-bf12-4b2a-9be2-e5b9e9ce7b29",
   "metadata": {},
   "outputs": [],
   "source": [
    "def part1(lines):\n",
    "    mymap, startpos, nrows, ncols = make_map(lines)\n",
    "    visited = travel(mymap, startpos, nrows, ncols)\n",
    "    return len(visited)"
   ]
  },
  {
   "cell_type": "code",
   "execution_count": 27,
   "id": "5a12e9cb-57dc-4c32-bfef-539b264689e0",
   "metadata": {},
   "outputs": [],
   "source": [
    "assert(41 == part1(testlines))"
   ]
  },
  {
   "cell_type": "code",
   "execution_count": 28,
   "id": "99fbb25f-3cf6-406c-8659-1e75f9f9c3f7",
   "metadata": {},
   "outputs": [
    {
     "data": {
      "text/plain": [
       "5153"
      ]
     },
     "execution_count": 28,
     "metadata": {},
     "output_type": "execute_result"
    }
   ],
   "source": [
    "part1(data)"
   ]
  },
  {
   "cell_type": "markdown",
   "id": "48119016-c2fe-4e19-861f-7ee9a0ae7189",
   "metadata": {},
   "source": [
    "## Part 2 ##"
   ]
  },
  {
   "cell_type": "code",
   "execution_count": 14,
   "id": "2386bf72-f84a-4d78-b166-9b765755a61c",
   "metadata": {},
   "outputs": [],
   "source": [
    "def is_cycle(mymap, startpos, nrows, ncols):\n",
    "    currpos = startpos\n",
    "    currdir = up\n",
    "    nextdir = itertools.cycle([rt, dn, lf, up]) # assumes we're starting going up, so the _next_ direction will be to the right    \n",
    "    visited = set()\n",
    "    while True:\n",
    "        visited.add((currpos, currdir))\n",
    "        currpos, currdir = trial_step(mymap, currpos, currdir, nextdir)\n",
    "        if is_gone(currpos, currdir, nrows, ncols):\n",
    "            return False\n",
    "        elif (currpos, currdir) in visited:\n",
    "            # We've been here before, going in the same direction, so we're stuck in a loop\n",
    "            return True"
   ]
  },
  {
   "cell_type": "code",
   "execution_count": 35,
   "id": "2f61fa63-3516-4977-b0bc-322964d3084b",
   "metadata": {},
   "outputs": [],
   "source": [
    "def part2(lines):\n",
    "    mymap, startpos, nrows, ncols = make_map(lines)\n",
    "    orig_visited = travel(mymap, startpos, nrows, ncols)\n",
    "    # Need to put a new barrier in one of the spots that actually gets traversed w/o the extra barrier\n",
    "    num_cycle_spots = 0\n",
    "    for i, (row, col) in enumerate(orig_visited):\n",
    "        if i%1000 == 0:\n",
    "            print(i)\n",
    "        if startpos == (row, col):\n",
    "            continue\n",
    "        testmap = mymap + [(row, col)]\n",
    "        if is_cycle(testmap, startpos, nrows, ncols):\n",
    "            num_cycle_spots += 1\n",
    "    return num_cycle_spots"
   ]
  },
  {
   "cell_type": "code",
   "execution_count": 36,
   "id": "7e32e864-08d5-4eca-ab1e-6cdaaf062017",
   "metadata": {},
   "outputs": [
    {
     "name": "stdout",
     "output_type": "stream",
     "text": [
      "0\n"
     ]
    }
   ],
   "source": [
    "assert(6 == part2(testlines))"
   ]
  },
  {
   "cell_type": "code",
   "execution_count": 37,
   "id": "ac3704a4-05f8-472a-89ea-a761cefe90ae",
   "metadata": {},
   "outputs": [
    {
     "name": "stdout",
     "output_type": "stream",
     "text": [
      "0\n",
      "1000\n",
      "2000\n",
      "3000\n",
      "4000\n",
      "5000\n"
     ]
    },
    {
     "data": {
      "text/plain": [
       "1711"
      ]
     },
     "execution_count": 37,
     "metadata": {},
     "output_type": "execute_result"
    }
   ],
   "source": [
    "part2(data)"
   ]
  },
  {
   "cell_type": "code",
   "execution_count": null,
   "id": "5cc5373d-dbcd-486c-af8d-786328effa23",
   "metadata": {},
   "outputs": [],
   "source": []
  }
 ],
 "metadata": {
  "kernelspec": {
   "display_name": "Python 3 (ipykernel)",
   "language": "python",
   "name": "python3"
  },
  "language_info": {
   "codemirror_mode": {
    "name": "ipython",
    "version": 3
   },
   "file_extension": ".py",
   "mimetype": "text/x-python",
   "name": "python",
   "nbconvert_exporter": "python",
   "pygments_lexer": "ipython3",
   "version": "3.12.7"
  }
 },
 "nbformat": 4,
 "nbformat_minor": 5
}
