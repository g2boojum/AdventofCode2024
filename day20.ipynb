{
 "cells": [
  {
   "cell_type": "code",
   "execution_count": 1,
   "id": "68d9d85a-1895-4b6f-b664-1cfc8558fb89",
   "metadata": {},
   "outputs": [],
   "source": [
    "import collections\n",
    "import itertools\n",
    "import heapq"
   ]
  },
  {
   "cell_type": "code",
   "execution_count": 2,
   "id": "69d05caa-a860-4168-be81-5386d2b850aa",
   "metadata": {},
   "outputs": [],
   "source": [
    "testlines = '''###############\n",
    "#...#...#.....#\n",
    "#.#.#.#.#.###.#\n",
    "#S#...#.#.#...#\n",
    "#######.#.#.###\n",
    "#######.#.#...#\n",
    "#######.#.###.#\n",
    "###..E#...#...#\n",
    "###.#######.###\n",
    "#...###...#...#\n",
    "#.#####.#.###.#\n",
    "#.#...#.#.#...#\n",
    "#.#.#.#.#.#.###\n",
    "#...#...#...###\n",
    "###############'''.splitlines()"
   ]
  },
  {
   "cell_type": "code",
   "execution_count": 3,
   "id": "cde84a5c-6e3d-420e-992c-10762cb4bff5",
   "metadata": {},
   "outputs": [],
   "source": [
    "with open('day20input.txt') as fp:\n",
    "    data = fp.read().splitlines()"
   ]
  },
  {
   "cell_type": "markdown",
   "id": "0ce630f1-6e66-43bb-886b-3a649d22064f",
   "metadata": {},
   "source": [
    "## Part 1 ##\n",
    "\n",
    "Yet another pathfinding problem, now needing breadcrumbs (I think).\n",
    "https://aoc.just2good.co.uk/python/shortest_paths#breadcrumb-trail"
   ]
  },
  {
   "cell_type": "code",
   "execution_count": 4,
   "id": "2044256b-df68-495d-9a6b-ffc4975b5613",
   "metadata": {},
   "outputs": [],
   "source": [
    "def parse_input(lines):\n",
    "    walls = set()\n",
    "    size = (len(lines), len(lines[0]))\n",
    "    for row, line in enumerate(lines):\n",
    "        for col, c in enumerate(line):\n",
    "            match c:\n",
    "                case '#':\n",
    "                    walls.add((row, col))\n",
    "                case '.':\n",
    "                    pass\n",
    "                case 'S':\n",
    "                    start = (row, col)\n",
    "                case 'E':\n",
    "                    end = (row, col)\n",
    "                case _:\n",
    "                    raise ValueError('Invalid character in input: ', c)\n",
    "    return start, end, walls, size"
   ]
  },
  {
   "cell_type": "code",
   "execution_count": 5,
   "id": "c2c72020-ce03-4455-a0ef-fc926676ac29",
   "metadata": {},
   "outputs": [],
   "source": [
    "start, end, walls, size = parse_input(testlines)"
   ]
  },
  {
   "cell_type": "code",
   "execution_count": 6,
   "id": "df0b748f-3cab-4142-aec7-ccf17a9aacc2",
   "metadata": {},
   "outputs": [],
   "source": [
    "DIRS = [(0,+1), (+1, 0), (0, -1), (-1, 0)] # E, S, W, N\n",
    "def get_shortest_path(start, end, walls, size):\n",
    "    frontier = collections.deque()\n",
    "    frontier.append(start)\n",
    "    came_from = {}\n",
    "    came_from[start] = None\n",
    "    while frontier:\n",
    "        current = frontier.popleft()\n",
    "        if current == end:\n",
    "            break\n",
    "        for d in DIRS:\n",
    "            newpos = (current[0] + d[0], current[1] + d[1])\n",
    "            if newpos in walls:\n",
    "                continue\n",
    "            if newpos not in came_from:\n",
    "                if (0 <= newpos[0] < size[0]) and (0 <= newpos[1] < size[1]):\n",
    "                    frontier.append(newpos)\n",
    "                    came_from[newpos] = current\n",
    "    if current != end:\n",
    "        raise ValueError('Path not found from start to end')\n",
    "    path = []\n",
    "    while current != start:\n",
    "        path.append(current)\n",
    "        current = came_from[current]\n",
    "    path.append(start)\n",
    "    path.reverse()\n",
    "    return path"
   ]
  },
  {
   "cell_type": "code",
   "execution_count": 7,
   "id": "b453afb9-a474-4b5a-bebd-a5dfa1f26008",
   "metadata": {},
   "outputs": [
    {
     "data": {
      "text/plain": [
       "84"
      ]
     },
     "execution_count": 7,
     "metadata": {},
     "output_type": "execute_result"
    }
   ],
   "source": [
    "path = get_shortest_path(start, end, walls, size)\n",
    "len(path) - 1"
   ]
  },
  {
   "cell_type": "code",
   "execution_count": 8,
   "id": "84c91b62-6e34-4973-b83c-aa66fa235134",
   "metadata": {},
   "outputs": [],
   "source": [
    "def traverse(start, end, walls, size):\n",
    "    q = [(0, start)]\n",
    "    seen = set()\n",
    "    while q:\n",
    "        cost, pos = heapq.heappop(q)\n",
    "        if pos in seen:\n",
    "            continue\n",
    "        if end == pos:\n",
    "            return cost\n",
    "        seen.add(pos)\n",
    "        # add possible next moves to the queue\n",
    "        for d in DIRS:\n",
    "            newpos = (pos[0]+d[0], pos[1]+d[1])\n",
    "            if newpos in walls:\n",
    "                continue\n",
    "            if (0 <= newpos[0] < size[0]) and (0 <= newpos[1] < size[1]):\n",
    "                heapq.heappush(q, (cost+1, newpos))\n",
    "    raise ValueError('Heap queue exhausted without finding the target')"
   ]
  },
  {
   "cell_type": "code",
   "execution_count": 9,
   "id": "24c750c7-9855-4c82-8b53-7df515928253",
   "metadata": {},
   "outputs": [
    {
     "data": {
      "text/plain": [
       "84"
      ]
     },
     "execution_count": 9,
     "metadata": {},
     "output_type": "execute_result"
    }
   ],
   "source": [
    "traverse(start, end, walls, size)"
   ]
  },
  {
   "cell_type": "code",
   "execution_count": 10,
   "id": "6bbcf318-e534-448e-82b3-8b48fdb47683",
   "metadata": {},
   "outputs": [],
   "source": [
    "def count_cheats(path, walls, size, threshold=0):\n",
    "    t_no_cheat = len(path) - 1\n",
    "    count = 0\n",
    "    seen = set()\n",
    "    for pos in path:\n",
    "        for d in DIRS:\n",
    "            p1 = (pos[0] + d[0], pos[1] + d[1])\n",
    "            p2 = (pos[0] + 2*d[0], pos[1] + 2*d[1])\n",
    "            if (p1, p2) in seen:\n",
    "                continue\n",
    "            if (p2[0] < 0) or (p2[0] >= size[0]) or (p2[1] < 0) or (p2[1] >= size[1]):\n",
    "                continue\n",
    "            if (p1 in walls) and (p2 in path) and (path.index(p2) > path.index(pos)):\n",
    "                # potential cheat found\n",
    "                seen.add((p1, p2))\n",
    "                cheat_walls = walls.copy()\n",
    "                cheat_walls.remove(p1)\n",
    "                t_cheat = traverse(path[0], path[-1], cheat_walls, size)\n",
    "                if t_no_cheat - t_cheat >= threshold:\n",
    "                    count += 1\n",
    "    return count"
   ]
  },
  {
   "cell_type": "code",
   "execution_count": 11,
   "id": "2c6e2630-6729-40fd-8cd9-a6d0a2b9e168",
   "metadata": {},
   "outputs": [
    {
     "data": {
      "text/plain": [
       "44"
      ]
     },
     "execution_count": 11,
     "metadata": {},
     "output_type": "execute_result"
    }
   ],
   "source": [
    "count_cheats(path, walls, size)"
   ]
  },
  {
   "cell_type": "code",
   "execution_count": 12,
   "id": "b356c5b9-475b-4be5-bdfb-d5b1448745cd",
   "metadata": {},
   "outputs": [],
   "source": [
    "def part1(lines, threshold):\n",
    "    start, end, walls, size = parse_input(lines)\n",
    "    path = get_shortest_path(start, end, walls, size)\n",
    "    num_cheats = count_cheats(path, walls, size, threshold)\n",
    "    return num_cheats"
   ]
  },
  {
   "cell_type": "code",
   "execution_count": 13,
   "id": "71a35cbf-993d-47dc-bb4d-8375623586f6",
   "metadata": {},
   "outputs": [
    {
     "data": {
      "text/plain": [
       "44"
      ]
     },
     "execution_count": 13,
     "metadata": {},
     "output_type": "execute_result"
    }
   ],
   "source": [
    "part1(testlines, 0)"
   ]
  },
  {
   "cell_type": "code",
   "execution_count": 14,
   "id": "d5ef0e59-cd5a-499b-b1bf-21d95c4d50b5",
   "metadata": {},
   "outputs": [
    {
     "data": {
      "text/plain": [
       "1367"
      ]
     },
     "execution_count": 14,
     "metadata": {},
     "output_type": "execute_result"
    }
   ],
   "source": [
    "part1(data, 100)"
   ]
  },
  {
   "cell_type": "markdown",
   "id": "6796fb35-3d17-466f-bf34-3c4efd7c70e3",
   "metadata": {},
   "source": [
    "My count_cheats function works, but it's very slow, taking several minutes to run. I knew p2 had to be on the path,\n",
    "and further along than pos, but didn't think that it just meant I could count all shortcuts where pos and p2 have a\n",
    "taxicab distance of 2. Oops. So, now stealing from https://www.reddit.com/r/adventofcode/comments/1hicdtb/comment/m2y56t8/"
   ]
  },
  {
   "cell_type": "code",
   "execution_count": 17,
   "id": "8319d703-9496-4c54-8a56-975dede82fd9",
   "metadata": {},
   "outputs": [],
   "source": [
    "def part1and2(lines):\n",
    "    start, end, walls, size = parse_input(lines)\n",
    "    path = get_shortest_path(start, end, walls, size)\n",
    "    count1 = count2 = 0\n",
    "    for i,j in itertools.combinations(range(len(path)), 2):\n",
    "        pi, pj = path[i], path[j]\n",
    "        dij = abs(pi[0] - pj[0]) + abs(pi[1] - pj[1])\n",
    "        pathdist = j - i\n",
    "        if 2 == dij and pathdist - dij >= 100:\n",
    "            count1+= 1\n",
    "        if dij <= 20 and pathdist - dij >= 100:\n",
    "            count2+= 1\n",
    "    return count1, count2"
   ]
  },
  {
   "cell_type": "code",
   "execution_count": 18,
   "id": "ae41782d-e0ac-4a18-a215-f68feacbfd1a",
   "metadata": {},
   "outputs": [
    {
     "data": {
      "text/plain": [
       "(1367, 1006850)"
      ]
     },
     "execution_count": 18,
     "metadata": {},
     "output_type": "execute_result"
    }
   ],
   "source": [
    "part1and2(data)"
   ]
  },
  {
   "cell_type": "code",
   "execution_count": null,
   "id": "32ab6f44-6e32-4d54-ab09-37c0a869ccd0",
   "metadata": {},
   "outputs": [],
   "source": []
  }
 ],
 "metadata": {
  "kernelspec": {
   "display_name": "Python 3 (ipykernel)",
   "language": "python",
   "name": "python3"
  },
  "language_info": {
   "codemirror_mode": {
    "name": "ipython",
    "version": 3
   },
   "file_extension": ".py",
   "mimetype": "text/x-python",
   "name": "python",
   "nbconvert_exporter": "python",
   "pygments_lexer": "ipython3",
   "version": "3.12.7"
  }
 },
 "nbformat": 4,
 "nbformat_minor": 5
}
