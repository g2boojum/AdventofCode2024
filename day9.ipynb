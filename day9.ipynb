{
 "cells": [
  {
   "cell_type": "code",
   "execution_count": 1,
   "id": "72081cb3-32fd-4acf-87c9-5549adee8777",
   "metadata": {},
   "outputs": [],
   "source": [
    "%matplotlib inline\n",
    "import itertools"
   ]
  },
  {
   "cell_type": "code",
   "execution_count": 2,
   "id": "1974cec3-0271-42b4-b2d7-d304d1ff3c62",
   "metadata": {},
   "outputs": [],
   "source": [
    "testline = '2333133121414131402'"
   ]
  },
  {
   "cell_type": "code",
   "execution_count": 3,
   "id": "a2077134-5934-42f6-8364-c6b7b2871c1c",
   "metadata": {},
   "outputs": [],
   "source": [
    "with open('day9input.txt') as fp:\n",
    "    data = fp.read().strip()"
   ]
  },
  {
   "cell_type": "markdown",
   "id": "7cdb8982-15c1-4b41-bd33-6c5396a490a8",
   "metadata": {},
   "source": [
    "## Part 1 ##"
   ]
  },
  {
   "cell_type": "code",
   "execution_count": 4,
   "id": "782a2556-4019-44ff-a979-e3835be735ed",
   "metadata": {},
   "outputs": [],
   "source": [
    "def get_storage(line):\n",
    "    storage = []\n",
    "    fileid = 0\n",
    "    for i, c in enumerate(line):\n",
    "        if i%2 == 0:\n",
    "            # file block\n",
    "            storage.extend(itertools.repeat(fileid, int(c)))\n",
    "            fileid += 1\n",
    "        else:\n",
    "            storage.extend(itertools.repeat(None, int(c)))\n",
    "    return storage"
   ]
  },
  {
   "cell_type": "code",
   "execution_count": 5,
   "id": "94e67198-559e-4732-9163-ad618e670ee2",
   "metadata": {},
   "outputs": [],
   "source": [
    "def print_storage(storage):\n",
    "    s = []\n",
    "    for fileid in storage:\n",
    "        if fileid is not None:\n",
    "            s.append(str(fileid))\n",
    "        else:\n",
    "            s.append('.')\n",
    "    return ''.join(s)"
   ]
  },
  {
   "cell_type": "code",
   "execution_count": 6,
   "id": "a51d234b-2b59-400c-8f68-f7ace19d2273",
   "metadata": {},
   "outputs": [],
   "source": [
    "def defrag(storagein):\n",
    "    storage = storagein.copy()\n",
    "    last = len(storage) - 1\n",
    "    for i, fileid in enumerate(storage):\n",
    "        if fileid is not None:\n",
    "            continue\n",
    "        storage[i], storage[last] = storage[last], None\n",
    "        last -= 1\n",
    "        while storage[last] is None:\n",
    "            last -= 1\n",
    "        if last <= i+1:\n",
    "            break\n",
    "    return storage[:last+1]"
   ]
  },
  {
   "cell_type": "code",
   "execution_count": 7,
   "id": "60346e6f-2289-4175-b6fe-ef6e3a2d5d7c",
   "metadata": {},
   "outputs": [],
   "source": [
    "def part1(line):\n",
    "    storage = get_storage(line)\n",
    "    compacted = defrag(storage)\n",
    "    return sum(i*fileid for i, fileid in enumerate(compacted))"
   ]
  },
  {
   "cell_type": "code",
   "execution_count": 8,
   "id": "190e6e2d-a4fa-4632-8d9e-2db2af6b329b",
   "metadata": {},
   "outputs": [],
   "source": [
    "assert(1928 == part1(testline))"
   ]
  },
  {
   "cell_type": "code",
   "execution_count": 9,
   "id": "53e8e5c5-9dc4-4853-ad3f-18857fd19695",
   "metadata": {},
   "outputs": [
    {
     "data": {
      "text/plain": [
       "6283170117911"
      ]
     },
     "execution_count": 9,
     "metadata": {},
     "output_type": "execute_result"
    }
   ],
   "source": [
    "part1(data)"
   ]
  },
  {
   "cell_type": "markdown",
   "id": "5025ef07-d822-49ab-8a12-1f1f3b3690e5",
   "metadata": {},
   "source": [
    "## Part 2 ##"
   ]
  },
  {
   "cell_type": "code",
   "execution_count": 10,
   "id": "9cede34a-b69a-48c7-8e23-d75ecf15d5d1",
   "metadata": {},
   "outputs": [],
   "source": [
    "def get_storage2(line):\n",
    "    files = {}\n",
    "    loc = 0\n",
    "    fileid = 0\n",
    "    for i, c in enumerate(line):\n",
    "        if i%2 == 0:\n",
    "            # file block\n",
    "            sz = int(c)\n",
    "            files[fileid] = {'start': loc, 'size': sz}\n",
    "            fileid += 1\n",
    "            loc += sz\n",
    "        else:\n",
    "            # free space\n",
    "            sz = int(c)\n",
    "            loc += sz\n",
    "    return files   "
   ]
  },
  {
   "cell_type": "code",
   "execution_count": 11,
   "id": "53378055-f15d-4fc9-91af-6653a1b15e9a",
   "metadata": {},
   "outputs": [],
   "source": [
    "def get_free(files):\n",
    "    fileids_by_loc = {files[fileid]['start'] : fileid for fileid in files}\n",
    "    file_starts = sorted(fileids_by_loc.keys())\n",
    "    free = []\n",
    "    for file1pos, file2pos in itertools.pairwise(file_starts):\n",
    "        file1 = files[fileids_by_loc[file1pos]]\n",
    "        freepos = file1pos + file1['size']\n",
    "        freesz = file2pos - freepos\n",
    "        if freesz > 0:\n",
    "            free.append((freepos, freesz))\n",
    "    return free"
   ]
  },
  {
   "cell_type": "code",
   "execution_count": 12,
   "id": "84636f65-9c2d-4633-aae2-b7e28f943c95",
   "metadata": {},
   "outputs": [],
   "source": [
    "def defrag2(files):\n",
    "    newfiles = files.copy()\n",
    "    maxid = max(newfiles.keys())\n",
    "    for fileid in range(maxid, 0, -1):\n",
    "        free = get_free(newfiles)\n",
    "        file = newfiles[fileid]\n",
    "        filepos, filesz = file['start'], file['size']\n",
    "        for freepos, freesz in free:\n",
    "            if freepos >= filepos:\n",
    "                break\n",
    "            if freesz < filesz:\n",
    "                continue\n",
    "            file['start'] = freepos\n",
    "            break\n",
    "    return newfiles"
   ]
  },
  {
   "cell_type": "code",
   "execution_count": 13,
   "id": "3fad3206-b15f-4037-beb7-b9084598f0a8",
   "metadata": {},
   "outputs": [],
   "source": [
    "def checksum(files):\n",
    "    s = 0\n",
    "    for fileid in files:\n",
    "        file = files[fileid]\n",
    "        start, sz = file['start'], file['size']\n",
    "        for pos in range(start, start+sz):\n",
    "            s += pos*fileid\n",
    "    return s"
   ]
  },
  {
   "cell_type": "code",
   "execution_count": 14,
   "id": "3d64439c-b87b-4db3-ad51-8769d90349d2",
   "metadata": {},
   "outputs": [],
   "source": [
    "def part2(line):\n",
    "    files = get_storage2(line)\n",
    "    files = defrag2(files)\n",
    "    return checksum(files)"
   ]
  },
  {
   "cell_type": "code",
   "execution_count": 15,
   "id": "6362c902-6490-4a4b-b31d-beeabd820374",
   "metadata": {},
   "outputs": [],
   "source": [
    "assert(2858 == part2(testline))"
   ]
  },
  {
   "cell_type": "code",
   "execution_count": 16,
   "id": "484784cc-216d-4a9a-bc73-eb5e7bbc8526",
   "metadata": {},
   "outputs": [
    {
     "data": {
      "text/plain": [
       "6307653242596"
      ]
     },
     "execution_count": 16,
     "metadata": {},
     "output_type": "execute_result"
    }
   ],
   "source": [
    "part2(data)"
   ]
  },
  {
   "cell_type": "code",
   "execution_count": null,
   "id": "5da820ce-7aea-4edf-9ad9-a08e6bc1df3c",
   "metadata": {},
   "outputs": [],
   "source": []
  }
 ],
 "metadata": {
  "kernelspec": {
   "display_name": "Python 3 (ipykernel)",
   "language": "python",
   "name": "python3"
  },
  "language_info": {
   "codemirror_mode": {
    "name": "ipython",
    "version": 3
   },
   "file_extension": ".py",
   "mimetype": "text/x-python",
   "name": "python",
   "nbconvert_exporter": "python",
   "pygments_lexer": "ipython3",
   "version": "3.12.7"
  }
 },
 "nbformat": 4,
 "nbformat_minor": 5
}
