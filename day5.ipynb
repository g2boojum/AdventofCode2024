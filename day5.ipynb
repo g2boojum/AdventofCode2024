{
 "cells": [
  {
   "cell_type": "code",
   "execution_count": 1,
   "id": "04aaf8e3-7a4c-48c8-927a-3cb5700918b3",
   "metadata": {},
   "outputs": [],
   "source": [
    "%matplotlib inline\n",
    "import collections"
   ]
  },
  {
   "cell_type": "code",
   "execution_count": 2,
   "id": "8fd4bfbb-22d4-4c50-8b6a-370f46237c07",
   "metadata": {},
   "outputs": [],
   "source": [
    "testlines = '''47|53\n",
    "97|13\n",
    "97|61\n",
    "97|47\n",
    "75|29\n",
    "61|13\n",
    "75|53\n",
    "29|13\n",
    "97|29\n",
    "53|29\n",
    "61|53\n",
    "97|53\n",
    "61|29\n",
    "47|13\n",
    "75|47\n",
    "97|75\n",
    "47|61\n",
    "75|61\n",
    "47|29\n",
    "75|13\n",
    "53|13\n",
    "\n",
    "75,47,61,53,29\n",
    "97,61,53,29,13\n",
    "75,29,13\n",
    "75,97,47,61,53\n",
    "61,13,29\n",
    "97,13,75,29,47'''.splitlines()"
   ]
  },
  {
   "cell_type": "code",
   "execution_count": 3,
   "id": "7986b24f-d240-47bf-a6b4-c0be4ae4d17f",
   "metadata": {},
   "outputs": [],
   "source": [
    "with open('day5input.txt') as fp:\n",
    "    data = fp.read().splitlines()"
   ]
  },
  {
   "cell_type": "markdown",
   "id": "2447d01c-c831-481d-832d-e3976eeb790a",
   "metadata": {},
   "source": [
    "## Part 1 ##"
   ]
  },
  {
   "cell_type": "code",
   "execution_count": 4,
   "id": "a77e10ce-f739-4e32-b442-95bb16fba685",
   "metadata": {},
   "outputs": [],
   "source": [
    "def get_rules_and_updates(lines):\n",
    "    rules = collections.defaultdict(list)\n",
    "    updates = []\n",
    "    for line in lines:\n",
    "        if '|' in line:\n",
    "            before, after = line.split('|')\n",
    "            rules[int(before)].append(int(after))\n",
    "        elif ',' in line:\n",
    "            updates.append([int(num) for num in line.split(',')])\n",
    "    return rules, updates"
   ]
  },
  {
   "cell_type": "code",
   "execution_count": 6,
   "id": "24730e1c-0afa-493a-88db-0513c76ff8cc",
   "metadata": {},
   "outputs": [],
   "source": [
    "def is_valid(update, rules):\n",
    "    for i, ele in enumerate(update):\n",
    "        if ele in rules:\n",
    "            before = update[:i]\n",
    "            for i in rules[ele]:\n",
    "                if i in before:\n",
    "                    return False\n",
    "    return True"
   ]
  },
  {
   "cell_type": "code",
   "execution_count": 14,
   "id": "7070c662-f682-49b2-be71-7682c8ca8f97",
   "metadata": {},
   "outputs": [],
   "source": [
    "def part1(lines):\n",
    "    rules, updates = get_rules_and_updates(lines)\n",
    "    return sum(update[len(update)//2] for update in updates if is_valid(update, rules))"
   ]
  },
  {
   "cell_type": "code",
   "execution_count": 16,
   "id": "c1f314b3-0ac5-4b34-b4e8-8d7784226a5e",
   "metadata": {},
   "outputs": [],
   "source": [
    "assert(143 == part1(testlines))"
   ]
  },
  {
   "cell_type": "code",
   "execution_count": 17,
   "id": "ad73b87f-6a2e-4c10-8f2d-e97cc4a0d2f9",
   "metadata": {},
   "outputs": [
    {
     "data": {
      "text/plain": [
       "6267"
      ]
     },
     "execution_count": 17,
     "metadata": {},
     "output_type": "execute_result"
    }
   ],
   "source": [
    "part1(data)"
   ]
  },
  {
   "cell_type": "markdown",
   "id": "56d60366-03bd-4cd2-8caa-352c6a317c37",
   "metadata": {},
   "source": [
    "## Part 2 ##"
   ]
  },
  {
   "cell_type": "code",
   "execution_count": 25,
   "id": "2557c66b-8582-4163-9487-5e5661094d30",
   "metadata": {},
   "outputs": [],
   "source": [
    "def reorder(update, rules):\n",
    "    for rule in rules:\n",
    "        if rule not in update:\n",
    "            continue\n",
    "        rule_loc = update.index(rule)\n",
    "        before = update[:rule_loc]\n",
    "        for i, ele in enumerate(before):\n",
    "            if ele in rules[rule]:\n",
    "                # rule number needs to be before this (and all other) page numbers for the rule\n",
    "                update = before[:i] + [rule] + before[i:] + update[rule_loc+1:]\n",
    "                break\n",
    "    return update"
   ]
  },
  {
   "cell_type": "code",
   "execution_count": 30,
   "id": "a9629b3d-ecdd-4bbe-bb39-77e9fc1b01ba",
   "metadata": {},
   "outputs": [],
   "source": [
    "def part2(lines):\n",
    "    rules, updates = get_rules_and_updates(lines)\n",
    "    invalid = [update for update in updates if not is_valid(update, rules)]\n",
    "    count = 0\n",
    "    for update in invalid:\n",
    "        r = reorder(update, rules)\n",
    "        count += r[len(r)//2]\n",
    "    return count"
   ]
  },
  {
   "cell_type": "code",
   "execution_count": 31,
   "id": "a85f3d9c-1846-49b6-a076-9a4353994708",
   "metadata": {},
   "outputs": [
    {
     "data": {
      "text/plain": [
       "123"
      ]
     },
     "execution_count": 31,
     "metadata": {},
     "output_type": "execute_result"
    }
   ],
   "source": [
    "part2(testlines)"
   ]
  },
  {
   "cell_type": "code",
   "execution_count": null,
   "id": "ab0860b9-80e3-4753-a100-6bae06e58700",
   "metadata": {},
   "outputs": [],
   "source": []
  }
 ],
 "metadata": {
  "kernelspec": {
   "display_name": "Python 3 (ipykernel)",
   "language": "python",
   "name": "python3"
  },
  "language_info": {
   "codemirror_mode": {
    "name": "ipython",
    "version": 3
   },
   "file_extension": ".py",
   "mimetype": "text/x-python",
   "name": "python",
   "nbconvert_exporter": "python",
   "pygments_lexer": "ipython3",
   "version": "3.12.7"
  }
 },
 "nbformat": 4,
 "nbformat_minor": 5
}
