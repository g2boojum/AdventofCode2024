{
 "cells": [
  {
   "cell_type": "code",
   "execution_count": 8,
   "id": "7f7de993-a54c-4b12-b98b-234effbc1f11",
   "metadata": {},
   "outputs": [],
   "source": [
    "%matplotlib inline\n",
    "import numpy as np"
   ]
  },
  {
   "cell_type": "code",
   "execution_count": 6,
   "id": "8132b920-50cc-49d1-8b66-392a09615238",
   "metadata": {},
   "outputs": [],
   "source": [
    "testlines = \"\"\"7 6 4 2 1\n",
    "1 2 7 8 9\n",
    "9 7 6 2 1\n",
    "1 3 2 4 5\n",
    "8 6 4 4 1\n",
    "1 3 6 7 9\"\"\".splitlines()"
   ]
  },
  {
   "cell_type": "code",
   "execution_count": 14,
   "id": "540be01d-00f7-4c07-95f9-bcef84b22789",
   "metadata": {},
   "outputs": [],
   "source": [
    "with open('day2input.txt') as fp:\n",
    "    data = fp.read().splitlines()"
   ]
  },
  {
   "cell_type": "code",
   "execution_count": 5,
   "id": "a131c4b6-f846-4831-9e1d-21a704a2e7fb",
   "metadata": {},
   "outputs": [],
   "source": [
    "def is_safe(level):\n",
    "    dir = None\n",
    "    for a,b in zip(level, level[1:]):\n",
    "        if not dir:\n",
    "            if a < b:\n",
    "                dir = +1\n",
    "            elif b < a:\n",
    "                dir = -1\n",
    "            else:\n",
    "                # not increasing or decreasing\n",
    "                return False\n",
    "        diff = (b - a)*dir\n",
    "        if diff <= 0:\n",
    "            # switched from increasing to decreasing, or vice versa\n",
    "            return False\n",
    "        elif diff > 3:\n",
    "            # too big a change\n",
    "            return False\n",
    "    return True"
   ]
  },
  {
   "cell_type": "code",
   "execution_count": 4,
   "id": "61c17a28-413a-4836-b1ce-c24d26d86b38",
   "metadata": {},
   "outputs": [
    {
     "data": {
      "text/plain": [
       "[(1, 2), (2, 3)]"
      ]
     },
     "execution_count": 4,
     "metadata": {},
     "output_type": "execute_result"
    }
   ],
   "source": [
    "a = (1, 2, 3)\n",
    "list(zip(a, a[1:]))"
   ]
  },
  {
   "cell_type": "code",
   "execution_count": 9,
   "id": "6bb8e3aa-1c43-447f-98c2-5616d0cdc70f",
   "metadata": {},
   "outputs": [
    {
     "name": "stdout",
     "output_type": "stream",
     "text": [
      "True\n",
      "False\n",
      "False\n",
      "False\n",
      "False\n",
      "True\n"
     ]
    }
   ],
   "source": [
    "for line in testlines:\n",
    "    level = np.array(line.split(), dtype=int)\n",
    "    print(is_safe(level))"
   ]
  },
  {
   "cell_type": "code",
   "execution_count": 12,
   "id": "7120ef6e-c23f-41cd-9b11-9ad0506c8b70",
   "metadata": {},
   "outputs": [],
   "source": [
    "def part1(lines):\n",
    "    return sum(int(is_safe(np.array(line.split(), dtype=int))) for line in lines)"
   ]
  },
  {
   "cell_type": "code",
   "execution_count": 17,
   "id": "f06564e4-c12d-4f4c-a46c-d83ec4f2688e",
   "metadata": {},
   "outputs": [],
   "source": [
    "assert 2 == part1(testlines)"
   ]
  },
  {
   "cell_type": "code",
   "execution_count": 16,
   "id": "1c3d67b2-95e5-49e4-b143-2da96238f8ec",
   "metadata": {},
   "outputs": [
    {
     "data": {
      "text/plain": [
       "660"
      ]
     },
     "execution_count": 16,
     "metadata": {},
     "output_type": "execute_result"
    }
   ],
   "source": [
    "part1(data)"
   ]
  },
  {
   "cell_type": "markdown",
   "id": "ada7c9e3-7369-4acf-aa3f-c88900618605",
   "metadata": {},
   "source": [
    "## Part 2 ##"
   ]
  },
  {
   "cell_type": "code",
   "execution_count": 23,
   "id": "eaa95a8d-48ba-41f8-87fb-ab5e405e3feb",
   "metadata": {},
   "outputs": [],
   "source": [
    "def safe2(level):\n",
    "    if is_safe(level):\n",
    "        return True\n",
    "    damped = [level[:i]+level[i+1:] for i in range(len(level))]\n",
    "    if any(is_safe(d) for d in damped):\n",
    "        return True\n",
    "    return False \n",
    "    "
   ]
  },
  {
   "cell_type": "code",
   "execution_count": 24,
   "id": "4f585f88-62f3-4676-92e5-e9b201673c20",
   "metadata": {},
   "outputs": [
    {
     "data": {
      "text/plain": [
       "True"
      ]
     },
     "execution_count": 24,
     "metadata": {},
     "output_type": "execute_result"
    }
   ],
   "source": [
    "safe2((1, 2, 73, 4, 5))"
   ]
  },
  {
   "cell_type": "code",
   "execution_count": 25,
   "id": "75235718-a66e-415c-bf1c-562c61fb5d07",
   "metadata": {},
   "outputs": [],
   "source": [
    "def part2(lines):\n",
    "    s = 0\n",
    "    for line in lines:\n",
    "        level = [int(i) for i in line.split()]\n",
    "        if safe2(level):\n",
    "            s += 1\n",
    "    return s"
   ]
  },
  {
   "cell_type": "code",
   "execution_count": 28,
   "id": "f17c91fe-2de3-460f-8268-9789c35216d5",
   "metadata": {},
   "outputs": [],
   "source": [
    "assert(4 == part2(testlines))"
   ]
  },
  {
   "cell_type": "code",
   "execution_count": 27,
   "id": "e4ed2367-e213-4046-b12d-b924d006bf8f",
   "metadata": {},
   "outputs": [
    {
     "data": {
      "text/plain": [
       "689"
      ]
     },
     "execution_count": 27,
     "metadata": {},
     "output_type": "execute_result"
    }
   ],
   "source": [
    "part2(data)"
   ]
  },
  {
   "cell_type": "code",
   "execution_count": null,
   "id": "e334ede7-337a-4c87-a1f1-ae1a623228fa",
   "metadata": {},
   "outputs": [],
   "source": []
  }
 ],
 "metadata": {
  "kernelspec": {
   "display_name": "Python 3 (ipykernel)",
   "language": "python",
   "name": "python3"
  },
  "language_info": {
   "codemirror_mode": {
    "name": "ipython",
    "version": 3
   },
   "file_extension": ".py",
   "mimetype": "text/x-python",
   "name": "python",
   "nbconvert_exporter": "python",
   "pygments_lexer": "ipython3",
   "version": "3.12.7"
  }
 },
 "nbformat": 4,
 "nbformat_minor": 5
}
