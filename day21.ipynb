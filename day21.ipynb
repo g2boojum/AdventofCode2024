{
 "cells": [
  {
   "cell_type": "code",
   "execution_count": 1,
   "id": "74e92e6f-de31-4d27-9d74-e4542337341a",
   "metadata": {},
   "outputs": [],
   "source": [
    "import collections\n",
    "import itertools\n",
    "from functools import cache"
   ]
  },
  {
   "cell_type": "code",
   "execution_count": 2,
   "id": "7c31908e-3165-49cd-bc26-911da2235665",
   "metadata": {},
   "outputs": [],
   "source": [
    "testlines = '''029A\n",
    "980A\n",
    "179A\n",
    "456A\n",
    "379A'''.splitlines()"
   ]
  },
  {
   "cell_type": "code",
   "execution_count": 3,
   "id": "0335ae8e-4a07-492d-bff2-978679e99345",
   "metadata": {},
   "outputs": [],
   "source": [
    "data = '''671A\n",
    "279A\n",
    "083A\n",
    "974A\n",
    "386A'''.splitlines()"
   ]
  },
  {
   "cell_type": "markdown",
   "id": "7b4acf8e-b959-40b4-b508-1b624bd338c8",
   "metadata": {},
   "source": [
    "## Part 1 ##"
   ]
  },
  {
   "cell_type": "code",
   "execution_count": 4,
   "id": "d0e58c1d-4a73-4ee0-b64e-df9d8122f31c",
   "metadata": {},
   "outputs": [],
   "source": [
    "numpad = {'A': {'0': '<', '3': '^'},\n",
    "           '0': {'2': '^', 'A': '>'},\n",
    "           '1': {'2': '>', '4': '^'},\n",
    "           '2': {'0': 'v', '3': '>', '5': '^', '1': '<'},\n",
    "           '3': {'A': 'v', '2': '<', '6': '^'},\n",
    "           '4': {'1': 'v', '5': '>', '7': '^'},\n",
    "           '5': {'2': 'v', '6': '>', '8': '^', '4': '<'},\n",
    "           '6': {'3': 'v', '9': '^', '5': '<'},\n",
    "           '7': {'4': 'v', '8': '>'},\n",
    "           '8': {'5': 'v', '9': '>', '7': '<'},\n",
    "           '9': {'6': 'v', '8': '<'},\n",
    "          }"
   ]
  },
  {
   "cell_type": "code",
   "execution_count": 5,
   "id": "23b8edda-1acc-4810-b23f-51d07a75b4ee",
   "metadata": {},
   "outputs": [],
   "source": [
    "dirpad = {'A': {'>': 'v', '^': '<'},\n",
    "          '^': {'A': '>', 'v': 'v'},\n",
    "          '>': {'A': '^', 'v': '<'},\n",
    "          'v': {'>': '>', '^': '^', '<': '<'},\n",
    "          '<': {'v': '>'},\n",
    "         }"
   ]
  },
  {
   "cell_type": "code",
   "execution_count": 6,
   "id": "dd16b038-2d66-4ee9-a96b-5a4ecb8365da",
   "metadata": {},
   "outputs": [],
   "source": [
    "def get_path(graph, start, end):\n",
    "    if start == end:\n",
    "        return ''\n",
    "    frontier = collections.deque()\n",
    "    frontier.append(start)\n",
    "    came_from = {}\n",
    "    came_from[start] = None\n",
    "    while frontier:\n",
    "        current = frontier.popleft()\n",
    "        for adj in graph[current]:\n",
    "            if adj not in came_from:\n",
    "                frontier.append(adj)\n",
    "                came_from[adj] = current\n",
    "    prev = end\n",
    "    current = came_from[end]\n",
    "    path = [graph[current][prev]]\n",
    "    while current != start:\n",
    "        prev = current\n",
    "        current = came_from[prev]\n",
    "        path.append(graph[current][prev])\n",
    "    path.reverse()\n",
    "    return ''.join(path)"
   ]
  },
  {
   "cell_type": "code",
   "execution_count": 7,
   "id": "cb1f1db0-5025-43a0-9800-7aec90fedc65",
   "metadata": {},
   "outputs": [],
   "source": [
    "def moves_for_numpad_presses(numpad_presses):\n",
    "    paths = []\n",
    "    for start, end in itertools.pairwise(''.join(['A', numpad_presses])):\n",
    "        paths.append(get_path(numpad, start, end))\n",
    "    return 'A'.join(paths)+'A'"
   ]
  },
  {
   "cell_type": "code",
   "execution_count": 8,
   "id": "4aac17df-9141-4148-85e1-b0ac1444a3c4",
   "metadata": {},
   "outputs": [
    {
     "name": "stdout",
     "output_type": "stream",
     "text": [
      "029A :  <A^A>^^AvvvA\n",
      "980A :  ^^^A<AvvvA>A\n",
      "179A :  <^<A^^A>>AvvvA\n",
      "456A :  <^^<A>A>AvvA\n",
      "379A :  ^A<^^<A>>AvvvA\n"
     ]
    }
   ],
   "source": [
    "for seq in testlines:\n",
    "    print(seq, ': ', moves_for_numpad_presses(seq))"
   ]
  },
  {
   "cell_type": "code",
   "execution_count": 9,
   "id": "1bd83f12-37d1-42a9-be3a-50265317abf8",
   "metadata": {},
   "outputs": [],
   "source": [
    "def dirpad_for_dirpad_presses(seq):\n",
    "    paths = []\n",
    "    for start, end in itertools.pairwise(''.join(['A', seq])):\n",
    "        paths.append(get_path(dirpad, start, end))\n",
    "    return 'A'.join(paths)+'A'"
   ]
  },
  {
   "cell_type": "code",
   "execution_count": 10,
   "id": "3349ef1c-d81f-43b3-b8e9-84f9678c75ae",
   "metadata": {},
   "outputs": [
    {
     "data": {
      "text/plain": [
       "'v<<A>>^A<A>AvA^<AA>Av<AAA>^A'"
      ]
     },
     "execution_count": 10,
     "metadata": {},
     "output_type": "execute_result"
    }
   ],
   "source": [
    "dirpad_for_dirpad_presses('<A^A>^^AvvvA')"
   ]
  },
  {
   "cell_type": "code",
   "execution_count": 11,
   "id": "c905662e-457c-49f7-a410-abbab8d121b5",
   "metadata": {},
   "outputs": [
    {
     "data": {
      "text/plain": [
       "68"
      ]
     },
     "execution_count": 11,
     "metadata": {},
     "output_type": "execute_result"
    }
   ],
   "source": [
    "len(dirpad_for_dirpad_presses('v<<A>>^A<A>AvA^<AA>Av<AAA>^A'))"
   ]
  },
  {
   "cell_type": "code",
   "execution_count": 12,
   "id": "ff020597-e7a0-4d9d-b267-87be09dea12b",
   "metadata": {},
   "outputs": [
    {
     "data": {
      "text/plain": [
       "'<^<A^^A>>AvvvA'"
      ]
     },
     "execution_count": 12,
     "metadata": {},
     "output_type": "execute_result"
    }
   ],
   "source": [
    "moves_for_numpad_presses('179A')"
   ]
  },
  {
   "cell_type": "code",
   "execution_count": 13,
   "id": "0b46fb1e-7e60-47f8-875f-ae57500a3178",
   "metadata": {},
   "outputs": [
    {
     "data": {
      "text/plain": [
       "'v<<A>^Av<A>>^A<AA>AvAA^Av<AAA>^A'"
      ]
     },
     "execution_count": 13,
     "metadata": {},
     "output_type": "execute_result"
    }
   ],
   "source": [
    "dirpad_for_dirpad_presses(moves_for_numpad_presses('179A'))"
   ]
  },
  {
   "cell_type": "code",
   "execution_count": 14,
   "id": "df38600f-a885-40d7-9933-b4e0a247b312",
   "metadata": {},
   "outputs": [
    {
     "data": {
      "text/plain": [
       "76"
      ]
     },
     "execution_count": 14,
     "metadata": {},
     "output_type": "execute_result"
    }
   ],
   "source": [
    "len(dirpad_for_dirpad_presses(dirpad_for_dirpad_presses(moves_for_numpad_presses('179A'))))"
   ]
  },
  {
   "cell_type": "markdown",
   "id": "b53397a8-9a40-4dfd-865a-9eb2f45d7cec",
   "metadata": {},
   "source": [
    "That's not right!  Shortest overall path needs to optimize between dirpads. Paths that lead to repeated directions or As is best. It's a multi-level pathing problem.\n",
    "Let's borrow from https://www.reddit.com/r/adventofcode/comments/1hj2odw/comment/m4ui1sy/"
   ]
  },
  {
   "cell_type": "code",
   "execution_count": 15,
   "id": "74978ed2-8e4a-4db9-853e-9d88e9534957",
   "metadata": {},
   "outputs": [],
   "source": [
    "NUMERIC = '789', '456', '123', ' 0A'\n",
    "DIRECTIONAL = ' ^A', '<v>'\n",
    "\n",
    "def walk(keypad, x, y, path):\n",
    "    for direction in path:\n",
    "        neighbors = (x - 1, y), (x + 1, y), (x, y - 1), (x, y + 1)\n",
    "        x, y = neighbors['<>^v'.index(direction)]\n",
    "        yield keypad[y][x]\n",
    "\n",
    "def paths_between(keypad, start, end):\n",
    "    x1, y1 = next((x, y) for y, row in enumerate(keypad)\n",
    "                         for x, key in enumerate(row) if key == start)\n",
    "    x2, y2 = next((x, y) for y, row in enumerate(keypad)\n",
    "                         for x, key in enumerate(row) if key == end)\n",
    "    hor = '<>'[x2 > x1] * abs(x2 - x1)\n",
    "    ver = '^v'[y2 > y1] * abs(y2 - y1)\n",
    "    return tuple(path + 'A' for path in {hor + ver, ver + hor}\n",
    "                 if ' ' not in walk(keypad, x1, y1, path))"
   ]
  },
  {
   "cell_type": "markdown",
   "id": "91cf54fb-5c2f-4b6b-89e5-c1cb3938cebd",
   "metadata": {},
   "source": [
    "Shortest path for downstream keypads will always correspond to repeated keypresses. So, L-shaped movements: up or down, followed by left or right, or vice versa.\n",
    "If one of the L's goes through the gap, then it's not a valid solution.  So lots of cases of only one path, but some will have 2."
   ]
  },
  {
   "cell_type": "code",
   "execution_count": 16,
   "id": "3d0579cf-b457-4ed1-ae2e-1b7b0decb85d",
   "metadata": {},
   "outputs": [
    {
     "data": {
      "text/plain": [
       "('^^<A', '<^^A')"
      ]
     },
     "execution_count": 16,
     "metadata": {},
     "output_type": "execute_result"
    }
   ],
   "source": [
    "paths_between(NUMERIC, 'A', '5') # two valid L's"
   ]
  },
  {
   "cell_type": "code",
   "execution_count": 17,
   "id": "a70391d1-1d91-431c-b561-2fe9ef64aa82",
   "metadata": {},
   "outputs": [
    {
     "data": {
      "text/plain": [
       "('v<<A',)"
      ]
     },
     "execution_count": 17,
     "metadata": {},
     "output_type": "execute_result"
    }
   ],
   "source": [
    "paths_between(DIRECTIONAL, 'A', '<') # only one valid L, down then over, since over then down would go through the gap."
   ]
  },
  {
   "cell_type": "markdown",
   "id": "e14214de-da6e-4013-bf8b-8bc78f3140d5",
   "metadata": {},
   "source": [
    "I would not have come up with the following, which is a memoized, recursive solution."
   ]
  },
  {
   "cell_type": "code",
   "execution_count": 18,
   "id": "918e78cb-8ded-4ce1-979c-e44250e74bf7",
   "metadata": {},
   "outputs": [],
   "source": [
    "@cache\n",
    "def cost_between(keypad, start, end, links):\n",
    "    return min(cost(DIRECTIONAL, path, links - 1)\n",
    "               for path in paths_between(keypad, start, end)) if links else 1\n",
    "\n",
    "@cache\n",
    "def cost(keypad, keys, links):\n",
    "    return sum(cost_between(keypad, a, b, links)\n",
    "               for a, b in itertools.pairwise('A' + keys))"
   ]
  },
  {
   "cell_type": "code",
   "execution_count": 19,
   "id": "fe932b94-7c4a-4ed2-a752-fce234a3d8bf",
   "metadata": {},
   "outputs": [
    {
     "data": {
      "text/plain": [
       "68"
      ]
     },
     "execution_count": 19,
     "metadata": {},
     "output_type": "execute_result"
    }
   ],
   "source": [
    "cost(NUMERIC, '179A', 3) # gives the correct answer, not my incorrect one."
   ]
  },
  {
   "cell_type": "code",
   "execution_count": 20,
   "id": "c31b317a-6288-480c-addf-915fa0ad4971",
   "metadata": {},
   "outputs": [
    {
     "data": {
      "text/plain": [
       "81251039228"
      ]
     },
     "execution_count": 20,
     "metadata": {},
     "output_type": "execute_result"
    }
   ],
   "source": [
    "cost(NUMERIC, '179A', 26)"
   ]
  },
  {
   "cell_type": "code",
   "execution_count": 21,
   "id": "97befad1-f35d-4170-99d0-b7af3d5dcdff",
   "metadata": {},
   "outputs": [
    {
     "name": "stdout",
     "output_type": "stream",
     "text": [
      "171596\n",
      "209268004868246\n"
     ]
    }
   ],
   "source": [
    "def complexity(code, robots):\n",
    "    return cost(NUMERIC, code, robots + 1) * int(code[:-1])\n",
    "\n",
    "print(sum(complexity(code, 2) for code in data))\n",
    "print(sum(complexity(code, 25) for code in data))"
   ]
  },
  {
   "cell_type": "code",
   "execution_count": null,
   "id": "7cd06065-4363-46ae-8575-f659c446916b",
   "metadata": {},
   "outputs": [],
   "source": []
  }
 ],
 "metadata": {
  "kernelspec": {
   "display_name": "Python 3 (ipykernel)",
   "language": "python",
   "name": "python3"
  },
  "language_info": {
   "codemirror_mode": {
    "name": "ipython",
    "version": 3
   },
   "file_extension": ".py",
   "mimetype": "text/x-python",
   "name": "python",
   "nbconvert_exporter": "python",
   "pygments_lexer": "ipython3",
   "version": "3.12.7"
  }
 },
 "nbformat": 4,
 "nbformat_minor": 5
}
