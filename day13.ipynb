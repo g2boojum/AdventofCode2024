{
 "cells": [
  {
   "cell_type": "code",
   "execution_count": 1,
   "id": "a6aadb40-29d4-4103-98f2-53adce1c8aeb",
   "metadata": {},
   "outputs": [],
   "source": [
    "import numpy as np"
   ]
  },
  {
   "cell_type": "code",
   "execution_count": 2,
   "id": "aba4f202-a543-4086-8a9c-1552f0161415",
   "metadata": {},
   "outputs": [],
   "source": [
    "testlines = '''Button A: X+94, Y+34\n",
    "Button B: X+22, Y+67\n",
    "Prize: X=8400, Y=5400\n",
    "\n",
    "Button A: X+26, Y+66\n",
    "Button B: X+67, Y+21\n",
    "Prize: X=12748, Y=12176\n",
    "\n",
    "Button A: X+17, Y+86\n",
    "Button B: X+84, Y+37\n",
    "Prize: X=7870, Y=6450\n",
    "\n",
    "Button A: X+69, Y+23\n",
    "Button B: X+27, Y+71\n",
    "Prize: X=18641, Y=10279'''.splitlines()"
   ]
  },
  {
   "cell_type": "code",
   "execution_count": 3,
   "id": "26c315c3-3c88-4f51-97e1-ef0e2e2a386a",
   "metadata": {},
   "outputs": [],
   "source": [
    "with open('day13input.txt') as fp:\n",
    "    data = fp.read().splitlines()"
   ]
  },
  {
   "cell_type": "markdown",
   "id": "931b6859-fc46-4839-8ca5-507226e3974e",
   "metadata": {},
   "source": [
    "## Part 1 ##"
   ]
  },
  {
   "cell_type": "code",
   "execution_count": 4,
   "id": "7076aa82-2e63-4ce9-b834-11715e6c6732",
   "metadata": {},
   "outputs": [],
   "source": [
    "Acost, Bcost = 3, 1"
   ]
  },
  {
   "cell_type": "code",
   "execution_count": 5,
   "id": "b811505e-9bf5-434a-b225-fa2fbd27f2b9",
   "metadata": {},
   "outputs": [],
   "source": [
    "def get_machines(lines):\n",
    "    machines = []\n",
    "    for line in lines:\n",
    "        if '' == line.strip():\n",
    "            continue\n",
    "        pos_str = line.split(':')[1].split(',')\n",
    "        x,y = int(pos_str[0].strip()[2:]), int(pos_str[1].strip()[2:])\n",
    "        if 'A' in line:\n",
    "           machine = {'A': (x,y)}\n",
    "        elif 'B' in line:\n",
    "            machine['B'] = (x,y)\n",
    "        elif 'Prize' in line:\n",
    "            machine['Prize'] = (x,y)\n",
    "            machines.append(machine)\n",
    "        else:\n",
    "            raise ValueError(f'Bad data: {line}')\n",
    "    return machines    "
   ]
  },
  {
   "cell_type": "code",
   "execution_count": 6,
   "id": "83268e0b-ccd3-4cb0-a771-7b1a638d14c0",
   "metadata": {},
   "outputs": [],
   "source": [
    "def solve(machine):\n",
    "    (ax, ay),(bx, by) = machine['A'], machine['B']\n",
    "    Px, Py = machine['Prize']\n",
    "    a = np.array([[ax, bx], [ay, by]])\n",
    "    b = np.array([Px, Py])\n",
    "    na, nb = np.linalg.solve(a, b)\n",
    "    return na, nb"
   ]
  },
  {
   "cell_type": "code",
   "execution_count": 7,
   "id": "f74aa846-566b-48bb-9cd5-b02dd80e2a61",
   "metadata": {},
   "outputs": [],
   "source": [
    "def part1(lines):\n",
    "    machines = get_machines(lines)\n",
    "    cost = 0\n",
    "    tol = 1e-7\n",
    "    for machine in machines:\n",
    "        na, nb = solve(machine)\n",
    "        machine['Solution'] = na, nb\n",
    "        naint, nbint = round(na), round(nb)\n",
    "        if (np.abs(na-naint) < tol) and (np.abs(nb-nbint) < tol) and :\n",
    "            cost += Acost*naint + Bcost*nbint\n",
    "    return cost"
   ]
  },
  {
   "cell_type": "code",
   "execution_count": 9,
   "id": "c23e9439-730b-436f-a4f4-8f2d6d501d45",
   "metadata": {},
   "outputs": [],
   "source": [
    "assert(480 == part1(testlines))"
   ]
  },
  {
   "cell_type": "code",
   "execution_count": 10,
   "id": "1a86c00e-c3d5-49a7-8e18-a7763bf93bd1",
   "metadata": {},
   "outputs": [
    {
     "data": {
      "text/plain": [
       "30973"
      ]
     },
     "execution_count": 10,
     "metadata": {},
     "output_type": "execute_result"
    }
   ],
   "source": [
    "part1(data)"
   ]
  },
  {
   "cell_type": "markdown",
   "id": "fa5f7d54-896e-4898-bf56-f71d28c5a508",
   "metadata": {},
   "source": [
    "## Part 2 ##"
   ]
  },
  {
   "cell_type": "code",
   "execution_count": 11,
   "id": "710aed6a-3504-41b1-ab88-dc1b3dd3fe34",
   "metadata": {},
   "outputs": [],
   "source": [
    "def get_machines2(lines):\n",
    "    machines = []\n",
    "    for line in lines:\n",
    "        if '' == line.strip():\n",
    "            continue\n",
    "        pos_str = line.split(':')[1].split(',')\n",
    "        x,y = int(pos_str[0].strip()[2:]), int(pos_str[1].strip()[2:])\n",
    "        if 'A' in line:\n",
    "           machine = {'A': (x,y)}\n",
    "        elif 'B' in line:\n",
    "            machine['B'] = (x,y)\n",
    "        elif 'Prize' in line:\n",
    "            machine['Prize'] = (x+10000000000000,y+10000000000000)\n",
    "            machines.append(machine)\n",
    "        else:\n",
    "            raise ValueError(f'Bad data: {line}')\n",
    "    return machines    "
   ]
  },
  {
   "cell_type": "code",
   "execution_count": 32,
   "id": "6dbb4fdc-2bc4-4f0b-a381-2b386ebd2361",
   "metadata": {},
   "outputs": [],
   "source": [
    "def part2(lines):\n",
    "    machines = get_machines2(lines)\n",
    "    cost = 0\n",
    "    tol = 1e-4\n",
    "    for machine in machines:\n",
    "        na, nb = solve(machine)\n",
    "        machine['Solution'] = na, nb\n",
    "        naint, nbint = round(na), round(nb)\n",
    "        if (np.abs(na-naint) < tol) and (np.abs(nb-nbint) < tol):\n",
    "            cost += Acost*naint + Bcost*nbint\n",
    "    return cost"
   ]
  },
  {
   "cell_type": "code",
   "execution_count": 33,
   "id": "81dafab9-7fb1-4a86-bdb2-a70be303714e",
   "metadata": {},
   "outputs": [
    {
     "data": {
      "text/plain": [
       "875318608908"
      ]
     },
     "execution_count": 33,
     "metadata": {},
     "output_type": "execute_result"
    }
   ],
   "source": [
    "part2(testlines)"
   ]
  },
  {
   "cell_type": "code",
   "execution_count": 34,
   "id": "376542c2-3776-4bce-a148-62454289bcc5",
   "metadata": {},
   "outputs": [
    {
     "data": {
      "text/plain": [
       "95688837203288"
      ]
     },
     "execution_count": 34,
     "metadata": {},
     "output_type": "execute_result"
    }
   ],
   "source": [
    "part2(data)"
   ]
  }
 ],
 "metadata": {
  "kernelspec": {
   "display_name": "Python 3 (ipykernel)",
   "language": "python",
   "name": "python3"
  },
  "language_info": {
   "codemirror_mode": {
    "name": "ipython",
    "version": 3
   },
   "file_extension": ".py",
   "mimetype": "text/x-python",
   "name": "python",
   "nbconvert_exporter": "python",
   "pygments_lexer": "ipython3",
   "version": "3.12.7"
  }
 },
 "nbformat": 4,
 "nbformat_minor": 5
}
