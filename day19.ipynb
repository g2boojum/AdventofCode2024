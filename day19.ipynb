{
 "cells": [
  {
   "cell_type": "code",
   "execution_count": 12,
   "id": "52159b7b-f8c9-4c30-8460-686893739925",
   "metadata": {},
   "outputs": [],
   "source": [
    "import heapq\n",
    "from functools import cache"
   ]
  },
  {
   "cell_type": "code",
   "execution_count": 2,
   "id": "579113ab-338b-447b-866d-7daf33122813",
   "metadata": {},
   "outputs": [],
   "source": [
    "testlines = '''r, wr, b, g, bwu, rb, gb, br\n",
    "\n",
    "brwrr\n",
    "bggr\n",
    "gbbr\n",
    "rrbgbr\n",
    "ubwu\n",
    "bwurrg\n",
    "brgr\n",
    "bbrgwb'''"
   ]
  },
  {
   "cell_type": "code",
   "execution_count": 3,
   "id": "557b0b8c-56ed-4ee0-9bc1-501526fb5853",
   "metadata": {},
   "outputs": [],
   "source": [
    "with open('day19input.txt') as fp:\n",
    "    data = fp.read()"
   ]
  },
  {
   "cell_type": "markdown",
   "id": "d207a545-c623-4711-abad-f6ca82739d34",
   "metadata": {},
   "source": [
    "## Part 1 ##"
   ]
  },
  {
   "cell_type": "code",
   "execution_count": 4,
   "id": "e347f25f-b570-420c-944a-3727abb07d96",
   "metadata": {},
   "outputs": [],
   "source": [
    "def get_towels_and_patterns(lines):\n",
    "    tline, plines = lines.split('\\n\\n')\n",
    "    towels = set(t.strip() for t in tline.split(','))\n",
    "    patterns = [line.strip() for line in plines.splitlines()]\n",
    "    return towels, patterns"
   ]
  },
  {
   "cell_type": "code",
   "execution_count": 5,
   "id": "5c50fed9-b584-4332-b3e8-d8f974714088",
   "metadata": {},
   "outputs": [],
   "source": [
    "def is_possible(pattern, towels):\n",
    "    q = [(len(pattern), pattern)]\n",
    "    seen = set()\n",
    "    while q:\n",
    "        _, fragment = heapq.heappop(q)\n",
    "        if fragment in towels:\n",
    "            return True\n",
    "        for towel in towels:\n",
    "            tlen = len(towel)\n",
    "            if towel == fragment[:tlen]:\n",
    "                remainder = fragment[tlen:]\n",
    "                if remainder not in seen:\n",
    "                    seen.add(remainder)\n",
    "                    heapq.heappush(q, (len(remainder), remainder))\n",
    "    return False"
   ]
  },
  {
   "cell_type": "code",
   "execution_count": 6,
   "id": "7fef3e14-4a5d-43f2-a7ef-fff0cfa843ba",
   "metadata": {},
   "outputs": [],
   "source": [
    "def part1(lines):\n",
    "    towels, patterns = get_towels_and_patterns(lines)\n",
    "    count = 0\n",
    "    for pattern in patterns:\n",
    "        if is_possible(pattern, towels):\n",
    "            count += 1\n",
    "    return count"
   ]
  },
  {
   "cell_type": "code",
   "execution_count": 7,
   "id": "2dca6103-8411-48d9-a08a-c62645bbfb01",
   "metadata": {},
   "outputs": [],
   "source": [
    "assert(6 == part1(testlines))"
   ]
  },
  {
   "cell_type": "code",
   "execution_count": 8,
   "id": "9fe28c06-7cee-4a31-b1ed-ad2f59b9ac16",
   "metadata": {},
   "outputs": [
    {
     "data": {
      "text/plain": [
       "365"
      ]
     },
     "execution_count": 8,
     "metadata": {},
     "output_type": "execute_result"
    }
   ],
   "source": [
    "part1(data)"
   ]
  },
  {
   "cell_type": "markdown",
   "id": "451f3bbe-2fe5-4917-a756-5114185d1f55",
   "metadata": {},
   "source": [
    "## Part 2 ##\n",
    "\n",
    "Borrowing from https://www.reddit.com/r/adventofcode/comments/1hhlb8g/comment/m2tn8lz/, since they also did a queue approach for part 1"
   ]
  },
  {
   "cell_type": "code",
   "execution_count": 28,
   "id": "2dd542ae-afb8-46a2-923e-35fb763dbdfb",
   "metadata": {},
   "outputs": [],
   "source": [
    "def part2(lines):\n",
    "    towels, patterns = get_towels_and_patterns(lines)\n",
    "    maxlen = max(len(towel) for towel in towels)\n",
    "\n",
    "    @cache\n",
    "    def count_possible(pattern, maxlen):\n",
    "        mymax = min(maxlen, len(pattern))\n",
    "        count = 0\n",
    "        if pattern in towels:\n",
    "            count += 1\n",
    "        for sz in range(1, mymax+1):\n",
    "            if pattern[:sz] in towels:\n",
    "                count += count_possible(pattern[sz:], maxlen)\n",
    "        return count\n",
    "\n",
    "    return sum(count_possible(pattern, maxlen) for pattern in patterns)"
   ]
  },
  {
   "cell_type": "code",
   "execution_count": 30,
   "id": "916ca3d6-cc4d-4fb2-9938-a5d7d00c36ab",
   "metadata": {},
   "outputs": [],
   "source": [
    "assert(16 == part2(testlines))"
   ]
  },
  {
   "cell_type": "code",
   "execution_count": 31,
   "id": "f0504c4c-529b-4257-b282-876e930e3f54",
   "metadata": {},
   "outputs": [
    {
     "data": {
      "text/plain": [
       "730121486795169"
      ]
     },
     "execution_count": 31,
     "metadata": {},
     "output_type": "execute_result"
    }
   ],
   "source": [
    "part2(data)"
   ]
  }
 ],
 "metadata": {
  "kernelspec": {
   "display_name": "Python 3 (ipykernel)",
   "language": "python",
   "name": "python3"
  },
  "language_info": {
   "codemirror_mode": {
    "name": "ipython",
    "version": 3
   },
   "file_extension": ".py",
   "mimetype": "text/x-python",
   "name": "python",
   "nbconvert_exporter": "python",
   "pygments_lexer": "ipython3",
   "version": "3.12.7"
  }
 },
 "nbformat": 4,
 "nbformat_minor": 5
}
