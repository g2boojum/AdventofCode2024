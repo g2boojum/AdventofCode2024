{
 "cells": [
  {
   "cell_type": "code",
   "execution_count": 1,
   "id": "828fd544-9874-4853-bca5-b9ec03908af0",
   "metadata": {},
   "outputs": [],
   "source": [
    "import collections\n",
    "import itertools"
   ]
  },
  {
   "cell_type": "code",
   "execution_count": 2,
   "id": "6ce38b34-618a-41d4-a955-6d7c06df9a3b",
   "metadata": {},
   "outputs": [],
   "source": [
    "testlines = '''kh-tc\n",
    "qp-kh\n",
    "de-cg\n",
    "ka-co\n",
    "yn-aq\n",
    "qp-ub\n",
    "cg-tb\n",
    "vc-aq\n",
    "tb-ka\n",
    "wh-tc\n",
    "yn-cg\n",
    "kh-ub\n",
    "ta-co\n",
    "de-co\n",
    "tc-td\n",
    "tb-wq\n",
    "wh-td\n",
    "ta-ka\n",
    "td-qp\n",
    "aq-cg\n",
    "wq-ub\n",
    "ub-vc\n",
    "de-ta\n",
    "wq-aq\n",
    "wq-vc\n",
    "wh-yn\n",
    "ka-de\n",
    "kh-ta\n",
    "co-tc\n",
    "wh-qp\n",
    "tb-vc\n",
    "td-yn'''.splitlines()"
   ]
  },
  {
   "cell_type": "code",
   "execution_count": 3,
   "id": "98a54af9-508d-4c53-8d2b-0fea01dc4d35",
   "metadata": {},
   "outputs": [],
   "source": [
    "with open('day23input.txt') as fp:\n",
    "    data = fp.read().splitlines()"
   ]
  },
  {
   "cell_type": "markdown",
   "id": "9960ef29-5c4d-4ae2-9cd6-6e1c42b19860",
   "metadata": {},
   "source": [
    "## Part 1 ##"
   ]
  },
  {
   "cell_type": "code",
   "execution_count": 4,
   "id": "e5dac288-8000-441e-bba5-ad1b03ae13ee",
   "metadata": {},
   "outputs": [],
   "source": [
    "def get_connections(lines):\n",
    "    conn = collections.defaultdict(list)\n",
    "    for line in lines:\n",
    "        a, b = line.split('-')\n",
    "        conn[a].append(b)\n",
    "        conn[b].append(a)\n",
    "    return conn"
   ]
  },
  {
   "cell_type": "code",
   "execution_count": 5,
   "id": "e6198d7d-3953-4b75-a96c-af74f604b1df",
   "metadata": {},
   "outputs": [],
   "source": [
    "def find_triples(conn):\n",
    "    triples = set()\n",
    "    for key in conn:\n",
    "        for a, b in itertools.combinations(conn[key], 2):\n",
    "            if b in conn[a]:\n",
    "                triple = tuple(sorted([key, a, b]))\n",
    "                if triple not in triples:\n",
    "                    triples.add(triple)\n",
    "    return triples"
   ]
  },
  {
   "cell_type": "code",
   "execution_count": 6,
   "id": "8b5c7795-8f95-4c13-ab81-44ee355299b6",
   "metadata": {},
   "outputs": [],
   "source": [
    "def part1(lines):\n",
    "    conn = get_connections(lines)\n",
    "    triples = find_triples(conn)\n",
    "    return sum(1 for a,b,c in triples if a[0] == 't' or  b[0] == 't' or c[0] == 't')\n",
    "    "
   ]
  },
  {
   "cell_type": "code",
   "execution_count": 7,
   "id": "70e642d2-29a1-4783-bd6a-de6f18f139bf",
   "metadata": {},
   "outputs": [],
   "source": [
    "assert(7 == part1(testlines))"
   ]
  },
  {
   "cell_type": "code",
   "execution_count": 8,
   "id": "39834823-f638-4f1f-bd6c-c78a789e0807",
   "metadata": {},
   "outputs": [
    {
     "data": {
      "text/plain": [
       "1378"
      ]
     },
     "execution_count": 8,
     "metadata": {},
     "output_type": "execute_result"
    }
   ],
   "source": [
    "part1(data)"
   ]
  },
  {
   "cell_type": "markdown",
   "id": "f709cd85-6c22-4188-9ca3-c27f3fa4afca",
   "metadata": {},
   "source": [
    "## Part 2 ##"
   ]
  },
  {
   "cell_type": "code",
   "execution_count": 9,
   "id": "bf401a34-6ac0-4efb-93c6-6fd31deefb04",
   "metadata": {},
   "outputs": [],
   "source": [
    "conn = get_connections(testlines)"
   ]
  },
  {
   "cell_type": "code",
   "execution_count": 10,
   "id": "23c50c08-ff2f-443a-931f-41e4e4d6eae7",
   "metadata": {},
   "outputs": [],
   "source": [
    "def is_all_connected(machines, conn):\n",
    "    for a,b in itertools.combinations(machines, 2):\n",
    "        if a in conn[b]:\n",
    "            continue\n",
    "        return False\n",
    "    return True"
   ]
  },
  {
   "cell_type": "code",
   "execution_count": 11,
   "id": "ffa8dca9-514b-4bc5-ae33-9ef4b8bf4352",
   "metadata": {},
   "outputs": [],
   "source": [
    "def max_connected(machine, conn, curr_max):\n",
    "    sz = len(conn[machine])\n",
    "    for i in range(sz, curr_max, -1):\n",
    "        for machines in itertools.combinations([machine] + conn[machine], i):\n",
    "            if is_all_connected(machines, conn):\n",
    "                return i, machines\n",
    "    return 0, []"
   ]
  },
  {
   "cell_type": "code",
   "execution_count": 12,
   "id": "7554aadd-1242-4d9a-b602-11ed8c8db412",
   "metadata": {},
   "outputs": [],
   "source": [
    "def part2(lines, thresh):\n",
    "    conn = get_connections(lines)\n",
    "    stars = {}\n",
    "    curr_max = thresh # should be too low\n",
    "    for machine in conn:\n",
    "        stars[machine] = max_connected(machine, conn, curr_max)\n",
    "        if stars[machine][0] > curr_max:\n",
    "            curr_max = stars[machine][0]\n",
    "    max_sz = max(stars[machine][0] for machine in stars)\n",
    "    for machine in stars:\n",
    "        if stars[machine][0] == max_sz:\n",
    "            return ','.join(sorted(stars[machine][1]))"
   ]
  },
  {
   "cell_type": "code",
   "execution_count": 13,
   "id": "a3e6e5ab-cb1c-4009-ae2d-9979abccfd07",
   "metadata": {},
   "outputs": [],
   "source": [
    "assert('co,de,ka,ta' == part2(testlines, 2))"
   ]
  },
  {
   "cell_type": "code",
   "execution_count": 14,
   "id": "d3037278-af57-4475-9cf1-3bb835276b92",
   "metadata": {},
   "outputs": [
    {
     "data": {
      "text/plain": [
       "'bs,ey,fq,fy,he,ii,lh,ol,tc,uu,wl,xq,xv'"
      ]
     },
     "execution_count": 14,
     "metadata": {},
     "output_type": "execute_result"
    }
   ],
   "source": [
    "part2(data, 10)"
   ]
  },
  {
   "cell_type": "markdown",
   "id": "25426fa8-8ff4-4bcd-b40a-c1894e28f3ab",
   "metadata": {},
   "source": [
    "## Bron-Kerbosch solution ##\n",
    "\n",
    "from https://www.reddit.com/r/adventofcode/comments/1hkgj5b/comment/m4vwsx9/"
   ]
  },
  {
   "cell_type": "code",
   "execution_count": 17,
   "id": "be696985-c9f1-4835-8d9a-2b9cea2605bc",
   "metadata": {},
   "outputs": [],
   "source": [
    "network = collections.defaultdict(set)\n",
    "for line in data:\n",
    "    a,b = line.rstrip().split('-')\n",
    "    network[a].add(b)\n",
    "    network[b].add(a)"
   ]
  },
  {
   "cell_type": "code",
   "execution_count": 21,
   "id": "2d5e4fc6-9d2a-4071-8ff4-ae717f0d4659",
   "metadata": {},
   "outputs": [],
   "source": [
    "def max_cliques(graph):\n",
    "    # https://en.wikipedia.org/wiki/Bron%E2%80%93Kerbosch_algorithm\n",
    "    def bron_kerbosch(r, p, x):\n",
    "        if not p and not x:\n",
    "            yield ','.join(sorted(r))\n",
    "        while p:\n",
    "            v = p.pop()\n",
    "            yield from bron_kerbosch(r | {v}, p & graph[v], x & graph[v])\n",
    "            x.add(v)\n",
    "    yield from bron_kerbosch(set(), set(graph), set())"
   ]
  },
  {
   "cell_type": "code",
   "execution_count": 23,
   "id": "b5e6ea4a-170d-4be7-ab60-e4d4d9dd1680",
   "metadata": {},
   "outputs": [
    {
     "name": "stdout",
     "output_type": "stream",
     "text": [
      "bs,ey,fq,fy,he,ii,lh,ol,tc,uu,wl,xq,xv\n"
     ]
    }
   ],
   "source": [
    "print(max(max_cliques(network), key=len))"
   ]
  },
  {
   "cell_type": "code",
   "execution_count": null,
   "id": "5e57c96a-2add-44c5-abc5-4ae1fc2e0229",
   "metadata": {},
   "outputs": [],
   "source": []
  }
 ],
 "metadata": {
  "kernelspec": {
   "display_name": "Python 3 (ipykernel)",
   "language": "python",
   "name": "python3"
  },
  "language_info": {
   "codemirror_mode": {
    "name": "ipython",
    "version": 3
   },
   "file_extension": ".py",
   "mimetype": "text/x-python",
   "name": "python",
   "nbconvert_exporter": "python",
   "pygments_lexer": "ipython3",
   "version": "3.12.7"
  }
 },
 "nbformat": 4,
 "nbformat_minor": 5
}
