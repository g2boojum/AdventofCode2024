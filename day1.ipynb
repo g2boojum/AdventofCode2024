{
 "cells": [
  {
   "cell_type": "code",
   "execution_count": 7,
   "id": "631b809a-1244-49ec-be07-9d09a960c633",
   "metadata": {},
   "outputs": [],
   "source": [
    "%matplotlib inline\n",
    "import numpy as np"
   ]
  },
  {
   "cell_type": "code",
   "execution_count": 2,
   "id": "9c683699-1a65-4a7a-b036-6dd61e44ec49",
   "metadata": {},
   "outputs": [],
   "source": [
    "testlines = \"\"\"3   4\n",
    "4   3\n",
    "2   5\n",
    "1   3\n",
    "3   9\n",
    "3   3\"\"\".splitlines()"
   ]
  },
  {
   "cell_type": "code",
   "execution_count": 3,
   "id": "0ecffb58-4fd0-4f83-ab72-e19ce2cb0f8a",
   "metadata": {},
   "outputs": [],
   "source": [
    "with open('day1input.txt') as fp:\n",
    "    data = fp.read().splitlines()"
   ]
  },
  {
   "cell_type": "markdown",
   "id": "ed5062db-eb44-448d-a98e-5d1e507b4b44",
   "metadata": {},
   "source": [
    "## Part 1"
   ]
  },
  {
   "cell_type": "code",
   "execution_count": 16,
   "id": "57354b86-96e4-4a23-bde3-6ac35461564d",
   "metadata": {},
   "outputs": [],
   "source": [
    "def get_lists(lines):\n",
    "    lf = []\n",
    "    rt = []\n",
    "    for line in lines:\n",
    "        a, b = line.split()\n",
    "        lf.append(a)\n",
    "        rt.append(b)\n",
    "    lf = np.array(lf, dtype=int)\n",
    "    rt = np.array(rt, dtype=int)\n",
    "    lf.sort()\n",
    "    rt.sort()\n",
    "    return lf, rt"
   ]
  },
  {
   "cell_type": "code",
   "execution_count": 17,
   "id": "58d5a8f7-1c73-40cb-af00-dd6e7518575d",
   "metadata": {},
   "outputs": [
    {
     "data": {
      "text/plain": [
       "(array([1, 2, 3, 3, 3, 4]), array([3, 3, 3, 4, 5, 9]))"
      ]
     },
     "execution_count": 17,
     "metadata": {},
     "output_type": "execute_result"
    }
   ],
   "source": [
    "get_lists(testlines)"
   ]
  },
  {
   "cell_type": "code",
   "execution_count": 18,
   "id": "7747b91c-89f4-405b-bea4-6367784f1e1a",
   "metadata": {},
   "outputs": [],
   "source": [
    "def get_tot_dist(lf, rt):\n",
    "    return sum(np.abs(lf - rt))"
   ]
  },
  {
   "cell_type": "code",
   "execution_count": 19,
   "id": "1092ea5e-3466-49ef-9be6-1cf905262538",
   "metadata": {},
   "outputs": [],
   "source": [
    "rt, lf = get_lists(testlines)"
   ]
  },
  {
   "cell_type": "code",
   "execution_count": 20,
   "id": "d4780564-36f7-490a-903e-f1c87107dd0c",
   "metadata": {},
   "outputs": [
    {
     "data": {
      "text/plain": [
       "np.int64(11)"
      ]
     },
     "execution_count": 20,
     "metadata": {},
     "output_type": "execute_result"
    }
   ],
   "source": [
    "get_tot_dist(rt, lf)"
   ]
  },
  {
   "cell_type": "code",
   "execution_count": 25,
   "id": "ba1ec790-cce3-4317-a6ac-347c60799525",
   "metadata": {},
   "outputs": [],
   "source": [
    "def part1(lines):\n",
    "    lf, rt = get_lists(lines)\n",
    "    dist = get_tot_dist(lf, rt)\n",
    "    return dist"
   ]
  },
  {
   "cell_type": "code",
   "execution_count": 26,
   "id": "8ec29731-048f-4a56-b0c0-29746a368fdc",
   "metadata": {},
   "outputs": [],
   "source": [
    "assert(11 == part1(testlines))"
   ]
  },
  {
   "cell_type": "code",
   "execution_count": 27,
   "id": "6d265bfb-09f0-4630-b5c2-ca43c6d8e7d9",
   "metadata": {},
   "outputs": [
    {
     "data": {
      "text/plain": [
       "np.int64(936063)"
      ]
     },
     "execution_count": 27,
     "metadata": {},
     "output_type": "execute_result"
    }
   ],
   "source": [
    "part1(data)"
   ]
  },
  {
   "cell_type": "markdown",
   "id": "328f4aea-f57d-412e-aac9-d9506e05169e",
   "metadata": {},
   "source": [
    "## Part 2"
   ]
  },
  {
   "cell_type": "code",
   "execution_count": 28,
   "id": "dd62c776-851e-441c-b7aa-2e0f5b3db6db",
   "metadata": {},
   "outputs": [],
   "source": [
    "from collections import Counter"
   ]
  },
  {
   "cell_type": "code",
   "execution_count": 29,
   "id": "4740de2b-ec51-411c-8015-d166ae80a1e3",
   "metadata": {},
   "outputs": [],
   "source": [
    "lf, rt = get_lists(testlines)"
   ]
  },
  {
   "cell_type": "code",
   "execution_count": 30,
   "id": "327bce6f-fde6-4018-bb84-72907bc722bd",
   "metadata": {},
   "outputs": [
    {
     "data": {
      "text/plain": [
       "Counter({np.int64(3): 3, np.int64(4): 1, np.int64(5): 1, np.int64(9): 1})"
      ]
     },
     "execution_count": 30,
     "metadata": {},
     "output_type": "execute_result"
    }
   ],
   "source": [
    "Counter(rt)"
   ]
  },
  {
   "cell_type": "code",
   "execution_count": 31,
   "id": "b8dac117-dfa5-4853-b37c-341a098fbd63",
   "metadata": {},
   "outputs": [],
   "source": [
    "def similarity(lf, rt):\n",
    "    rtcnt = Counter(rt)\n",
    "    s = sum(i*rtcnt[i] for i in lf)\n",
    "    return s"
   ]
  },
  {
   "cell_type": "code",
   "execution_count": 32,
   "id": "1b9bcc71-2d2e-46ee-818f-080ed4818a97",
   "metadata": {},
   "outputs": [
    {
     "data": {
      "text/plain": [
       "np.int64(31)"
      ]
     },
     "execution_count": 32,
     "metadata": {},
     "output_type": "execute_result"
    }
   ],
   "source": [
    "similarity(lf, rt)"
   ]
  },
  {
   "cell_type": "code",
   "execution_count": 33,
   "id": "fe9b0cb0-17ee-4a06-abec-ceb5ab2fe2f4",
   "metadata": {},
   "outputs": [],
   "source": [
    "def part2(lines):\n",
    "    lf, rt = get_lists(lines)\n",
    "    return similarity(lf, rt)"
   ]
  },
  {
   "cell_type": "code",
   "execution_count": 34,
   "id": "d11b5600-ace2-4529-bab7-eb6f860dc2d4",
   "metadata": {},
   "outputs": [],
   "source": [
    "assert 31 == part2(testlines)"
   ]
  },
  {
   "cell_type": "code",
   "execution_count": 35,
   "id": "bcc2483a-a769-4c08-905f-0d6b8e88b390",
   "metadata": {},
   "outputs": [
    {
     "data": {
      "text/plain": [
       "np.int64(23150395)"
      ]
     },
     "execution_count": 35,
     "metadata": {},
     "output_type": "execute_result"
    }
   ],
   "source": [
    "part2(data)"
   ]
  },
  {
   "cell_type": "code",
   "execution_count": null,
   "id": "f64e3b11-746a-4004-96eb-5dc7119a6f4c",
   "metadata": {},
   "outputs": [],
   "source": []
  }
 ],
 "metadata": {
  "kernelspec": {
   "display_name": "Python 3 (ipykernel)",
   "language": "python",
   "name": "python3"
  },
  "language_info": {
   "codemirror_mode": {
    "name": "ipython",
    "version": 3
   },
   "file_extension": ".py",
   "mimetype": "text/x-python",
   "name": "python",
   "nbconvert_exporter": "python",
   "pygments_lexer": "ipython3",
   "version": "3.12.7"
  }
 },
 "nbformat": 4,
 "nbformat_minor": 5
}
