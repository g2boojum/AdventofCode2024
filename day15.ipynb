{
 "cells": [
  {
   "cell_type": "code",
   "execution_count": 1,
   "id": "2219b0ca-22f7-4642-a654-2be3679acff6",
   "metadata": {},
   "outputs": [],
   "source": [
    "import collections"
   ]
  },
  {
   "cell_type": "code",
   "execution_count": 2,
   "id": "22f382ee-c20d-4ed4-9719-0c5ff434f81b",
   "metadata": {},
   "outputs": [],
   "source": [
    "smalltestlines = '''########\n",
    "#..O.O.#\n",
    "##@.O..#\n",
    "#...O..#\n",
    "#.#.O..#\n",
    "#...O..#\n",
    "#......#\n",
    "########\n",
    "\n",
    "<^^>>>vv<v>>v<<'''.splitlines()"
   ]
  },
  {
   "cell_type": "code",
   "execution_count": 3,
   "id": "a8017b83-df08-4e84-ae3b-b42dfc8b1d38",
   "metadata": {},
   "outputs": [],
   "source": [
    "bigtestlines = '''##########\n",
    "#..O..O.O#\n",
    "#......O.#\n",
    "#.OO..O.O#\n",
    "#..O@..O.#\n",
    "#O#..O...#\n",
    "#O..O..O.#\n",
    "#.OO.O.OO#\n",
    "#....O...#\n",
    "##########\n",
    "\n",
    "<vv>^<v^>v>^vv^v>v<>v^v<v<^vv<<<^><<><>>v<vvv<>^v^>^<<<><<v<<<v^vv^v>^\n",
    "vvv<<^>^v^^><<>>><>^<<><^vv^^<>vvv<>><^^v>^>vv<>v<<<<v<^v>^<^^>>>^<v<v\n",
    "><>vv>v^v^<>><>>>><^^>vv>v<^^^>>v^v^<^^>v^^>v^<^v>v<>>v^v^<v>v^^<^^vv<\n",
    "<<v<^>>^^^^>>>v^<>vvv^><v<<<>^^^vv^<vvv>^>v<^^^^v<>^>vvvv><>>v^<<^^^^^\n",
    "^><^><>>><>^^<<^^v>>><^<v>^<vv>>v>>>^v><>^v><<<<v>>v<v<v>vvv>^<><<>^><\n",
    "^>><>^v<><^vvv<^^<><v<<<<<><^v<<<><<<^^<v<^^^><^>>^<v^><<<^>>^v<v^v<v^\n",
    ">^>>^v>vv>^<<^v<>><<><<v<<v><>v<^vv<<<>^^v^>^^>>><<^v>>v^v><^^>>^<>vv^\n",
    "<><^^>^^^<><vvvvv^v<v<<>^v<v>v<<^><<><<><<<^^<<<^<<>><<><^^^>^^<>^>v<>\n",
    "^^>vv<^v^v<vv>^<><v<^v>^^^>>>^^vvv^>vvv<>>>^<^>>>>>^<<^v>^vvv<>^<><<v>\n",
    "v^^>>><<^^<>>^v^<v^vv<>v^<<>^<^v^v><^<<<><<^<v><v<>vv>>v><v^<vv<>v^<<^'''.splitlines()"
   ]
  },
  {
   "cell_type": "code",
   "execution_count": 4,
   "id": "07dd35fe-7da3-4684-ac22-2425ededc1cc",
   "metadata": {},
   "outputs": [],
   "source": [
    "with open('day15input.txt') as fp:\n",
    "    data = fp.read().splitlines()"
   ]
  },
  {
   "cell_type": "markdown",
   "id": "78ff3b05-e3d5-4f94-88f1-26c317f71dff",
   "metadata": {},
   "source": [
    "## Part 1 ##"
   ]
  },
  {
   "cell_type": "code",
   "execution_count": 5,
   "id": "cc3e8b00-374d-4731-9129-ea2a664188c6",
   "metadata": {},
   "outputs": [],
   "source": [
    "def ingest(lines):\n",
    "    boxes = set()\n",
    "    walls = set()\n",
    "    movelines = []\n",
    "    in_grid = True\n",
    "    for row, line in enumerate(lines):\n",
    "        stripped = line.strip()\n",
    "        if '' == stripped:\n",
    "            in_grid = False\n",
    "            continue\n",
    "        if in_grid:\n",
    "            for col, c in enumerate(stripped):\n",
    "                if '#' == c:\n",
    "                    walls.add((row, col))\n",
    "                elif '.' == c:\n",
    "                    continue\n",
    "                elif 'O' == c:\n",
    "                    boxes.add((row, col))\n",
    "                elif '@' == c:\n",
    "                    startpos = (row, col)\n",
    "                else:\n",
    "                    raise ValueError('Bad line: ', stripped)\n",
    "        else:\n",
    "            movelines.append(stripped)\n",
    "    moves = ''.join(movelines)\n",
    "    return startpos, walls, boxes, moves"
   ]
  },
  {
   "cell_type": "code",
   "execution_count": 6,
   "id": "0af1b107-ed9d-4d6a-ac82-9638fe5e76ff",
   "metadata": {},
   "outputs": [],
   "source": [
    "dirs = {'<': (0, -1), '>': (0, +1), '^': (-1, 0), 'v': (+1, 0)}"
   ]
  },
  {
   "cell_type": "code",
   "execution_count": 7,
   "id": "3853b7f8-9b8b-4bf8-a15d-a10c32d9f7a6",
   "metadata": {},
   "outputs": [],
   "source": [
    "def move(pos, direc, walls, boxes):\n",
    "    drow, dcol = dirs[direc]\n",
    "    nextpos = (pos[0]+drow, pos[1]+dcol)\n",
    "    seen = []\n",
    "    while True:\n",
    "        if nextpos in walls:\n",
    "            # can't push this way\n",
    "            return pos, walls, boxes\n",
    "        elif nextpos in boxes:\n",
    "            seen.append(nextpos)\n",
    "        else:\n",
    "            # this space is empty\n",
    "            break\n",
    "        nextpos = (nextpos[0]+drow, nextpos[1]+dcol)\n",
    "    if not seen:\n",
    "        # no boxes were pushed\n",
    "        return nextpos, walls, boxes\n",
    "    # at least one box was pushed\n",
    "    newpos = seen[0]\n",
    "    boxes.remove(newpos)\n",
    "    boxes.add(nextpos)\n",
    "    return newpos, walls, boxes"
   ]
  },
  {
   "cell_type": "code",
   "execution_count": 8,
   "id": "e2f601b8-e95e-4501-b1f6-390151ae44dd",
   "metadata": {},
   "outputs": [],
   "source": [
    "def score(boxes):\n",
    "    return sum(100*box[0]+box[1] for box in boxes)"
   ]
  },
  {
   "cell_type": "code",
   "execution_count": 9,
   "id": "77e95ba9-07f9-4e9e-8360-61c1a6754247",
   "metadata": {},
   "outputs": [],
   "source": [
    "def part1(lines):\n",
    "    startpos, walls, boxes, moves = ingest(lines)\n",
    "    pos = startpos\n",
    "    for direc in moves:\n",
    "        pos, walls, boxes = move(pos, direc, walls, boxes)\n",
    "    return score(boxes)"
   ]
  },
  {
   "cell_type": "code",
   "execution_count": 10,
   "id": "17ea9af9-043f-4c48-a252-aa18b2371a13",
   "metadata": {},
   "outputs": [],
   "source": [
    "assert(2028 == part1(smalltestlines))"
   ]
  },
  {
   "cell_type": "code",
   "execution_count": 11,
   "id": "62e3df69-3325-4bb7-9790-eb97f7f4dd45",
   "metadata": {},
   "outputs": [],
   "source": [
    "assert(10092 == part1(bigtestlines))"
   ]
  },
  {
   "cell_type": "code",
   "execution_count": 12,
   "id": "94f79b70-7848-4388-a568-b4a99834feab",
   "metadata": {},
   "outputs": [
    {
     "data": {
      "text/plain": [
       "1349898"
      ]
     },
     "execution_count": 12,
     "metadata": {},
     "output_type": "execute_result"
    }
   ],
   "source": [
    "part1(data)"
   ]
  },
  {
   "cell_type": "markdown",
   "id": "cf7d3a25-8432-4fc9-a466-6ee7835fb2ec",
   "metadata": {},
   "source": [
    "## Part 2 ##"
   ]
  },
  {
   "cell_type": "code",
   "execution_count": 13,
   "id": "e909f7dc-5283-4386-b9a0-478da85ffc7f",
   "metadata": {},
   "outputs": [],
   "source": [
    "def ingest2(lines):\n",
    "    leftboxes = set()\n",
    "    walls = set()\n",
    "    movelines = []\n",
    "    in_grid = True\n",
    "    for row, line in enumerate(lines):\n",
    "        stripped = line.strip()\n",
    "        if '' == stripped:\n",
    "            in_grid = False\n",
    "            continue\n",
    "        if in_grid:\n",
    "            col = 0\n",
    "            for c in stripped:\n",
    "                if '#' == c:\n",
    "                    walls.add((row, col))\n",
    "                    walls.add((row, col+1))\n",
    "                elif '.' == c:\n",
    "                    pass\n",
    "                elif 'O' == c:\n",
    "                    leftboxes.add((row, col))\n",
    "                elif '@' == c:\n",
    "                    startpos = (row, col)\n",
    "                else:\n",
    "                    raise ValueError('Bad line: ', stripped)\n",
    "                col += 2\n",
    "        else:\n",
    "            movelines.append(stripped)\n",
    "    moves = ''.join(movelines)\n",
    "    return startpos, walls, leftboxes, moves"
   ]
  },
  {
   "cell_type": "code",
   "execution_count": 14,
   "id": "d95bb318-f4e0-4ba9-a585-6eefc1ef068d",
   "metadata": {},
   "outputs": [],
   "source": [
    "def rightmove(pos, walls, leftboxes):\n",
    "    nextpos = (pos[0], pos[1]+1)\n",
    "    seen = []\n",
    "    while True:\n",
    "        if nextpos in walls:\n",
    "            # can't push\n",
    "            return pos, walls, leftboxes\n",
    "        elif nextpos in leftboxes:\n",
    "            seen.append(nextpos)\n",
    "            nextpos = (nextpos[0], nextpos[1]+2)\n",
    "        else:\n",
    "            break\n",
    "    if not seen:\n",
    "        # no boxes pushed\n",
    "        return nextpos, walls, leftboxes\n",
    "    # at least one box was pushed\n",
    "    newpos = seen[0]\n",
    "    for r,c in seen:\n",
    "        leftboxes.remove((r,c))\n",
    "        leftboxes.add((r, c+1))\n",
    "    return newpos, walls, leftboxes"
   ]
  },
  {
   "cell_type": "code",
   "execution_count": 15,
   "id": "856c3139-eee7-46d4-bf37-e28ca00b1090",
   "metadata": {},
   "outputs": [],
   "source": [
    "def leftmove(pos, walls, leftboxes):\n",
    "    nextpos = (pos[0], pos[1] - 1)\n",
    "    seen = []\n",
    "    while True:\n",
    "        if nextpos in walls:\n",
    "            # can't push\n",
    "            return pos, walls, leftboxes\n",
    "        elif (nextpos[0], nextpos[1]-1) in leftboxes:\n",
    "            seen.append((nextpos[0], nextpos[1]-1))\n",
    "            nextpos = (nextpos[0], nextpos[1]-2)\n",
    "        else:\n",
    "            break\n",
    "    if not seen:\n",
    "        # no boxes pushed\n",
    "        return nextpos, walls, leftboxes\n",
    "    # at least one box was pushed\n",
    "    for r,c in seen:\n",
    "        leftboxes.remove((r,c))\n",
    "        leftboxes.add((r, c-1))\n",
    "    newpos = (pos[0], pos[1]-1)\n",
    "    return newpos, walls, leftboxes"
   ]
  },
  {
   "cell_type": "code",
   "execution_count": 16,
   "id": "b524794e-76ce-4258-b801-d16c73880027",
   "metadata": {},
   "outputs": [],
   "source": [
    "def upmove(pos, walls, leftboxes):\n",
    "    nextpos = (pos[0]-1, pos[1])\n",
    "    if nextpos in walls:\n",
    "        return pos, walls, leftboxes\n",
    "    isleftboxabove = nextpos in leftboxes\n",
    "    isrightboxabove = (nextpos[0], nextpos[1]-1) in leftboxes\n",
    "    if (not isleftboxabove) and (not isrightboxabove):\n",
    "        # nothing in the way, just move and return\n",
    "        return nextpos, walls, leftboxes\n",
    "    # there's a box above\n",
    "    seen = collections.defaultdict(set)\n",
    "    rowabove = nextpos[0]\n",
    "    if isleftboxabove:\n",
    "        seen[rowabove].add(nextpos)\n",
    "    else:\n",
    "        seen[rowabove].add((nextpos[0], nextpos[1]-1))\n",
    "    curr_row = rowabove\n",
    "    rowabove -= 1\n",
    "    while True:\n",
    "        for leftbox in seen[curr_row]:\n",
    "            # start with left side of box, looking up\n",
    "            c = leftbox[1]\n",
    "            if (rowabove, c) in leftboxes:\n",
    "                seen[rowabove].add((rowabove, c))\n",
    "            elif (rowabove, c-1) in leftboxes:\n",
    "                seen[rowabove].add((rowabove, c-1))\n",
    "            # move to right side of box, looking up\n",
    "            c = leftbox[1]+1\n",
    "            if (rowabove, c) in leftboxes:\n",
    "                seen[rowabove].add((rowabove, c))\n",
    "            elif (rowabove, c-1) in leftboxes:\n",
    "                seen[rowabove].add((rowabove, c-1))\n",
    "        if rowabove not in seen:\n",
    "            # nothing found above, we can break\n",
    "            break\n",
    "        curr_row = rowabove\n",
    "        rowabove -= 1\n",
    "    # boxes above found, but can it move?\n",
    "    for row in seen:\n",
    "        for box in seen[row]:\n",
    "            aboveleftpos = (box[0]-1, box[1])\n",
    "            aboverightpos = (box[0]-1, box[1]+1)\n",
    "            if (aboveleftpos in walls) or (aboverightpos in walls):\n",
    "                # there's a wall above this box, so no movement\n",
    "                #print('blocker above box at ', box)\n",
    "                return pos, walls, leftboxes\n",
    "    # okay, everything seen can move\n",
    "    for row in (sorted(seen.keys())):\n",
    "        for box in seen[row]:\n",
    "            r, c = box\n",
    "            leftboxes.remove(box)\n",
    "            leftboxes.add((r-1, c))\n",
    "    return nextpos, walls, leftboxes"
   ]
  },
  {
   "cell_type": "code",
   "execution_count": 17,
   "id": "587cefa4-2597-42cb-a67e-3e1434704908",
   "metadata": {},
   "outputs": [],
   "source": [
    "def downmove(pos, walls, leftboxes):\n",
    "    nextpos = (pos[0]+1, pos[1])\n",
    "    if nextpos in walls:\n",
    "        return pos, walls, leftboxes\n",
    "    isleftboxbelow = nextpos in leftboxes\n",
    "    isrightboxbelow = (nextpos[0], nextpos[1]-1) in leftboxes\n",
    "    if (not isleftboxbelow) and (not isrightboxbelow):\n",
    "        # nothing in the way, just move and return\n",
    "        return nextpos, walls, leftboxes\n",
    "    # there's a box below\n",
    "    seen = collections.defaultdict(set)\n",
    "    rowbelow = nextpos[0]\n",
    "    if isleftboxbelow:\n",
    "        seen[rowbelow].add(nextpos)\n",
    "    else:\n",
    "        seen[rowbelow].add((nextpos[0], nextpos[1]-1))\n",
    "    curr_row = rowbelow\n",
    "    rowbelow += 1\n",
    "    while True:\n",
    "        for leftbox in seen[curr_row]:\n",
    "            # start with left side of box, looking down\n",
    "            c = leftbox[1]\n",
    "            if (rowbelow, c) in leftboxes:\n",
    "                seen[rowbelow].add((rowbelow, c))\n",
    "            elif (rowbelow, c-1) in leftboxes:\n",
    "                seen[rowbelow].add((rowbelow, c-1))\n",
    "            # move to right side of box, looking down\n",
    "            c = leftbox[1]+1\n",
    "            if (rowbelow, c) in leftboxes:\n",
    "                seen[rowbelow].add((rowbelow, c))\n",
    "            elif (rowbelow, c-1) in leftboxes:\n",
    "                seen[rowbelow].add((rowbelow, c-1))\n",
    "        if rowbelow not in seen:\n",
    "            # nothing found below, we can break\n",
    "            break\n",
    "        curr_row = rowbelow\n",
    "        rowbelow += 1\n",
    "    # boxes below found, but can they move?\n",
    "    for row in seen:\n",
    "        for box in seen[row]:\n",
    "            belowleftpos = (box[0]+1, box[1])\n",
    "            belowrightpos = (box[0]+1, box[1]+1)\n",
    "            if (belowleftpos in walls) or (belowrightpos in walls):\n",
    "                # there's a wall blocking the move; can't move\n",
    "                #print('blocker below box at ', box)\n",
    "                return pos, walls, leftboxes\n",
    "    # okay, everything seen can move\n",
    "    for row in reversed(sorted(seen.keys())):\n",
    "        for box in seen[row]:\n",
    "            r, c = box\n",
    "            leftboxes.remove(box)\n",
    "            leftboxes.add((r+1, c))\n",
    "    return nextpos, walls, leftboxes"
   ]
  },
  {
   "cell_type": "code",
   "execution_count": 18,
   "id": "85138a90-5284-40d2-8343-89eb066f8667",
   "metadata": {},
   "outputs": [],
   "source": [
    "dirfuncs = {'<': leftmove, '>': rightmove, '^': upmove, 'v': downmove}"
   ]
  },
  {
   "cell_type": "code",
   "execution_count": 19,
   "id": "e6f94fb8-ed97-4ad6-a7d8-f73a4b7d3730",
   "metadata": {},
   "outputs": [],
   "source": [
    "test2lines = '''#######\n",
    "#...#.#\n",
    "#.....#\n",
    "#..OO@#\n",
    "#..O..#\n",
    "#.....#\n",
    "#######\n",
    "\n",
    "<vv<<^^<<^^'''.splitlines()"
   ]
  },
  {
   "cell_type": "code",
   "execution_count": 20,
   "id": "894e8c2d-14f6-4c1c-a882-cb26bacd533c",
   "metadata": {},
   "outputs": [],
   "source": [
    "def part2(lines):\n",
    "    pos, walls, leftboxes, moves = ingest2(lines)\n",
    "    for move in moves:\n",
    "        dirfunc = dirfuncs[move]\n",
    "        pos, walls, leftboxes = dirfunc(pos, walls, leftboxes)\n",
    "    return score(leftboxes)"
   ]
  },
  {
   "cell_type": "code",
   "execution_count": 21,
   "id": "6c626b2c-de12-4121-a9f8-d9a09276adaa",
   "metadata": {},
   "outputs": [],
   "source": [
    "assert(618 == part2(test2lines))"
   ]
  },
  {
   "cell_type": "code",
   "execution_count": 22,
   "id": "babff162-94c1-4ccb-9a64-980924c44376",
   "metadata": {},
   "outputs": [],
   "source": [
    "assert(9021 == part2(bigtestlines))"
   ]
  },
  {
   "cell_type": "code",
   "execution_count": 23,
   "id": "c06dec63-ee9e-420f-8a6e-6c7c669aed52",
   "metadata": {},
   "outputs": [
    {
     "data": {
      "text/plain": [
       "1376686"
      ]
     },
     "execution_count": 23,
     "metadata": {},
     "output_type": "execute_result"
    }
   ],
   "source": [
    "part2(data)"
   ]
  },
  {
   "cell_type": "code",
   "execution_count": 24,
   "id": "8aee1aba-4f39-4b43-ae32-a9efa884f8ff",
   "metadata": {},
   "outputs": [],
   "source": [
    "def printmap(pos, walls, leftboxes):\n",
    "    maxrows, maxcols = max(wall[0] for wall in walls), max(wall[1] for wall in walls)\n",
    "    mymap = []\n",
    "    for row in range(maxrows+1):\n",
    "        line = []\n",
    "        for col in range(maxcols+1):\n",
    "            if (row, col) in walls:\n",
    "                line.append('#')\n",
    "            elif (row, col) == pos:\n",
    "                line.append('@')\n",
    "            elif (row, col) in leftboxes:\n",
    "                line.append('[')\n",
    "            elif (row, col-1) in leftboxes:\n",
    "                line.append(']')\n",
    "            else:\n",
    "                line.append('.')\n",
    "        print(''.join(line))"
   ]
  },
  {
   "cell_type": "markdown",
   "id": "760f1d3d-d675-4b9e-bc0e-89a1c3f967d3",
   "metadata": {},
   "source": [
    "Stole a solution from https://topaz.github.io/paste/#XQAAAQBhAwAAAAAAAAAznIlVuo9qg5SL+E+dSUlMqbFSuX55LQwn13BRRp5b6LvWbsHa2XUd+CrT8JzMVS8rlcuskkNKPfrSKh95KoNk6Vh0DQC6gTsapjgOHkaqs6SICpX4JbylKyAUayT0aApUchDitiYM0jW1Aez74DE46+Ew7cBU0oT9X+ztl3P41yV0Pw89TLCImcNdabfOXcNI1I4ghOe5U1d511Mw+v1FZyqGkR9SYWamQcWTPKTJPqGson/QJXUS1lTkAgR0s+dqbNwbUr1Ljhp7T/W8ZGcy5PosnJ2Xp2GURAhh0LYpCD3mQK27McQSbpUb31cUW8sr5/XmpmZ3qXUSXO3BzdHJfki6P6YrKVdzFKObGbZmqvOcEQReMV2GjvAVpCEO1syB5Inrh2eM+LAgGRgHXHSHyEsehpFtaRKujSoXjjL4LNImtcYgovy7TGxXqBccOl8qxBHUb7jzz4l8GYuTN1jgkWd6uJ7ZgVDY2WsSvIHY3S3izp8jO5CmT+OEtUdrWRkroMZl7XRv/CeOPYAU2QCSE4XGxunK8kC1k99D45GPzmj86DMYi6pNqOm4My/++uT15A== to figure out where my solution had gone wrong\n",
    "\n",
    "Note that this version uses the ever-popular complex grid instead of (row, col) pairs"
   ]
  },
  {
   "cell_type": "code",
   "execution_count": 25,
   "id": "b1f7308e-e663-4fc7-8001-28247ab77941",
   "metadata": {},
   "outputs": [
    {
     "name": "stdout",
     "output_type": "stream",
     "text": [
      "pos: ( 24 ,  24 )\n",
      "1349898\n",
      "pos: ( 24 ,  48 )\n",
      "1376686\n"
     ]
    }
   ],
   "source": [
    "grid, moves = open('day15input.txt').read().split('\\n\\n')\n",
    "\n",
    "def move(p, d):\n",
    "    p += d\n",
    "    if all([\n",
    "        grid[p] != '[' or move(p+1, d) and move(p, d),\n",
    "        grid[p] != ']' or move(p-1, d) and move(p, d),\n",
    "        grid[p] != 'O' or move(p, d), grid[p] != '#']):\n",
    "            grid[p], grid[p-d] = grid[p-d], grid[p]\n",
    "            return True\n",
    "\n",
    "\n",
    "for grid in grid, grid.translate(str.maketrans(\n",
    "        {'#':'##', '.':'..', 'O':'[]', '@':'@.'})):\n",
    "\n",
    "    goodpositions = []\n",
    "\n",
    "    grid = {i+j*1j:c for j,r in enumerate(grid.split())\n",
    "                     for i,c in enumerate(r)}\n",
    "\n",
    "    pos, = (p for p in grid if grid[p] == '@')\n",
    "    print('pos: (', int(pos.imag), ', ', int(pos.real), ')')\n",
    "\n",
    "    for m in moves.replace('\\n', ''):\n",
    "        dir = {'<':-1, '>':+1, '^':-1j, 'v':+1j}[m]\n",
    "        copy = grid.copy()\n",
    "\n",
    "        if move(pos, dir): pos += dir\n",
    "        else: grid = copy\n",
    "\n",
    "        goodpositions.append((int(pos.imag), int(pos.real)))\n",
    "\n",
    "    ans = sum(pos for pos in grid if grid[pos] in 'O[')\n",
    "    print(int(ans.real + ans.imag*100))"
   ]
  },
  {
   "cell_type": "code",
   "execution_count": null,
   "id": "bb7f162b-a4bb-406e-b75b-e555bd35f6d8",
   "metadata": {},
   "outputs": [],
   "source": []
  }
 ],
 "metadata": {
  "kernelspec": {
   "display_name": "Python 3 (ipykernel)",
   "language": "python",
   "name": "python3"
  },
  "language_info": {
   "codemirror_mode": {
    "name": "ipython",
    "version": 3
   },
   "file_extension": ".py",
   "mimetype": "text/x-python",
   "name": "python",
   "nbconvert_exporter": "python",
   "pygments_lexer": "ipython3",
   "version": "3.12.7"
  }
 },
 "nbformat": 4,
 "nbformat_minor": 5
}
