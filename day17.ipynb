{
 "cells": [
  {
   "cell_type": "code",
   "execution_count": null,
   "id": "8defbf4a-0de3-4459-a444-e8fdcf189aae",
   "metadata": {},
   "outputs": [],
   "source": []
  },
  {
   "cell_type": "code",
   "execution_count": 1,
   "id": "b6804e2a-839c-4311-bb4f-4e2c71da932a",
   "metadata": {},
   "outputs": [],
   "source": [
    "testdata = {'A': 729, 'B': 0, 'C': 0, 'Program': (0,1,5,4,3,0)}"
   ]
  },
  {
   "cell_type": "code",
   "execution_count": 2,
   "id": "b8d4f3a5-7360-40a3-80d9-dc26a7debcb2",
   "metadata": {},
   "outputs": [],
   "source": [
    "data = {'A': 33940147, 'B': 0, 'C': 0, 'Program': (2,4,1,5,7,5,1,6,4,2,5,5,0,3,3,0)}"
   ]
  },
  {
   "cell_type": "markdown",
   "id": "6ae8b6c2-5130-4eb3-9cce-8da842f2520a",
   "metadata": {},
   "source": [
    "## Part 1 ##"
   ]
  },
  {
   "cell_type": "code",
   "execution_count": 3,
   "id": "52679ff9-55ba-4337-b958-90a34d9ffdbf",
   "metadata": {},
   "outputs": [],
   "source": [
    "def regdv(outregister, operand, registers, insptr, outs):\n",
    "    numerator = registers['A']\n",
    "    match operand:\n",
    "        case 0 | 1 | 2 | 3:\n",
    "            power = operand\n",
    "        case 4:\n",
    "            power = registers['A']\n",
    "        case 5:\n",
    "            power = registers['B']\n",
    "        case 6:\n",
    "            power = registers['C']\n",
    "        case _:\n",
    "            raise ValueError(f'Invalid operand: {operand}')\n",
    "    val = numerator//(2**power)\n",
    "    registers[outregister] = val\n",
    "    return insptr+2"
   ]
  },
  {
   "cell_type": "code",
   "execution_count": 4,
   "id": "74d73f22-154c-4a22-bbd6-99b32db61115",
   "metadata": {},
   "outputs": [],
   "source": [
    "def adv(operand, registers, insptr, outs):\n",
    "    return regdv('A', operand, registers, insptr, outs)\n",
    "def bdv(operand, registers, insptr, outs):\n",
    "    return regdv('B', operand, registers, insptr, outs)\n",
    "def cdv(operand, registers, insptr, outs):\n",
    "    return regdv('C', operand, registers, insptr, outs)"
   ]
  },
  {
   "cell_type": "code",
   "execution_count": 5,
   "id": "33f8e8b9-acc6-46b9-a55a-376fa57034cb",
   "metadata": {},
   "outputs": [],
   "source": [
    "def bxl(operand, registers, insptr, outs):\n",
    "    registers['B'] = registers['B'] ^ operand\n",
    "    return insptr+2"
   ]
  },
  {
   "cell_type": "code",
   "execution_count": 6,
   "id": "ef5bb5d2-c20f-43b2-a6d7-56c0d19aab83",
   "metadata": {},
   "outputs": [],
   "source": [
    "def bst(operand, registers, insptr, outs):\n",
    "    match operand:\n",
    "        case 0 | 1 | 2 | 3:\n",
    "            val = operand\n",
    "        case 4:\n",
    "            val = registers['A']\n",
    "        case 5:\n",
    "            val = registers['B']\n",
    "        case 6:\n",
    "            val = registers['C']\n",
    "        case _:\n",
    "            raise ValueError(f'Invalid operand: {operand}')\n",
    "    registers['B'] = val % 8\n",
    "    return insptr+2"
   ]
  },
  {
   "cell_type": "code",
   "execution_count": 7,
   "id": "96c7c69e-2503-46c7-a714-b8dfac43dd2a",
   "metadata": {},
   "outputs": [],
   "source": [
    "def jnz(operand, registers, insptr, outs):\n",
    "    if 0 == registers['A']:\n",
    "        return insptr+2\n",
    "    return operand"
   ]
  },
  {
   "cell_type": "code",
   "execution_count": 8,
   "id": "f0c6d55a-ceb2-44d6-9482-c742dcce05d1",
   "metadata": {},
   "outputs": [],
   "source": [
    "def bxc(operand, registers, insptr, outs):\n",
    "    registers['B'] = registers['B'] ^ registers['C']\n",
    "    return insptr+2"
   ]
  },
  {
   "cell_type": "code",
   "execution_count": 9,
   "id": "d9f51e60-4c6b-48be-9b51-fc9911d5615d",
   "metadata": {},
   "outputs": [],
   "source": [
    "def out(operand, registers, insptr, outs):\n",
    "    match operand:\n",
    "        case 0 | 1 | 2 | 3:\n",
    "            val = operand\n",
    "        case 4:\n",
    "            val = registers['A']\n",
    "        case 5:\n",
    "            val = registers['B']\n",
    "        case 6:\n",
    "            val = registers['C']\n",
    "        case _:\n",
    "            raise ValueError(f'Invalid operand: {operand}')\n",
    "    outs.append(val % 8)\n",
    "    return insptr+2"
   ]
  },
  {
   "cell_type": "code",
   "execution_count": 10,
   "id": "b35905a5-5d4a-4ec5-b99e-105e60c0e205",
   "metadata": {},
   "outputs": [],
   "source": [
    "opcodes = {0: adv, 1: bxl, 2: bst, 3: jnz, 4: bxc, 5: out, 6: bdv, 7: cdv}"
   ]
  },
  {
   "cell_type": "code",
   "execution_count": 11,
   "id": "cf1d3e3b-3436-4999-8b05-ce8e0b6e9596",
   "metadata": {},
   "outputs": [],
   "source": [
    "def run(registers, program):\n",
    "    outs = []\n",
    "    insptr = 0\n",
    "    while 0 <= insptr < len(program):\n",
    "        opcode, operand = program[insptr:insptr+2]\n",
    "        insptr = opcodes[opcode](operand, registers, insptr, outs)\n",
    "    return ','.join(str(out) for out in outs)"
   ]
  },
  {
   "cell_type": "code",
   "execution_count": 12,
   "id": "42c3ed8a-9433-430f-a471-51cfb13f7581",
   "metadata": {},
   "outputs": [
    {
     "data": {
      "text/plain": [
       "''"
      ]
     },
     "execution_count": 12,
     "metadata": {},
     "output_type": "execute_result"
    }
   ],
   "source": [
    "run({'A': 0, 'B': 0, 'C': 9}, (2, 6))"
   ]
  },
  {
   "cell_type": "code",
   "execution_count": 13,
   "id": "3738e4df-bcf6-4528-b4a1-1c95d24af1a2",
   "metadata": {},
   "outputs": [
    {
     "data": {
      "text/plain": [
       "'0,1,2'"
      ]
     },
     "execution_count": 13,
     "metadata": {},
     "output_type": "execute_result"
    }
   ],
   "source": [
    "run({'A': 10, 'B': 0, 'C': 0}, (5, 0, 5, 1, 5, 4))"
   ]
  },
  {
   "cell_type": "code",
   "execution_count": 14,
   "id": "30b6d692-411e-4e2a-bf3b-fd3ef04e8767",
   "metadata": {},
   "outputs": [
    {
     "data": {
      "text/plain": [
       "'4,2,5,6,7,7,7,7,3,1,0'"
      ]
     },
     "execution_count": 14,
     "metadata": {},
     "output_type": "execute_result"
    }
   ],
   "source": [
    "run({'A': 2024, 'B': 0, 'C': 0}, (0,1,5,4,3,0))"
   ]
  },
  {
   "cell_type": "code",
   "execution_count": 15,
   "id": "3e6f6cb5-de1e-4934-a873-15709ab10dcc",
   "metadata": {},
   "outputs": [
    {
     "data": {
      "text/plain": [
       "''"
      ]
     },
     "execution_count": 15,
     "metadata": {},
     "output_type": "execute_result"
    }
   ],
   "source": [
    "run({'A': 0, 'B': 29, 'C': 0}, (1,7))"
   ]
  },
  {
   "cell_type": "code",
   "execution_count": 16,
   "id": "143d3fa6-e1c6-4bff-beaf-b9aa73face98",
   "metadata": {},
   "outputs": [
    {
     "data": {
      "text/plain": [
       "''"
      ]
     },
     "execution_count": 16,
     "metadata": {},
     "output_type": "execute_result"
    }
   ],
   "source": [
    "run({'A': 0, 'B': 2024, 'C': 43690}, (4,0))"
   ]
  },
  {
   "cell_type": "code",
   "execution_count": 17,
   "id": "c509f5ee-feba-4af0-8fc4-381a4e32bb3a",
   "metadata": {},
   "outputs": [],
   "source": [
    "def part1(data):\n",
    "    registers = {'A': data['A'], 'B': data['B'], 'C': data['C']}\n",
    "    program = data['Program']\n",
    "    return run(registers, program)"
   ]
  },
  {
   "cell_type": "code",
   "execution_count": 18,
   "id": "c2f0fb69-dcae-4f4f-ac3c-d21f30b65629",
   "metadata": {},
   "outputs": [
    {
     "data": {
      "text/plain": [
       "'4,6,3,5,6,3,5,2,1,0'"
      ]
     },
     "execution_count": 18,
     "metadata": {},
     "output_type": "execute_result"
    }
   ],
   "source": [
    "part1(testdata)"
   ]
  },
  {
   "cell_type": "code",
   "execution_count": 19,
   "id": "5fee8b7d-dd0f-446a-9e43-3e3ec3dc5259",
   "metadata": {},
   "outputs": [
    {
     "data": {
      "text/plain": [
       "'2,7,6,5,6,0,2,3,1'"
      ]
     },
     "execution_count": 19,
     "metadata": {},
     "output_type": "execute_result"
    }
   ],
   "source": [
    "part1(data)"
   ]
  },
  {
   "cell_type": "markdown",
   "id": "27c80373-72cf-444b-b46c-65e87df45911",
   "metadata": {},
   "source": [
    "## Part 2 ##\n",
    "\n",
    "What value of register A will print out the original program?"
   ]
  },
  {
   "cell_type": "code",
   "execution_count": 20,
   "id": "90d84534-d94d-4c5a-9cd6-a8342d70eeb4",
   "metadata": {},
   "outputs": [
    {
     "data": {
      "text/plain": [
       "16"
      ]
     },
     "execution_count": 20,
     "metadata": {},
     "output_type": "execute_result"
    }
   ],
   "source": [
    "program = data['Program']\n",
    "len(program)"
   ]
  },
  {
   "cell_type": "code",
   "execution_count": 21,
   "id": "dd165125-c97a-4883-98ad-665bac2d9269",
   "metadata": {},
   "outputs": [
    {
     "data": {
      "text/plain": [
       "(35184372088832, 281474976710656)"
      ]
     },
     "execution_count": 21,
     "metadata": {},
     "output_type": "execute_result"
    }
   ],
   "source": [
    "min_A, max_A = 8**(len(program) - 1), 8**(len(program))\n",
    "min_A, max_A"
   ]
  },
  {
   "cell_type": "markdown",
   "id": "1ea1d49d-56c1-4f83-b634-cd22e5412114",
   "metadata": {},
   "source": [
    "Brute force won't work for the puzzle data, although it will for the test data for part 2. Sneaky!\n",
    "\n",
    "Let's simplify my puzzle program to a just be the specific code for it:"
   ]
  },
  {
   "cell_type": "code",
   "execution_count": 22,
   "id": "a0fb9d79-66d4-42a6-b5f2-f58e6e5be094",
   "metadata": {},
   "outputs": [],
   "source": [
    "def myprog(A):\n",
    "    outs = []\n",
    "    while A > 0:\n",
    "        B = A % 8\n",
    "        B = B ^ 5\n",
    "        C = A // (2**B)\n",
    "        B = B ^ 6\n",
    "        B = B ^ C\n",
    "        outs.append(B % 8)\n",
    "        A = A // 8\n",
    "    return outs"
   ]
  },
  {
   "cell_type": "code",
   "execution_count": 23,
   "id": "9214dc17-d81b-4988-89d6-f17ba1a5a852",
   "metadata": {},
   "outputs": [
    {
     "data": {
      "text/plain": [
       "[2, 7, 6, 5, 6, 0, 2, 3, 1]"
      ]
     },
     "execution_count": 23,
     "metadata": {},
     "output_type": "execute_result"
    }
   ],
   "source": [
    "myprog(33940147)"
   ]
  },
  {
   "cell_type": "code",
   "execution_count": 24,
   "id": "e4efd185-d0a4-44bc-bb6a-8d0bb972f160",
   "metadata": {},
   "outputs": [
    {
     "name": "stdout",
     "output_type": "stream",
     "text": [
      "35184372088832 [3, 3, 3, 3, 3, 3, 3, 3, 3, 3, 3, 3, 3, 1, 3, 2]\n",
      "39582418599936 [3, 3, 3, 3, 3, 3, 3, 3, 3, 3, 3, 3, 1, 1, 2, 2]\n",
      "43980465111040 [3, 3, 3, 3, 3, 3, 3, 3, 3, 3, 3, 3, 7, 1, 1, 2]\n",
      "48378511622144 [3, 3, 3, 3, 3, 3, 3, 3, 3, 3, 3, 3, 5, 1, 0, 2]\n",
      "52776558133248 [3, 3, 3, 3, 3, 3, 3, 3, 3, 3, 3, 3, 3, 0, 1, 2]\n",
      "57174604644352 [3, 3, 3, 3, 3, 3, 3, 3, 3, 3, 3, 3, 1, 0, 3, 2]\n",
      "61572651155456 [3, 3, 3, 3, 3, 3, 3, 3, 3, 3, 3, 3, 7, 0, 4, 2]\n",
      "65970697666560 [3, 3, 3, 3, 3, 3, 3, 3, 3, 3, 3, 3, 5, 0, 7, 2]\n",
      "70368744177664 [3, 3, 3, 3, 3, 3, 3, 3, 3, 3, 3, 3, 3, 7, 3, 1]\n",
      "74766790688768 [3, 3, 3, 3, 3, 3, 3, 3, 3, 3, 3, 3, 1, 7, 3, 1]\n",
      "79164837199872 [3, 3, 3, 3, 3, 3, 3, 3, 3, 3, 3, 3, 7, 7, 1, 1]\n",
      "83562883710976 [3, 3, 3, 3, 3, 3, 3, 3, 3, 3, 3, 3, 5, 7, 0, 1]\n",
      "87960930222080 [3, 3, 3, 3, 3, 3, 3, 3, 3, 3, 3, 3, 3, 6, 5, 1]\n",
      "92358976733184 [3, 3, 3, 3, 3, 3, 3, 3, 3, 3, 3, 3, 1, 6, 3, 1]\n",
      "96757023244288 [3, 3, 3, 3, 3, 3, 3, 3, 3, 3, 3, 3, 7, 6, 7, 1]\n",
      "101155069755392 [3, 3, 3, 3, 3, 3, 3, 3, 3, 3, 3, 3, 5, 6, 1, 1]\n",
      "105553116266496 [3, 3, 3, 3, 3, 3, 3, 3, 3, 3, 3, 3, 3, 5, 3, 0]\n",
      "109951162777600 [3, 3, 3, 3, 3, 3, 3, 3, 3, 3, 3, 3, 1, 5, 3, 0]\n",
      "114349209288704 [3, 3, 3, 3, 3, 3, 3, 3, 3, 3, 3, 3, 7, 5, 1, 0]\n",
      "118747255799808 [3, 3, 3, 3, 3, 3, 3, 3, 3, 3, 3, 3, 5, 5, 0, 0]\n",
      "123145302310912 [3, 3, 3, 3, 3, 3, 3, 3, 3, 3, 3, 3, 3, 4, 1, 0]\n",
      "127543348822016 [3, 3, 3, 3, 3, 3, 3, 3, 3, 3, 3, 3, 1, 4, 3, 0]\n",
      "131941395333120 [3, 3, 3, 3, 3, 3, 3, 3, 3, 3, 3, 3, 7, 4, 6, 0]\n",
      "136339441844224 [3, 3, 3, 3, 3, 3, 3, 3, 3, 3, 3, 3, 5, 4, 3, 0]\n",
      "140737488355328 [3, 3, 3, 3, 3, 3, 3, 3, 3, 3, 3, 3, 3, 3, 2, 5]\n",
      "145135534866432 [3, 3, 3, 3, 3, 3, 3, 3, 3, 3, 3, 3, 1, 3, 0, 5]\n",
      "149533581377536 [3, 3, 3, 3, 3, 3, 3, 3, 3, 3, 3, 3, 7, 3, 1, 5]\n",
      "153931627888640 [3, 3, 3, 3, 3, 3, 3, 3, 3, 3, 3, 3, 5, 3, 0, 5]\n",
      "158329674399744 [3, 3, 3, 3, 3, 3, 3, 3, 3, 3, 3, 3, 3, 2, 5, 5]\n",
      "162727720910848 [3, 3, 3, 3, 3, 3, 3, 3, 3, 3, 3, 3, 1, 2, 3, 5]\n",
      "167125767421952 [3, 3, 3, 3, 3, 3, 3, 3, 3, 3, 3, 3, 7, 2, 1, 5]\n",
      "171523813933056 [3, 3, 3, 3, 3, 3, 3, 3, 3, 3, 3, 3, 5, 2, 5, 5]\n",
      "175921860444160 [3, 3, 3, 3, 3, 3, 3, 3, 3, 3, 3, 3, 3, 1, 2, 3]\n",
      "180319906955264 [3, 3, 3, 3, 3, 3, 3, 3, 3, 3, 3, 3, 1, 1, 0, 3]\n",
      "184717953466368 [3, 3, 3, 3, 3, 3, 3, 3, 3, 3, 3, 3, 7, 1, 1, 3]\n",
      "189115999977472 [3, 3, 3, 3, 3, 3, 3, 3, 3, 3, 3, 3, 5, 1, 0, 3]\n",
      "193514046488576 [3, 3, 3, 3, 3, 3, 3, 3, 3, 3, 3, 3, 3, 0, 1, 3]\n",
      "197912092999680 [3, 3, 3, 3, 3, 3, 3, 3, 3, 3, 3, 3, 1, 0, 3, 3]\n",
      "202310139510784 [3, 3, 3, 3, 3, 3, 3, 3, 3, 3, 3, 3, 7, 0, 0, 3]\n",
      "206708186021888 [3, 3, 3, 3, 3, 3, 3, 3, 3, 3, 3, 3, 5, 0, 7, 3]\n",
      "211106232532992 [3, 3, 3, 3, 3, 3, 3, 3, 3, 3, 3, 3, 3, 7, 2, 5]\n",
      "215504279044096 [3, 3, 3, 3, 3, 3, 3, 3, 3, 3, 3, 3, 1, 7, 1, 5]\n",
      "219902325555200 [3, 3, 3, 3, 3, 3, 3, 3, 3, 3, 3, 3, 7, 7, 1, 5]\n",
      "224300372066304 [3, 3, 3, 3, 3, 3, 3, 3, 3, 3, 3, 3, 5, 7, 0, 5]\n",
      "228698418577408 [3, 3, 3, 3, 3, 3, 3, 3, 3, 3, 3, 3, 3, 6, 5, 5]\n",
      "233096465088512 [3, 3, 3, 3, 3, 3, 3, 3, 3, 3, 3, 3, 1, 6, 3, 5]\n",
      "237494511599616 [3, 3, 3, 3, 3, 3, 3, 3, 3, 3, 3, 3, 7, 6, 3, 5]\n",
      "241892558110720 [3, 3, 3, 3, 3, 3, 3, 3, 3, 3, 3, 3, 5, 6, 1, 5]\n",
      "246290604621824 [3, 3, 3, 3, 3, 3, 3, 3, 3, 3, 3, 3, 3, 5, 2, 5]\n",
      "250688651132928 [3, 3, 3, 3, 3, 3, 3, 3, 3, 3, 3, 3, 1, 5, 1, 5]\n",
      "255086697644032 [3, 3, 3, 3, 3, 3, 3, 3, 3, 3, 3, 3, 7, 5, 1, 5]\n",
      "259484744155136 [3, 3, 3, 3, 3, 3, 3, 3, 3, 3, 3, 3, 5, 5, 0, 5]\n",
      "263882790666240 [3, 3, 3, 3, 3, 3, 3, 3, 3, 3, 3, 3, 3, 4, 1, 5]\n",
      "268280837177344 [3, 3, 3, 3, 3, 3, 3, 3, 3, 3, 3, 3, 1, 4, 3, 5]\n",
      "272678883688448 [3, 3, 3, 3, 3, 3, 3, 3, 3, 3, 3, 3, 7, 4, 2, 5]\n",
      "277076930199552 [3, 3, 3, 3, 3, 3, 3, 3, 3, 3, 3, 3, 5, 4, 3, 5]\n"
     ]
    }
   ],
   "source": [
    "for A in range(min_A, max_A, 8**14):\n",
    "    print(A, myprog(A))"
   ]
  },
  {
   "cell_type": "markdown",
   "id": "03e9f9f3-c6b5-4630-ae3f-f1096a488bc2",
   "metadata": {},
   "source": [
    "Note that the pattern mentioned in https://www.reddit.com/r/adventofcode/comments/1hg38ah/comment/m2vn8nx/ doesn't hold. The last 4 digits change. When using 8**13, the last digit still changes. Despite that, the solution actually works. Stolen from https://github.com/ading2210/advent-of-code-solutions/blob/main/2024/day17/day17.py"
   ]
  },
  {
   "cell_type": "code",
   "execution_count": 30,
   "id": "d0facc25-8b8d-4f32-8916-390a9cedd206",
   "metadata": {},
   "outputs": [],
   "source": [
    "def part2(program):\n",
    "  output = []\n",
    "  matched = program[-1:] #the last n digits of the program that it looks for\n",
    "  init_a = 8 ** 15 #this is the minimum value required to have a 16 digit output\n",
    "  power = 14 #increment by 8 ** 13 to begin with\n",
    "\n",
    "  while output != program:\n",
    "    init_a += 8 ** power\n",
    "    output = myprog(init_a)\n",
    "    #when the digits match, decrement the power by 1\n",
    "    #by decreasing the power, the matched digits will no longer change\n",
    "    if output[-len(matched):] == matched:\n",
    "      print(init_a, power, matched)\n",
    "      power = max(0, power - 1)\n",
    "      matched = program[-(len(matched)+1):]\n",
    "\n",
    "  return init_a"
   ]
  },
  {
   "cell_type": "code",
   "execution_count": 31,
   "id": "2bf0a106-5320-4855-9795-db85ae4da99f",
   "metadata": {},
   "outputs": [],
   "source": [
    "program = list(data['Program'])"
   ]
  },
  {
   "cell_type": "code",
   "execution_count": 32,
   "id": "93c22f65-5714-4a69-b134-86e2b6e99f85",
   "metadata": {},
   "outputs": [
    {
     "data": {
      "text/plain": [
       "[2, 4, 1, 5, 7, 5, 1, 6, 4, 2, 5, 5, 0, 3, 3, 0]"
      ]
     },
     "execution_count": 32,
     "metadata": {},
     "output_type": "execute_result"
    }
   ],
   "source": [
    "program"
   ]
  },
  {
   "cell_type": "code",
   "execution_count": 33,
   "id": "6042ab16-9470-409c-afb4-2ebcbd6cacbc",
   "metadata": {},
   "outputs": [
    {
     "data": {
      "text/plain": [
       "[0]"
      ]
     },
     "execution_count": 33,
     "metadata": {},
     "output_type": "execute_result"
    }
   ],
   "source": [
    "program[-1:]"
   ]
  },
  {
   "cell_type": "code",
   "execution_count": 34,
   "id": "ce649c25-2096-4e72-a3cf-f97b00871dab",
   "metadata": {},
   "outputs": [
    {
     "name": "stdout",
     "output_type": "stream",
     "text": [
      "105553116266496 14 [0]\n",
      "106102872080384 13 [3, 0]\n",
      "107202383708160 12 [3, 3, 0]\n",
      "107408542138368 11 [0, 3, 3, 0]\n",
      "107409615880192 10 [5, 0, 3, 3, 0]\n",
      "107412837105664 9 [5, 5, 0, 3, 3, 0]\n",
      "107412853882880 8 [2, 5, 5, 0, 3, 3, 0]\n",
      "107412887437312 7 [4, 2, 5, 5, 0, 3, 3, 0]\n",
      "107412900020224 6 [6, 4, 2, 5, 5, 0, 3, 3, 0]\n",
      "107412901855232 5 [1, 6, 4, 2, 5, 5, 0, 3, 3, 0]\n",
      "107416868487168 4 [5, 1, 6, 4, 2, 5, 5, 0, 3, 3, 0]\n",
      "107416870453248 3 [7, 5, 1, 6, 4, 2, 5, 5, 0, 3, 3, 0]\n",
      "107416870455296 2 [5, 7, 5, 1, 6, 4, 2, 5, 5, 0, 3, 3, 0]\n",
      "107416870455424 1 [1, 5, 7, 5, 1, 6, 4, 2, 5, 5, 0, 3, 3, 0]\n",
      "107416870455448 0 [4, 1, 5, 7, 5, 1, 6, 4, 2, 5, 5, 0, 3, 3, 0]\n",
      "107416870455451 0 [2, 4, 1, 5, 7, 5, 1, 6, 4, 2, 5, 5, 0, 3, 3, 0]\n"
     ]
    },
    {
     "data": {
      "text/plain": [
       "107416870455451"
      ]
     },
     "execution_count": 34,
     "metadata": {},
     "output_type": "execute_result"
    }
   ],
   "source": [
    "part2(program)"
   ]
  },
  {
   "cell_type": "code",
   "execution_count": null,
   "id": "69a07686-31b7-40ac-97b1-bfb0428484cd",
   "metadata": {},
   "outputs": [],
   "source": []
  }
 ],
 "metadata": {
  "kernelspec": {
   "display_name": "Python 3 (ipykernel)",
   "language": "python",
   "name": "python3"
  },
  "language_info": {
   "codemirror_mode": {
    "name": "ipython",
    "version": 3
   },
   "file_extension": ".py",
   "mimetype": "text/x-python",
   "name": "python",
   "nbconvert_exporter": "python",
   "pygments_lexer": "ipython3",
   "version": "3.12.7"
  }
 },
 "nbformat": 4,
 "nbformat_minor": 5
}
