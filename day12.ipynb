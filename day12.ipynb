{
 "cells": [
  {
   "cell_type": "code",
   "execution_count": 1,
   "id": "76a67017-1d01-4d70-a84d-1d504f7f8d03",
   "metadata": {},
   "outputs": [],
   "source": [
    "import itertools\n",
    "import collections"
   ]
  },
  {
   "cell_type": "code",
   "execution_count": 6,
   "id": "8429e113-a556-4f26-9a90-0358398760a6",
   "metadata": {},
   "outputs": [],
   "source": [
    "testlines = '''RRRRIICCFF\n",
    "RRRRIICCCF\n",
    "VVRRRCCFFF\n",
    "VVRCCCJFFF\n",
    "VVVVCJJCFE\n",
    "VVIVCCJJEE\n",
    "VVIIICJJEE\n",
    "MIIIIIJJEE\n",
    "MIIISIJEEE\n",
    "MMMISSJEEE'''.splitlines()"
   ]
  },
  {
   "cell_type": "code",
   "execution_count": 5,
   "id": "aee8acb1-f136-4589-b721-61f88f030516",
   "metadata": {},
   "outputs": [],
   "source": [
    "with open('day12input.txt') as fp:\n",
    "    data = fp.read().splitlines()"
   ]
  },
  {
   "cell_type": "markdown",
   "id": "f697bddd-34ab-46a7-a6ef-ca7d50ccabb4",
   "metadata": {},
   "source": [
    "## Part 1 ##"
   ]
  },
  {
   "cell_type": "code",
   "execution_count": 9,
   "id": "09e8ee56-5d27-4882-8e04-22b114286a38",
   "metadata": {},
   "outputs": [],
   "source": [
    "from collections import deque\n",
    "\n",
    "def BFS(graph, start):\n",
    "    visited = set()  # Keep track of the nodes that we've visited\n",
    "    queue = deque([start])  # Use a queue to implement the BFS\n",
    "\n",
    "    while queue:\n",
    "        node = queue.popleft()  # Dequeue a node from front of queue\n",
    "        if node not in visited:\n",
    "            visited.add(node)  # Mark the node as visited\n",
    "            queue.extend(graph[node])  # Enqueue all neighbours\n",
    "    return visited"
   ]
  },
  {
   "cell_type": "code",
   "execution_count": 10,
   "id": "b4cfe875-0dce-4bb8-9ed3-ebc228c64b12",
   "metadata": {},
   "outputs": [],
   "source": [
    "def get_graph(lines):\n",
    "    nbrs = (+1, 0), (-1, 0), (0, +1), (0, -1)\n",
    "    nrows, ncols = len(lines), len(lines[0])\n",
    "    graph = {}\n",
    "    for row, line in enumerate(lines):\n",
    "        for col, c in enumerate(line):\n",
    "            graph[(row, col)] = [] # even nodes w/o connections should be here\n",
    "            for nbr in nbrs:\n",
    "                nbr_row, nbr_col = row+nbr[0], col+nbr[1]\n",
    "                if (0 <= nbr_row < nrows) and (0 <= nbr_col < ncols) and (c == lines[nbr_row][nbr_col]):\n",
    "                    graph[(row, col)].append((nbr_row, nbr_col))\n",
    "    return graph, nrows, ncols"
   ]
  },
  {
   "cell_type": "code",
   "execution_count": 15,
   "id": "7e1547e7-ff1a-4bcc-ba76-32c90739661f",
   "metadata": {},
   "outputs": [],
   "source": [
    "def get_clusters(graph, nrows, ncols):\n",
    "    clusters = []\n",
    "    seen = set()\n",
    "    for row in range(nrows):\n",
    "        for col in range(ncols):\n",
    "            pos = (row, col)\n",
    "            if pos in seen:\n",
    "                continue\n",
    "            cluster = BFS(graph, pos)\n",
    "            clusters.append(cluster)\n",
    "            for node in cluster:\n",
    "                seen.add(node)\n",
    "    return clusters"
   ]
  },
  {
   "cell_type": "code",
   "execution_count": 26,
   "id": "f65dc802-6b63-4af9-b7c1-00e7ffa4f502",
   "metadata": {},
   "outputs": [],
   "source": [
    "sides_from_attached = {0:4, 1:3, 2:2, 3:1, 4:0}\n",
    "def score_cluster(cluster, graph):\n",
    "    area = len(cluster)\n",
    "    perimeter = 0\n",
    "    for node in cluster:\n",
    "        num_attached = len(graph[node])\n",
    "        perimeter += sides_from_attached[num_attached]\n",
    "    return area*perimeter"
   ]
  },
  {
   "cell_type": "code",
   "execution_count": 24,
   "id": "9a860037-cf02-4cbe-8597-aba6fc282e5f",
   "metadata": {},
   "outputs": [],
   "source": [
    "def part1(lines):\n",
    "    graph, nrows, ncols = get_graph(lines)\n",
    "    clusters = get_clusters(graph, nrows, ncols)\n",
    "    return sum(score_cluster(cluster, graph) for cluster in clusters)"
   ]
  },
  {
   "cell_type": "code",
   "execution_count": 27,
   "id": "2341ed56-03c0-4c0c-b413-9edcc324a1b7",
   "metadata": {},
   "outputs": [],
   "source": [
    "assert(1930 == part1(testlines))"
   ]
  },
  {
   "cell_type": "code",
   "execution_count": 28,
   "id": "7e249b7d-99d9-4be1-b577-b964ed680321",
   "metadata": {},
   "outputs": [
    {
     "data": {
      "text/plain": [
       "1374934"
      ]
     },
     "execution_count": 28,
     "metadata": {},
     "output_type": "execute_result"
    }
   ],
   "source": [
    "part1(data)"
   ]
  },
  {
   "cell_type": "markdown",
   "id": "cc9e810c-f4fa-46e4-bd28-ddd37354f361",
   "metadata": {},
   "source": [
    "## Part 2 ##\n",
    "\n",
    "One trick is that the number of \"sides\" is equal to the number of corners, but there are two different types of corners.\n",
    "See https://www.reddit.com/r/adventofcode/comments/1hcdnk0/comment/m1nkmol/, and verify with examples."
   ]
  },
  {
   "cell_type": "code",
   "execution_count": 29,
   "id": "ec836854-cb8e-4574-beec-18a975a64d24",
   "metadata": {},
   "outputs": [],
   "source": [
    "testlines2a = '''AAAA\n",
    "BBCD\n",
    "BBCC\n",
    "EEEC'''.splitlines()\n",
    "testlines2b = '''EEEEE\n",
    "EXXXX\n",
    "EEEEE\n",
    "EXXXX\n",
    "EEEEE'''.splitlines()\n",
    "testlines2c = '''AAAAAA\n",
    "AAABBA\n",
    "AAABBA\n",
    "ABBAAA\n",
    "ABBAAA\n",
    "AAAAAA'''.splitlines()"
   ]
  },
  {
   "cell_type": "code",
   "execution_count": 32,
   "id": "cd9e9a8d-cf8f-49a1-ae42-5195141e584e",
   "metadata": {},
   "outputs": [],
   "source": [
    "graph, nrows, ncols = get_graph(testlines2a)\n",
    "clusters = get_clusters(graph, nrows, ncols)"
   ]
  },
  {
   "cell_type": "code",
   "execution_count": 33,
   "id": "2c3cdb71-0ab1-4420-ae88-526e0cf8301e",
   "metadata": {},
   "outputs": [
    {
     "data": {
      "text/plain": [
       "[{(0, 0), (0, 1), (0, 2), (0, 3)},\n",
       " {(1, 0), (1, 1), (2, 0), (2, 1)},\n",
       " {(1, 2), (2, 2), (2, 3), (3, 3)},\n",
       " {(1, 3)},\n",
       " {(3, 0), (3, 1), (3, 2)}]"
      ]
     },
     "execution_count": 33,
     "metadata": {},
     "output_type": "execute_result"
    }
   ],
   "source": [
    "clusters"
   ]
  },
  {
   "cell_type": "code",
   "execution_count": 54,
   "id": "bcdc565a-dbef-4bd5-ba5c-c0bf371e8191",
   "metadata": {},
   "outputs": [],
   "source": [
    "def get_corners(pos, cluster):\n",
    "    #  geometry around position A\n",
    "    #  a b c\n",
    "    #  h A d\n",
    "    #  g f e\n",
    "    row, col = pos\n",
    "    a = (row-1, col-1) in cluster\n",
    "    b = (row-1, col) in cluster\n",
    "    c = (row-1, col+1) in cluster\n",
    "    d = (row, col+1) in cluster\n",
    "    e = (row+1, col+1) in cluster\n",
    "    f = (row+1, col) in cluster\n",
    "    g = (row+1, col-1) in cluster\n",
    "    h = (row, col-1) in cluster\n",
    "    corners = 0\n",
    "    # outer corners\n",
    "    if (h == False) and (b == False):\n",
    "        corners += 1\n",
    "    if (b == False) and (d == False):\n",
    "        corners += 1\n",
    "    if (d == False) and (f == False):\n",
    "        corners += 1\n",
    "    if (f == False) and (h == False):\n",
    "        corners += 1\n",
    "    # inner corners\n",
    "    if (h == True) and (b == True) and (a == False):\n",
    "        corners += 1\n",
    "    if (b == True) and (d == True) and (c == False):\n",
    "        corners += 1\n",
    "    if (d == True) and (f == True) and (e == False):\n",
    "        corners += 1\n",
    "    if (f == True) and (h == True) and (g == False):\n",
    "        corners += 1\n",
    "    return corners"
   ]
  },
  {
   "cell_type": "code",
   "execution_count": 56,
   "id": "69b7b539-74a7-4a32-ab04-26abeaadf01a",
   "metadata": {},
   "outputs": [],
   "source": [
    "def score_cluster2(cluster):\n",
    "    area = len(cluster)\n",
    "    sides = sum(get_corners(node, cluster) for node in cluster)\n",
    "    return area*sides"
   ]
  },
  {
   "cell_type": "code",
   "execution_count": 58,
   "id": "ee7eb8aa-9070-4167-b08a-b79e623ce77c",
   "metadata": {},
   "outputs": [],
   "source": [
    "def part2(lines):\n",
    "    graph, nrows, ncols = get_graph(lines)\n",
    "    clusters = get_clusters(graph, nrows, ncols)\n",
    "    return sum(score_cluster2(cluster) for cluster in clusters)"
   ]
  },
  {
   "cell_type": "code",
   "execution_count": 60,
   "id": "edb933fc-dbd6-47d2-ab70-58e4c06af634",
   "metadata": {},
   "outputs": [],
   "source": [
    "assert(236 == part2(testlines2b))\n",
    "assert(368 == part2(testlines2c))"
   ]
  },
  {
   "cell_type": "code",
   "execution_count": 61,
   "id": "256a1d9e-bb76-4984-ba1c-01c6224e94ba",
   "metadata": {},
   "outputs": [
    {
     "data": {
      "text/plain": [
       "841078"
      ]
     },
     "execution_count": 61,
     "metadata": {},
     "output_type": "execute_result"
    }
   ],
   "source": [
    "part2(data)"
   ]
  },
  {
   "cell_type": "code",
   "execution_count": 46,
   "id": "e51dbe79-c6d7-470e-9b72-94a7ac6fe853",
   "metadata": {},
   "outputs": [
    {
     "data": {
      "text/plain": [
       "[{(0, 0), (0, 1), (0, 2), (0, 3)},\n",
       " {(1, 0), (1, 1), (2, 0), (2, 1)},\n",
       " {(1, 2), (2, 2), (2, 3), (3, 3)},\n",
       " {(1, 3)},\n",
       " {(3, 0), (3, 1), (3, 2)}]"
      ]
     },
     "execution_count": 46,
     "metadata": {},
     "output_type": "execute_result"
    }
   ],
   "source": [
    "clusters"
   ]
  },
  {
   "cell_type": "code",
   "execution_count": null,
   "id": "a1c8519f-0b3b-4085-9369-dcc48965bd3b",
   "metadata": {},
   "outputs": [],
   "source": []
  }
 ],
 "metadata": {
  "kernelspec": {
   "display_name": "Python 3 (ipykernel)",
   "language": "python",
   "name": "python3"
  },
  "language_info": {
   "codemirror_mode": {
    "name": "ipython",
    "version": 3
   },
   "file_extension": ".py",
   "mimetype": "text/x-python",
   "name": "python",
   "nbconvert_exporter": "python",
   "pygments_lexer": "ipython3",
   "version": "3.12.7"
  }
 },
 "nbformat": 4,
 "nbformat_minor": 5
}
