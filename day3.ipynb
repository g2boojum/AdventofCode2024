{
 "cells": [
  {
   "cell_type": "code",
   "execution_count": 1,
   "id": "c92daf45-5382-4177-8ca6-3279cb22ff7c",
   "metadata": {},
   "outputs": [],
   "source": [
    "%matplotlib inline\n",
    "import re"
   ]
  },
  {
   "cell_type": "code",
   "execution_count": 2,
   "id": "f9786f2d-2a7a-44db-94d6-0d2f86f6e305",
   "metadata": {},
   "outputs": [],
   "source": [
    "testline = \"xmul(2,4)%&mul[3,7]!@^do_not_mul(5,5)+mul(32,64]then(mul(11,8)mul(8,5))\""
   ]
  },
  {
   "cell_type": "code",
   "execution_count": 3,
   "id": "c255551e-322a-48d6-a34b-3844a46320ee",
   "metadata": {},
   "outputs": [],
   "source": [
    "with open('day3input.txt') as fp:\n",
    "    data = fp.read()"
   ]
  },
  {
   "cell_type": "markdown",
   "id": "e1336062-c9f0-445b-912a-08380d366414",
   "metadata": {},
   "source": [
    "## Part 1 ##"
   ]
  },
  {
   "cell_type": "code",
   "execution_count": 4,
   "id": "ab568df0-c43f-4c17-a900-6e5f6c1795b9",
   "metadata": {},
   "outputs": [],
   "source": [
    "p = re.compile(r'mul\\(\\d\\d?\\d?,\\d\\d?\\d?\\)')"
   ]
  },
  {
   "cell_type": "code",
   "execution_count": 5,
   "id": "358493ec-f01d-4682-a31a-a099801e87bf",
   "metadata": {},
   "outputs": [],
   "source": [
    "def part1(line):\n",
    "    s = 0\n",
    "    for m in p.finditer(line):\n",
    "        a,b = m.group()[4:-1].split(',')\n",
    "        s += int(a)*int(b)\n",
    "    return s"
   ]
  },
  {
   "cell_type": "code",
   "execution_count": 6,
   "id": "33bcf0d9-5a25-468e-8e92-4a601087a5b0",
   "metadata": {},
   "outputs": [],
   "source": [
    "assert(161 == part1(testline))"
   ]
  },
  {
   "cell_type": "code",
   "execution_count": 7,
   "id": "38549565-bcc2-4c95-a11e-fb6f9a0eee78",
   "metadata": {},
   "outputs": [
    {
     "data": {
      "text/plain": [
       "174103751"
      ]
     },
     "execution_count": 7,
     "metadata": {},
     "output_type": "execute_result"
    }
   ],
   "source": [
    "part1(data)"
   ]
  },
  {
   "cell_type": "markdown",
   "id": "7f2607ad-79b9-4e4a-a94f-fd9f7ce6d2e3",
   "metadata": {},
   "source": [
    "## Part 2 ##"
   ]
  },
  {
   "cell_type": "code",
   "execution_count": 8,
   "id": "bc90fa98-3b0d-490c-a32e-8390654c47aa",
   "metadata": {},
   "outputs": [],
   "source": [
    "testline2 = \"xmul(2,4)&mul[3,7]!^don't()_mul(5,5)+mul(32,64](mul(11,8)undo()?mul(8,5))\""
   ]
  },
  {
   "cell_type": "code",
   "execution_count": 9,
   "id": "b233a146-90fc-469d-8584-3a9f03a99e36",
   "metadata": {},
   "outputs": [],
   "source": [
    "do_re = re.compile(r'do\\(\\)')\n",
    "dont_re = re.compile(r\"don\\'t\\(\\)\")"
   ]
  },
  {
   "cell_type": "code",
   "execution_count": 10,
   "id": "ea8e70f8-79e7-4da6-8404-dd3777681d56",
   "metadata": {},
   "outputs": [
    {
     "name": "stdout",
     "output_type": "stream",
     "text": [
      "do() (59, 63)\n"
     ]
    }
   ],
   "source": [
    "for m in do_re.finditer(testline2):\n",
    "    print(m.group(), m.span())"
   ]
  },
  {
   "cell_type": "code",
   "execution_count": 11,
   "id": "03a3ccf7-ff4f-44f5-9f29-8d4ea44c4606",
   "metadata": {},
   "outputs": [
    {
     "name": "stdout",
     "output_type": "stream",
     "text": [
      "don't() (20, 27)\n"
     ]
    }
   ],
   "source": [
    "for m in dont_re.finditer(testline2):\n",
    "    print(m.group(), m.span())"
   ]
  },
  {
   "cell_type": "code",
   "execution_count": 12,
   "id": "2dd034c2-9030-4cd2-a280-c7594b8bd0e0",
   "metadata": {},
   "outputs": [],
   "source": [
    "def get_locs(myre, line):\n",
    "    locs = []\n",
    "    for m in myre.finditer(line):\n",
    "        locs.append(m.span()[0])\n",
    "    return locs"
   ]
  },
  {
   "cell_type": "code",
   "execution_count": 13,
   "id": "26684e09-8a58-4def-8716-3e65dd8cbc93",
   "metadata": {},
   "outputs": [],
   "source": [
    "def get_disabled_regions(line):\n",
    "    dolocs = get_locs(do_re, line)\n",
    "    dontlocs = get_locs(dont_re, line)\n",
    "    disabled = []\n",
    "    for dontloc in dontlocs:\n",
    "        for doloc in dolocs:\n",
    "            if doloc > dontloc:\n",
    "                disabled.append((dontloc, doloc))\n",
    "                break\n",
    "    return disabled"
   ]
  },
  {
   "cell_type": "code",
   "execution_count": 14,
   "id": "dfd2784a-8058-43b8-b42d-da767b0b4eaf",
   "metadata": {},
   "outputs": [],
   "source": [
    "def is_disabled_loc(loc, disabled_regions):\n",
    "    for locmin,locmax in disabled_regions:\n",
    "        if locmin < loc < locmax:\n",
    "            return True\n",
    "    return False"
   ]
  },
  {
   "cell_type": "code",
   "execution_count": 15,
   "id": "c3f85b92-2fb2-4aae-b488-b4396d2f0bfe",
   "metadata": {},
   "outputs": [],
   "source": [
    "def part2(line):\n",
    "    disabled_regions = get_disabled_regions(line)\n",
    "    s = 0\n",
    "    for m in p.finditer(line):\n",
    "        loc = m.span()[0]\n",
    "        if is_disabled_loc(loc, disabled_regions):\n",
    "            continue\n",
    "        a,b = m.group()[4:-1].split(',')\n",
    "        s += int(a)*int(b)\n",
    "    return s"
   ]
  },
  {
   "cell_type": "code",
   "execution_count": 16,
   "id": "007d9317-0119-4b86-8b55-cbf4e1fa79bb",
   "metadata": {},
   "outputs": [],
   "source": [
    "assert(48 == part2(testline2))"
   ]
  },
  {
   "cell_type": "code",
   "execution_count": 17,
   "id": "fa7e7f61-7ace-4fa2-a92c-240e3b8913c2",
   "metadata": {},
   "outputs": [
    {
     "data": {
      "text/plain": [
       "100411201"
      ]
     },
     "execution_count": 17,
     "metadata": {},
     "output_type": "execute_result"
    }
   ],
   "source": [
    "part2(data)"
   ]
  },
  {
   "cell_type": "code",
   "execution_count": 20,
   "id": "8b02be44-adff-47b4-a564-e198185f1f65",
   "metadata": {},
   "outputs": [
    {
     "name": "stdout",
     "output_type": "stream",
     "text": [
      "174103751\n",
      "100411201\n"
     ]
    }
   ],
   "source": [
    "from re import findall\n",
    "d = \"do()\" + open(\"day3input.txt\").read().replace('\\n',' ') + \"don't()\"\n",
    "for i in 1, 2:\n",
    "    print(sum(int(x)*int(y) for x,y in findall(r\"mul\\((\\d+),(\\d+)\\)\", d)))\n",
    "    d = \"\".join(findall(r\"do\\(\\)(.*?)don't\\(\\)\", d))\n",
    "    if i == 1:\n",
    "        shorter = d"
   ]
  },
  {
   "cell_type": "code",
   "execution_count": 21,
   "id": "45f18405-3a3e-4e5e-b16e-9e04412d52b8",
   "metadata": {},
   "outputs": [
    {
     "data": {
      "text/plain": [
       "100411201"
      ]
     },
     "execution_count": 21,
     "metadata": {},
     "output_type": "execute_result"
    }
   ],
   "source": [
    "part1(shorter)"
   ]
  },
  {
   "cell_type": "code",
   "execution_count": 22,
   "id": "6efb1536-86cd-4485-ba1f-11748c1ad1e1",
   "metadata": {},
   "outputs": [],
   "source": [
    "disabled_regions = get_disabled_regions(data)\n",
    "s = 0\n",
    "muls = []\n",
    "for m in p.finditer(data):\n",
    "    loc = m.span()[0]\n",
    "    if is_disabled_loc(loc, disabled_regions):\n",
    "        continue\n",
    "    a,b = m.group()[4:-1].split(',')\n",
    "    s += int(a)*int(b)\n",
    "    muls.append((a,b))"
   ]
  },
  {
   "cell_type": "code",
   "execution_count": 23,
   "id": "2e2b112b-2539-4d51-94d2-53e4f261e17d",
   "metadata": {},
   "outputs": [
    {
     "data": {
      "text/plain": [
       "100411201"
      ]
     },
     "execution_count": 23,
     "metadata": {},
     "output_type": "execute_result"
    }
   ],
   "source": [
    "s"
   ]
  },
  {
   "cell_type": "code",
   "execution_count": 24,
   "id": "5bcf2f3c-cf9d-435d-abcf-a09c84ecbcf0",
   "metadata": {},
   "outputs": [],
   "source": [
    "correct = []\n",
    "for m in p.finditer(shorter):\n",
    "    a,b = m.group()[4:-1].split(',')\n",
    "    correct.append((a, b))"
   ]
  },
  {
   "cell_type": "code",
   "execution_count": 25,
   "id": "18d9d960-407f-4780-aad1-38e6889f20ef",
   "metadata": {},
   "outputs": [],
   "source": [
    "for i, mul in enumerate(muls):\n",
    "    if mul != correct[i]:\n",
    "        print(mul, correct[i])"
   ]
  },
  {
   "cell_type": "code",
   "execution_count": null,
   "id": "5efb7f40-ffd5-49e3-9e9c-753810b55af9",
   "metadata": {},
   "outputs": [],
   "source": []
  }
 ],
 "metadata": {
  "kernelspec": {
   "display_name": "Python 3 (ipykernel)",
   "language": "python",
   "name": "python3"
  },
  "language_info": {
   "codemirror_mode": {
    "name": "ipython",
    "version": 3
   },
   "file_extension": ".py",
   "mimetype": "text/x-python",
   "name": "python",
   "nbconvert_exporter": "python",
   "pygments_lexer": "ipython3",
   "version": "3.12.7"
  }
 },
 "nbformat": 4,
 "nbformat_minor": 5
}
