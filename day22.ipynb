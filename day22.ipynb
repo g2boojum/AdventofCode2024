{
 "cells": [
  {
   "cell_type": "code",
   "execution_count": 1,
   "id": "a01f111f-cd5f-48f8-a547-e5f9ca9f0e80",
   "metadata": {},
   "outputs": [],
   "source": [
    "import itertools"
   ]
  },
  {
   "cell_type": "code",
   "execution_count": 2,
   "id": "b1ba945a-9d79-4b02-9153-cf2cc9a3918b",
   "metadata": {},
   "outputs": [],
   "source": [
    "testlines = '''1\n",
    "10\n",
    "100\n",
    "2024'''.splitlines()"
   ]
  },
  {
   "cell_type": "code",
   "execution_count": 3,
   "id": "9230f8d9-d8a2-4d10-8ff4-b850efe3acd0",
   "metadata": {},
   "outputs": [],
   "source": [
    "with open('day22input.txt') as fp:\n",
    "    data = fp.read().splitlines()"
   ]
  },
  {
   "cell_type": "markdown",
   "id": "8ba59a9d-eb37-42e9-8d3c-6e5a3bdd2552",
   "metadata": {},
   "source": [
    "## Part 1 ##"
   ]
  },
  {
   "cell_type": "code",
   "execution_count": 4,
   "id": "fa9f0fd5-3a90-4109-bdc3-c9f883f1e8a1",
   "metadata": {},
   "outputs": [],
   "source": [
    "def prng(seed):\n",
    "    secret = seed\n",
    "    while True:\n",
    "        secret ^= secret*64\n",
    "        secret %= 16777216\n",
    "        secret ^= secret//32\n",
    "        secret %= 16777216\n",
    "        secret ^= secret*2048\n",
    "        secret %= 16777216\n",
    "        yield secret      "
   ]
  },
  {
   "cell_type": "code",
   "execution_count": 5,
   "id": "ddded167-c0c1-4fde-b8b3-dfaac217420f",
   "metadata": {},
   "outputs": [],
   "source": [
    "def nth(iterable, n, default=None):\n",
    "    \"Returns the nth item or a default value.\"\n",
    "    return next(itertools.islice(iterable, n, None), default)\n"
   ]
  },
  {
   "cell_type": "code",
   "execution_count": 6,
   "id": "b4253285-4296-4f79-96fe-7cbd6c2cca4c",
   "metadata": {},
   "outputs": [
    {
     "data": {
      "text/plain": [
       "4700978"
      ]
     },
     "execution_count": 6,
     "metadata": {},
     "output_type": "execute_result"
    }
   ],
   "source": [
    "nth(prng(10), 1999)"
   ]
  },
  {
   "cell_type": "code",
   "execution_count": 7,
   "id": "ab684eaf-0b40-4379-8167-c6932b0d5fc8",
   "metadata": {},
   "outputs": [],
   "source": [
    "def part1(lines):\n",
    "    return sum(nth(prng(int(seed)), 2000-1) for seed in lines)"
   ]
  },
  {
   "cell_type": "code",
   "execution_count": 8,
   "id": "bfb30084-4f67-42e8-a210-1c0ac71d469f",
   "metadata": {},
   "outputs": [
    {
     "data": {
      "text/plain": [
       "37327623"
      ]
     },
     "execution_count": 8,
     "metadata": {},
     "output_type": "execute_result"
    }
   ],
   "source": [
    "part1(testlines)"
   ]
  },
  {
   "cell_type": "code",
   "execution_count": 9,
   "id": "ecbc2d85-4e58-409f-8f77-e671430ac493",
   "metadata": {},
   "outputs": [
    {
     "data": {
      "text/plain": [
       "13584398738"
      ]
     },
     "execution_count": 9,
     "metadata": {},
     "output_type": "execute_result"
    }
   ],
   "source": [
    "part1(data)"
   ]
  },
  {
   "cell_type": "markdown",
   "id": "c671d4ee-cdb0-4081-8ae2-4ecdc4477d06",
   "metadata": {},
   "source": [
    "## Part 2 ##"
   ]
  },
  {
   "cell_type": "code",
   "execution_count": 10,
   "id": "18bc0554-81ef-49e1-ac6d-a5f6382076c4",
   "metadata": {},
   "outputs": [],
   "source": [
    "testlines2 = '''1\n",
    "2\n",
    "3\n",
    "2024'''.splitlines()"
   ]
  },
  {
   "cell_type": "code",
   "execution_count": 11,
   "id": "3ccdbff3-9d3a-42f5-9b32-aaf06e4b3fcc",
   "metadata": {},
   "outputs": [],
   "source": [
    "def prng2(seed):\n",
    "    secret = seed\n",
    "    while True:\n",
    "        yield secret\n",
    "        secret ^= secret*64\n",
    "        secret %= 16777216\n",
    "        secret ^= secret//32\n",
    "        secret %= 16777216\n",
    "        secret ^= secret*2048\n",
    "        secret %= 16777216"
   ]
  },
  {
   "cell_type": "code",
   "execution_count": 12,
   "id": "b867f7b7-a80a-415f-9530-ec2f41588300",
   "metadata": {},
   "outputs": [
    {
     "data": {
      "text/plain": [
       "[123,\n",
       " 15887950,\n",
       " 16495136,\n",
       " 527345,\n",
       " 704524,\n",
       " 1553684,\n",
       " 12683156,\n",
       " 11100544,\n",
       " 12249484,\n",
       " 7753432]"
      ]
     },
     "execution_count": 12,
     "metadata": {},
     "output_type": "execute_result"
    }
   ],
   "source": [
    "nums = list(itertools.islice(prng2(123), 10))\n",
    "nums"
   ]
  },
  {
   "cell_type": "code",
   "execution_count": 13,
   "id": "c0194815-9acc-4029-b486-fbb7e494a8f5",
   "metadata": {},
   "outputs": [
    {
     "data": {
      "text/plain": [
       "[3, 0, 6, 5, 4, 4, 6, 4, 4, 2]"
      ]
     },
     "execution_count": 13,
     "metadata": {},
     "output_type": "execute_result"
    }
   ],
   "source": [
    "ones = [int(str(num)[-1]) for num in itertools.islice(prng2(123), 10)]\n",
    "ones"
   ]
  },
  {
   "cell_type": "code",
   "execution_count": 14,
   "id": "991c007d-e7a4-4963-8678-1405bade1e6e",
   "metadata": {},
   "outputs": [
    {
     "data": {
      "text/plain": [
       "[-3, 6, -1, -1, 0, 2, -2, 0, -2]"
      ]
     },
     "execution_count": 14,
     "metadata": {},
     "output_type": "execute_result"
    }
   ],
   "source": [
    "diffs = [b-a for a,b in itertools.pairwise(ones)]\n",
    "diffs"
   ]
  },
  {
   "cell_type": "code",
   "execution_count": 15,
   "id": "8cc09abc-5d60-41cf-a0d6-98e9844039c2",
   "metadata": {},
   "outputs": [],
   "source": [
    "seen = set()\n",
    "prices = {}\n",
    "for i in range(4, len(diffs)+1):\n",
    "    a,b,c,d = diffs[i-4:i]\n",
    "    if (a,b,c,d) not in seen:\n",
    "        prices[(a,b,c,d)] = ones[i]\n",
    "        seen.add((a,b,c,d))\n",
    "    "
   ]
  },
  {
   "cell_type": "code",
   "execution_count": 16,
   "id": "b55a2194-609a-4d65-8950-8ce2608dc81b",
   "metadata": {},
   "outputs": [
    {
     "data": {
      "text/plain": [
       "{(-3, 6, -1, -1),\n",
       " (-1, -1, 0, 2),\n",
       " (-1, 0, 2, -2),\n",
       " (0, 2, -2, 0),\n",
       " (2, -2, 0, -2),\n",
       " (6, -1, -1, 0)}"
      ]
     },
     "execution_count": 16,
     "metadata": {},
     "output_type": "execute_result"
    }
   ],
   "source": [
    "seen"
   ]
  },
  {
   "cell_type": "code",
   "execution_count": 17,
   "id": "01055f99-e470-4414-b84c-5bd5e50f8f3f",
   "metadata": {},
   "outputs": [
    {
     "data": {
      "text/plain": [
       "{(-3, 6, -1, -1): 4,\n",
       " (6, -1, -1, 0): 4,\n",
       " (-1, -1, 0, 2): 6,\n",
       " (-1, 0, 2, -2): 4,\n",
       " (0, 2, -2, 0): 4,\n",
       " (2, -2, 0, -2): 2}"
      ]
     },
     "execution_count": 17,
     "metadata": {},
     "output_type": "execute_result"
    }
   ],
   "source": [
    "prices"
   ]
  },
  {
   "cell_type": "code",
   "execution_count": 18,
   "id": "3ad5e556-7fca-4956-98b6-72cfb99f8e47",
   "metadata": {},
   "outputs": [],
   "source": [
    "def build_sequences(seed):\n",
    "    seen = set()\n",
    "    prices = {}\n",
    "    ones = [int(str(num)[-1]) for num in itertools.islice(prng2(seed), 2000)]\n",
    "    diffs = [b-a for a,b in itertools.pairwise(ones)]\n",
    "    for i in range(4, len(diffs)+1):\n",
    "        a, b, c, d = diffs[i-4:i]\n",
    "        if (a,b,c,d) not in seen:\n",
    "            prices[(a,b,c,d)] = ones[i]\n",
    "            seen.add((a,b,c,d))\n",
    "    return prices"
   ]
  },
  {
   "cell_type": "code",
   "execution_count": 19,
   "id": "e783daa0-cc37-44e3-a7e9-cc0915453afe",
   "metadata": {},
   "outputs": [],
   "source": [
    "def part2(lines):\n",
    "    seeds = [int(line) for line in lines]\n",
    "    all_seqs = set()\n",
    "    all_prices = []\n",
    "    for seed in seeds:\n",
    "        prices = build_sequences(seed)\n",
    "        all_prices.append(prices)\n",
    "        all_seqs |= set(prices.keys())\n",
    "    max_bananas = 0\n",
    "    for seq in all_seqs:\n",
    "        s = sum(prices[seq] for prices in all_prices if seq in prices)\n",
    "        if s > max_bananas:\n",
    "            max_bananas = s\n",
    "    return max_bananas"
   ]
  },
  {
   "cell_type": "code",
   "execution_count": 20,
   "id": "45b426af-185a-45d0-936b-a77f989423cf",
   "metadata": {},
   "outputs": [],
   "source": [
    "assert(23 == part2(testlines2))"
   ]
  },
  {
   "cell_type": "code",
   "execution_count": null,
   "id": "9bcf17ed-c80e-4365-9f6c-588f8ae396f6",
   "metadata": {},
   "outputs": [],
   "source": [
    "part2(data)"
   ]
  }
 ],
 "metadata": {
  "kernelspec": {
   "display_name": "Python 3 (ipykernel)",
   "language": "python",
   "name": "python3"
  },
  "language_info": {
   "codemirror_mode": {
    "name": "ipython",
    "version": 3
   },
   "file_extension": ".py",
   "mimetype": "text/x-python",
   "name": "python",
   "nbconvert_exporter": "python",
   "pygments_lexer": "ipython3",
   "version": "3.12.7"
  }
 },
 "nbformat": 4,
 "nbformat_minor": 5
}
