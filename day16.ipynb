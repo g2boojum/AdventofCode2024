{
 "cells": [
  {
   "cell_type": "code",
   "execution_count": 19,
   "id": "baa73994-97e5-4638-bdd6-bf6c74f4eb73",
   "metadata": {},
   "outputs": [],
   "source": [
    "import heapq\n",
    "import collections"
   ]
  },
  {
   "cell_type": "code",
   "execution_count": 2,
   "id": "16177f51-1041-444f-b5da-b5fe28f60cb0",
   "metadata": {},
   "outputs": [],
   "source": [
    "testlines = '''###############\n",
    "#.......#....E#\n",
    "#.#.###.#.###.#\n",
    "#.....#.#...#.#\n",
    "#.###.#####.#.#\n",
    "#.#.#.......#.#\n",
    "#.#.#####.###.#\n",
    "#...........#.#\n",
    "###.#.#####.#.#\n",
    "#...#.....#.#.#\n",
    "#.#.#.###.#.#.#\n",
    "#.....#...#.#.#\n",
    "#.###.#.#.#.#.#\n",
    "#S..#.....#...#\n",
    "###############'''.splitlines()"
   ]
  },
  {
   "cell_type": "code",
   "execution_count": 6,
   "id": "ba706396-b9ca-47bc-96f6-127e6ba9d03a",
   "metadata": {},
   "outputs": [],
   "source": [
    "biggertestlines = '''#################\n",
    "#...#...#...#..E#\n",
    "#.#.#.#.#.#.#.#.#\n",
    "#.#.#.#...#...#.#\n",
    "#.#.#.#.###.#.#.#\n",
    "#...#.#.#.....#.#\n",
    "#.#.#.#.#.#####.#\n",
    "#.#...#.#.#.....#\n",
    "#.#.#####.#.###.#\n",
    "#.#.#.......#...#\n",
    "#.#.###.#####.###\n",
    "#.#.#...#.....#.#\n",
    "#.#.#.#####.###.#\n",
    "#.#.#.........#.#\n",
    "#.#.#.#########.#\n",
    "#S#.............#\n",
    "#################'''.splitlines()"
   ]
  },
  {
   "cell_type": "code",
   "execution_count": 3,
   "id": "b74aacaf-4a01-4742-a533-ace5c7f32558",
   "metadata": {},
   "outputs": [],
   "source": [
    "with open('day16input.txt') as fp:\n",
    "    data = fp.read().splitlines()"
   ]
  },
  {
   "cell_type": "markdown",
   "id": "d3918a51-2936-464c-aea2-90891a9267e2",
   "metadata": {},
   "source": [
    "## Part 1 ##"
   ]
  },
  {
   "cell_type": "code",
   "execution_count": 7,
   "id": "95f2a642-1d33-4343-811c-84d24af3e722",
   "metadata": {},
   "outputs": [],
   "source": [
    "def get_walls_start_end(lines):\n",
    "    walls = set()\n",
    "    for row, line in enumerate(lines):\n",
    "        for col, c in enumerate(line):\n",
    "            if '.' == c:\n",
    "                continue\n",
    "            elif '#' == c:\n",
    "                walls.add((row, col))\n",
    "            elif 'S' == c:\n",
    "                start = (row, col)\n",
    "            elif 'E' == c:\n",
    "                end = (row, col)\n",
    "            else:\n",
    "                raise ValueError(f'Bad character {c} at ({row},{col})')\n",
    "    return walls, start, end"
   ]
  },
  {
   "cell_type": "code",
   "execution_count": 9,
   "id": "79704fe5-7460-4bb9-b34f-9ca6a444ab8f",
   "metadata": {},
   "outputs": [],
   "source": [
    "walls, start, end = get_walls_start_end(testlines)"
   ]
  },
  {
   "cell_type": "code",
   "execution_count": 10,
   "id": "dbe9ba07-8b20-41ba-83c2-440af62f8217",
   "metadata": {},
   "outputs": [
    {
     "data": {
      "text/plain": [
       "((13, 1), (1, 13))"
      ]
     },
     "execution_count": 10,
     "metadata": {},
     "output_type": "execute_result"
    }
   ],
   "source": [
    "start, end"
   ]
  },
  {
   "cell_type": "markdown",
   "id": "9bfa7d5b-76a7-4a5b-a75b-0cc4253bc5b8",
   "metadata": {},
   "source": [
    "Stealing Dijkstra code from https://www.reddit.com/r/adventofcode/comments/1hfboft/comment/m2b0pw2/"
   ]
  },
  {
   "cell_type": "code",
   "execution_count": 13,
   "id": "f9fea4e9-2bbf-4450-9c6c-a0c502cc856b",
   "metadata": {},
   "outputs": [],
   "source": [
    "DIRS = [(0,+1), (+1, 0), (0, -1), (-1, 0)] # E, S, W, N\n",
    "COSTS = {'forward': 1, 'turn': 1000}\n",
    "def traverse(source, target, walls):\n",
    "    q = [(0, source, 0)]\n",
    "    seen = set()\n",
    "    while q:\n",
    "        cost, pos, d = heapq.heappop(q)\n",
    "        if (pos, d) in seen:\n",
    "            continue\n",
    "        if target == pos:\n",
    "            return cost\n",
    "        seen.add((pos, d))\n",
    "        # add possible next moves to the queue\n",
    "        forward = (pos[0] + DIRS[d][0], pos[1]+DIRS[d][1])\n",
    "        if forward not in walls:\n",
    "            heapq.heappush(q, (cost+COSTS['forward'], forward, d))\n",
    "        heapq.heappush(q, (cost+COSTS['turn'], pos, (d+1)%4)) # turn 90 deg rt / CW\n",
    "        heapq.heappush(q, (cost+COSTS['turn'], pos, (d-1)%4)) # turn 90 deg lf / CCW\n",
    "    raise ValueError('Heap queue exhausted without finding the target')"
   ]
  },
  {
   "cell_type": "code",
   "execution_count": 14,
   "id": "00e682c5-a2d3-4004-8bb3-ebd5c763aef6",
   "metadata": {},
   "outputs": [],
   "source": [
    "def part1(lines):\n",
    "    walls, start, end = get_walls_start_end(lines)\n",
    "    cost = traverse(start, end, walls)\n",
    "    return cost"
   ]
  },
  {
   "cell_type": "code",
   "execution_count": 15,
   "id": "3aca5664-efa7-45a2-823c-5c9b3e90cf2f",
   "metadata": {},
   "outputs": [],
   "source": [
    "assert(7036 == part1(testlines))"
   ]
  },
  {
   "cell_type": "code",
   "execution_count": 17,
   "id": "f76367bd-3d3b-4f34-b585-d6e2cbe791d4",
   "metadata": {},
   "outputs": [],
   "source": [
    "assert(11048 == part1(biggertestlines))"
   ]
  },
  {
   "cell_type": "code",
   "execution_count": 18,
   "id": "22284290-9923-4689-aa85-3895488da85a",
   "metadata": {},
   "outputs": [
    {
     "data": {
      "text/plain": [
       "73404"
      ]
     },
     "execution_count": 18,
     "metadata": {},
     "output_type": "execute_result"
    }
   ],
   "source": [
    "part1(data)"
   ]
  },
  {
   "cell_type": "markdown",
   "id": "8da30ee1-4775-488e-9282-22a409252bf2",
   "metadata": {},
   "source": [
    "## Part 2 ##\n",
    "\n",
    "Again, just blatently stealing the solution posted above, which modifies the Dijkstra code to keep the paths, given we already know the optimal cost from Part 1."
   ]
  },
  {
   "cell_type": "code",
   "execution_count": 67,
   "id": "0d7500ce-637a-438d-bea7-8893b1aa9a05",
   "metadata": {},
   "outputs": [],
   "source": [
    "def find_valid_links(source, target, target_cost, walls):\n",
    "    best_costs = {}\n",
    "    links = collections.defaultdict(set)\n",
    "    q = [(0, source, 0, None)]\n",
    "    while q:\n",
    "        cost, pos, d, prev = heapq.heappop(q)\n",
    "        if cost > target_cost:\n",
    "            # min cost in the heap is too big, so all valid routes have been found\n",
    "            return links\n",
    "        if (pos, d) in best_costs:\n",
    "            # if we've found a new good route, record it!\n",
    "            if cost == best_costs[(pos, d)]:\n",
    "                links[(pos, d)].add(prev)\n",
    "            continue\n",
    "        # now we know we have a new best cost\n",
    "        best_costs[(pos, d)] = cost\n",
    "        links[(pos, d)].add(prev)\n",
    "\n",
    "        # back to \"normal\" Dijkstra\n",
    "        prev = (pos, d)\n",
    "        forward = (pos[0]+DIRS[d][0], pos[1]+DIRS[d][1])\n",
    "        if forward not in walls:\n",
    "            heapq.heappush(q, (cost+COSTS['forward'], forward, d, prev))\n",
    "        heapq.heappush(q, (cost+COSTS['turn'], pos, (d+1)%4, prev))\n",
    "        heapq.heappush(q, (cost+COSTS['turn'], pos, (d-1)%4, prev))\n",
    "    raise ValueError('Heap exhausted')"
   ]
  },
  {
   "cell_type": "code",
   "execution_count": 70,
   "id": "79a0fd49-2bde-4033-9c2e-c432217910de",
   "metadata": {},
   "outputs": [],
   "source": [
    "def count_valid_tiles(links, target):\n",
    "    routes, tiles = set(), set()\n",
    "    def walk(cur, routes, tiles):\n",
    "        if cur and cur not in routes:\n",
    "            routes.add(cur)\n",
    "            tiles.add(cur[0])\n",
    "            for npos in links[cur]:\n",
    "                walk(npos, routes, tiles)\n",
    "    for d in range(4):\n",
    "        walk((target, d), routes, tiles)\n",
    "    return len(tiles)"
   ]
  },
  {
   "cell_type": "code",
   "execution_count": 72,
   "id": "a4511655-19d5-4d2d-bd13-5f2ce1b6b876",
   "metadata": {},
   "outputs": [],
   "source": [
    "def part2(lines):\n",
    "    walls, start, end = get_walls_start_end(lines)\n",
    "    cost = traverse(start, end, walls)\n",
    "    links = find_valid_links(start, end, cost, walls)\n",
    "    return count_valid_tiles(links, end)"
   ]
  },
  {
   "cell_type": "code",
   "execution_count": 74,
   "id": "508215de-6d17-4f36-a565-19fe789114aa",
   "metadata": {},
   "outputs": [],
   "source": [
    "assert(45 == part2(testlines))"
   ]
  },
  {
   "cell_type": "code",
   "execution_count": 75,
   "id": "3012f4fb-8c99-417e-b919-6a20d9744ffb",
   "metadata": {},
   "outputs": [],
   "source": [
    "assert(64 == part2(biggertestlines))"
   ]
  },
  {
   "cell_type": "code",
   "execution_count": 76,
   "id": "be8dbd79-a945-4798-9509-e0df5a60549a",
   "metadata": {},
   "outputs": [
    {
     "data": {
      "text/plain": [
       "449"
      ]
     },
     "execution_count": 76,
     "metadata": {},
     "output_type": "execute_result"
    }
   ],
   "source": [
    "part2(data)"
   ]
  },
  {
   "cell_type": "code",
   "execution_count": null,
   "id": "fcbc239e-0b89-49e0-bc1d-835be045b0f8",
   "metadata": {},
   "outputs": [],
   "source": []
  }
 ],
 "metadata": {
  "kernelspec": {
   "display_name": "Python 3 (ipykernel)",
   "language": "python",
   "name": "python3"
  },
  "language_info": {
   "codemirror_mode": {
    "name": "ipython",
    "version": 3
   },
   "file_extension": ".py",
   "mimetype": "text/x-python",
   "name": "python",
   "nbconvert_exporter": "python",
   "pygments_lexer": "ipython3",
   "version": "3.12.7"
  }
 },
 "nbformat": 4,
 "nbformat_minor": 5
}
