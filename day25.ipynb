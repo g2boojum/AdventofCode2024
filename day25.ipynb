{
 "cells": [
  {
   "cell_type": "code",
   "execution_count": 13,
   "id": "de637294-28b7-4fc0-9a6a-a9286dfc8a9c",
   "metadata": {},
   "outputs": [],
   "source": [
    "import itertools"
   ]
  },
  {
   "cell_type": "code",
   "execution_count": 1,
   "id": "5aa095ca-88c1-44dc-af3f-0d62415ba2ec",
   "metadata": {},
   "outputs": [],
   "source": [
    "testlines = '''#####\n",
    ".####\n",
    ".####\n",
    ".####\n",
    ".#.#.\n",
    ".#...\n",
    ".....\n",
    "\n",
    "#####\n",
    "##.##\n",
    ".#.##\n",
    "...##\n",
    "...#.\n",
    "...#.\n",
    ".....\n",
    "\n",
    ".....\n",
    "#....\n",
    "#....\n",
    "#...#\n",
    "#.#.#\n",
    "#.###\n",
    "#####\n",
    "\n",
    ".....\n",
    ".....\n",
    "#.#..\n",
    "###..\n",
    "###.#\n",
    "###.#\n",
    "#####\n",
    "\n",
    ".....\n",
    ".....\n",
    ".....\n",
    "#....\n",
    "#.#..\n",
    "#.#.#\n",
    "#####'''"
   ]
  },
  {
   "cell_type": "code",
   "execution_count": 2,
   "id": "07a83d75-ef54-44ab-aad6-3b41cc8950ad",
   "metadata": {},
   "outputs": [],
   "source": [
    "with open('day25input.txt') as fp:\n",
    "    data = fp.read()"
   ]
  },
  {
   "cell_type": "markdown",
   "id": "de513038-eb53-44d5-8b1b-f9220877f4b4",
   "metadata": {},
   "source": [
    "## Part 1 ##"
   ]
  },
  {
   "cell_type": "code",
   "execution_count": 8,
   "id": "d496bf6d-55aa-43bf-8028-7f7e7aad5637",
   "metadata": {},
   "outputs": [],
   "source": [
    "def get_locks_and_keys(inp):\n",
    "    patterns = inp.split('\\n\\n')\n",
    "    keys = []\n",
    "    locks = []\n",
    "    for pattern in patterns:\n",
    "        heights = []\n",
    "        lines = pattern.splitlines()\n",
    "        if all([c == '#' for c in lines[0]]):\n",
    "            # it's a lock\n",
    "            for col in range(len(lines[0])):\n",
    "                for row in range(len(lines)):\n",
    "                    if lines[row][col] == '.':\n",
    "                        heights.append(row-1)\n",
    "                        break\n",
    "            locks.append(heights)\n",
    "        elif all([c == '#' for c in lines[-1]]):\n",
    "            # it's a key\n",
    "            for col in range(len(lines[-1])):\n",
    "                for h in range(len(lines)):\n",
    "                    if lines[-h-1][col] == '.':\n",
    "                        heights.append(h-1)\n",
    "                        break\n",
    "            keys.append(heights)\n",
    "    return locks, keys"
   ]
  },
  {
   "cell_type": "code",
   "execution_count": 17,
   "id": "5291c1ad-0dcd-4831-82d5-e1158774f137",
   "metadata": {},
   "outputs": [
    {
     "data": {
      "text/plain": [
       "([[0, 5, 3, 4, 3], [1, 2, 0, 5, 3]],\n",
       " [[5, 0, 2, 1, 3], [4, 3, 4, 0, 2], [3, 0, 2, 0, 1]])"
      ]
     },
     "execution_count": 17,
     "metadata": {},
     "output_type": "execute_result"
    }
   ],
   "source": [
    "locks, keys = get_locks_and_keys(testlines)\n",
    "locks, keys"
   ]
  },
  {
   "cell_type": "code",
   "execution_count": 10,
   "id": "4cabb891-67f0-442f-b506-3232a005259d",
   "metadata": {},
   "outputs": [],
   "source": [
    "size = (7, 5) # all locks and keys are 7 rows by 5 cols"
   ]
  },
  {
   "cell_type": "code",
   "execution_count": 14,
   "id": "d4c0dcfd-4d36-4f4b-a0c5-b0e85573f4c5",
   "metadata": {},
   "outputs": [],
   "source": [
    "num_tumblers = size[1]\n",
    "max_ht = size[0] - 2"
   ]
  },
  {
   "cell_type": "code",
   "execution_count": 15,
   "id": "d12a2646-f8b1-4b7a-b860-0df85c1d8421",
   "metadata": {},
   "outputs": [],
   "source": [
    "def fits(lock, key):\n",
    "    for i, pin in enumerate(lock):\n",
    "        if pin + key[i] > max_ht:\n",
    "            return False\n",
    "    return True"
   ]
  },
  {
   "cell_type": "code",
   "execution_count": 18,
   "id": "c7990ea6-845c-4b7d-9a03-81728faeb252",
   "metadata": {},
   "outputs": [
    {
     "data": {
      "text/plain": [
       "3"
      ]
     },
     "execution_count": 18,
     "metadata": {},
     "output_type": "execute_result"
    }
   ],
   "source": [
    "sum(1 for lock,key in itertools.product(locks, keys) if fits(lock, key))"
   ]
  },
  {
   "cell_type": "code",
   "execution_count": 19,
   "id": "1f5bcefc-9093-4dd7-b6cc-c40268047a91",
   "metadata": {},
   "outputs": [],
   "source": [
    "def part1(lines):\n",
    "    locks, keys = get_locks_and_keys(lines)\n",
    "    return sum(1 for lock,key in itertools.product(locks,keys) if fits(lock, key))"
   ]
  },
  {
   "cell_type": "code",
   "execution_count": 21,
   "id": "59cd9068-df88-480c-ab1e-6efb3418fa7d",
   "metadata": {},
   "outputs": [],
   "source": [
    "assert(3 == part1(testlines))"
   ]
  },
  {
   "cell_type": "code",
   "execution_count": 22,
   "id": "5b635ea7-ee9b-4a3d-b98e-fb9c7a29d84b",
   "metadata": {},
   "outputs": [
    {
     "data": {
      "text/plain": [
       "2933"
      ]
     },
     "execution_count": 22,
     "metadata": {},
     "output_type": "execute_result"
    }
   ],
   "source": [
    "part1(data)"
   ]
  },
  {
   "cell_type": "code",
   "execution_count": null,
   "id": "c7328915-7525-4775-bf79-5e57aeb908bd",
   "metadata": {},
   "outputs": [],
   "source": []
  }
 ],
 "metadata": {
  "kernelspec": {
   "display_name": "Python 3 (ipykernel)",
   "language": "python",
   "name": "python3"
  },
  "language_info": {
   "codemirror_mode": {
    "name": "ipython",
    "version": 3
   },
   "file_extension": ".py",
   "mimetype": "text/x-python",
   "name": "python",
   "nbconvert_exporter": "python",
   "pygments_lexer": "ipython3",
   "version": "3.12.8"
  }
 },
 "nbformat": 4,
 "nbformat_minor": 5
}
