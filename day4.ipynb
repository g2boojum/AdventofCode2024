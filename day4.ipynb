{
 "cells": [
  {
   "cell_type": "code",
   "execution_count": 1,
   "id": "3368e42e-8ef8-4610-90c3-d8d43b41e23d",
   "metadata": {},
   "outputs": [],
   "source": [
    "%matplotlib inline"
   ]
  },
  {
   "cell_type": "code",
   "execution_count": 2,
   "id": "c39e2df5-f6dc-440d-8042-73fb9c3f4595",
   "metadata": {},
   "outputs": [],
   "source": [
    "testlines = '''MMMSXXMASM\n",
    "MSAMXMSMSA\n",
    "AMXSXMAAMM\n",
    "MSAMASMSMX\n",
    "XMASAMXAMM\n",
    "XXAMMXXAMA\n",
    "SMSMSASXSS\n",
    "SAXAMASAAA\n",
    "MAMMMXMMMM\n",
    "MXMXAXMASX'''.splitlines()"
   ]
  },
  {
   "cell_type": "code",
   "execution_count": 3,
   "id": "52a3d520-929c-43e9-9bc0-442e87f97ea5",
   "metadata": {},
   "outputs": [],
   "source": [
    "with open('day4input.txt') as fp:\n",
    "    data = fp.read().splitlines()"
   ]
  },
  {
   "cell_type": "markdown",
   "id": "5c6f9c64-4c20-44d6-80df-7074bca791c2",
   "metadata": {},
   "source": [
    "## Part 1 ##"
   ]
  },
  {
   "cell_type": "code",
   "execution_count": 4,
   "id": "1262106b-1dbb-45ae-90c3-53f7ff309724",
   "metadata": {},
   "outputs": [],
   "source": [
    "lines = testlines"
   ]
  },
  {
   "cell_type": "code",
   "execution_count": 5,
   "id": "a266c4d9-2815-4bf2-acec-ec8d80372bab",
   "metadata": {},
   "outputs": [
    {
     "data": {
      "text/plain": [
       "(10, 10)"
      ]
     },
     "execution_count": 5,
     "metadata": {},
     "output_type": "execute_result"
    }
   ],
   "source": [
    "nrows = len(lines)\n",
    "ncols = len(lines[0])\n",
    "nrows, ncols"
   ]
  },
  {
   "cell_type": "code",
   "execution_count": 6,
   "id": "76229730-1928-4ad2-87bb-1a50cdefa89a",
   "metadata": {},
   "outputs": [],
   "source": [
    "rt = [(0, +1), (0, +2), (0, +3)]\n",
    "lf = [(0, -1), (0, -2), (0, -3)]\n",
    "up = [(+1, 0), (+2, 0), (+3, 0)]\n",
    "dn = [(-1, 0), (-2, 0), (-3, 0)]\n",
    "diag1 = [(+1, +1), (+2, +2), (+3, +3)]\n",
    "diag2 = [(-1, -1), (-2, -2), (-3, -3)]\n",
    "diag3 = [(+1, -1), (+2, -2), (+3, -3)]\n",
    "diag4 = [(-1, +1), (-2, +2), (-3, +3)]"
   ]
  },
  {
   "cell_type": "code",
   "execution_count": 7,
   "id": "a39a427e-9d79-467b-9d01-527283d6be72",
   "metadata": {},
   "outputs": [],
   "source": [
    "dirs = (rt, lf, up, dn, diag1, diag2, diag3, diag4)"
   ]
  },
  {
   "cell_type": "code",
   "execution_count": 8,
   "id": "24727fc0-5f99-4be4-9d13-f8014f33303c",
   "metadata": {},
   "outputs": [],
   "source": [
    "def num_xmas_from_xpos(xpos, lines, nrows, ncols):\n",
    "    row, col = xpos\n",
    "    count = 0\n",
    "    for d in dirs:\n",
    "        xrow, xcol = xpos\n",
    "        for i,(roff,coff) in enumerate(d):\n",
    "            row, col = xrow+roff, xcol+coff\n",
    "            if (row < 0) or (row >= nrows) or (col < 0) or (col >= ncols):\n",
    "                break\n",
    "            if lines[row][col] != 'MAS'[i]:\n",
    "                break\n",
    "            if i == 2:\n",
    "                count += 1\n",
    "    return count           "
   ]
  },
  {
   "cell_type": "code",
   "execution_count": 9,
   "id": "44a732d2-661e-48e8-98f4-7da6eff0670a",
   "metadata": {},
   "outputs": [
    {
     "data": {
      "text/plain": [
       "2"
      ]
     },
     "execution_count": 9,
     "metadata": {},
     "output_type": "execute_result"
    }
   ],
   "source": [
    "num_xmas_from_xpos((3, 9), testlines, 10, 10)"
   ]
  },
  {
   "cell_type": "code",
   "execution_count": 10,
   "id": "58533792-1944-4321-989b-a73461b319e1",
   "metadata": {},
   "outputs": [],
   "source": [
    "def part1(lines):\n",
    "    nrows = len(lines)\n",
    "    ncols = len(lines[0])\n",
    "    count = 0\n",
    "    for row in range(nrows):\n",
    "        for col in range(ncols):\n",
    "            if 'X' == lines[row][col]:\n",
    "                count += num_xmas_from_xpos((row, col), lines, nrows, ncols)\n",
    "    return count"
   ]
  },
  {
   "cell_type": "code",
   "execution_count": 11,
   "id": "7bf0407c-b1fc-465c-982f-0ec72a9c6c8e",
   "metadata": {},
   "outputs": [],
   "source": [
    "assert(18 == part1(testlines))"
   ]
  },
  {
   "cell_type": "code",
   "execution_count": 12,
   "id": "ccddd217-e659-4bf4-ade3-b345b12bfa62",
   "metadata": {},
   "outputs": [
    {
     "data": {
      "text/plain": [
       "2397"
      ]
     },
     "execution_count": 12,
     "metadata": {},
     "output_type": "execute_result"
    }
   ],
   "source": [
    "part1(data)"
   ]
  },
  {
   "cell_type": "markdown",
   "id": "e3e7bc91-f30a-4ead-8484-178bdc143ce1",
   "metadata": {},
   "source": [
    "## Part 2 ##"
   ]
  },
  {
   "cell_type": "code",
   "execution_count": 13,
   "id": "2168f5f0-4058-406e-a66a-f4e6b977d00f",
   "metadata": {},
   "outputs": [],
   "source": [
    "opposite = {'M': 'S', 'S': 'M', 'X': None, 'A': None}"
   ]
  },
  {
   "cell_type": "code",
   "execution_count": 14,
   "id": "b98f97da-59c6-4456-8270-f4cd1a436c51",
   "metadata": {},
   "outputs": [],
   "source": [
    "def is_crossmas(apos, lines, nrows, ncols):\n",
    "    # diagonal positions\n",
    "    # 1.2\n",
    "    # .A.\n",
    "    # 3.4\n",
    "    arow, acol = apos\n",
    "    if (arow == 0) or (arow == nrows-1) or (acol == 0) or (acol == ncols-1):\n",
    "        # A is on an edge; can't be part of a cross\n",
    "        return False\n",
    "    r1, c1 = arow-1, acol-1\n",
    "    r2, c2 = arow-1, acol+1\n",
    "    r3, c3 = arow+1, acol-1\n",
    "    r4, c4 = arow+1, acol+1\n",
    "    char1 = lines[r1][c1]\n",
    "    char2 = lines[r2][c2]\n",
    "    char3 = lines[r3][c3]\n",
    "    char4 = lines[r4][c4]\n",
    "    if (char1 == opposite[char4]) and (char2 == opposite[char3]):\n",
    "        return True\n",
    "    return False"
   ]
  },
  {
   "cell_type": "code",
   "execution_count": 15,
   "id": "b0bb8d6e-a399-4639-93fb-4309a2ca1939",
   "metadata": {},
   "outputs": [
    {
     "data": {
      "text/plain": [
       "True"
      ]
     },
     "execution_count": 15,
     "metadata": {},
     "output_type": "execute_result"
    }
   ],
   "source": [
    "is_crossmas((1, 2), testlines, 10, 10)"
   ]
  },
  {
   "cell_type": "code",
   "execution_count": 16,
   "id": "564ca883-ab1e-4030-911e-2f63548f6bb9",
   "metadata": {},
   "outputs": [],
   "source": [
    "def part2(lines):\n",
    "    nrows = len(lines)\n",
    "    ncols = len(lines[0])\n",
    "    count = 0\n",
    "    for row in range(nrows):\n",
    "        for col in range(ncols):\n",
    "            if 'A' == lines[row][col]:\n",
    "                if is_crossmas((row, col), lines, nrows, ncols):\n",
    "                    count += 1\n",
    "    return count    "
   ]
  },
  {
   "cell_type": "code",
   "execution_count": 17,
   "id": "a72ddc2c-78a1-4d41-80d0-1c1af12d804d",
   "metadata": {},
   "outputs": [],
   "source": [
    "assert(9 == part2(testlines))"
   ]
  },
  {
   "cell_type": "code",
   "execution_count": 18,
   "id": "119e4abe-b088-4ca1-a61e-9fae18fb3c1d",
   "metadata": {},
   "outputs": [
    {
     "data": {
      "text/plain": [
       "1824"
      ]
     },
     "execution_count": 18,
     "metadata": {},
     "output_type": "execute_result"
    }
   ],
   "source": [
    "part2(data)"
   ]
  },
  {
   "cell_type": "code",
   "execution_count": null,
   "id": "6077cb24-4583-498d-8da2-f417027d36bb",
   "metadata": {},
   "outputs": [],
   "source": []
  }
 ],
 "metadata": {
  "kernelspec": {
   "display_name": "Python 3 (ipykernel)",
   "language": "python",
   "name": "python3"
  },
  "language_info": {
   "codemirror_mode": {
    "name": "ipython",
    "version": 3
   },
   "file_extension": ".py",
   "mimetype": "text/x-python",
   "name": "python",
   "nbconvert_exporter": "python",
   "pygments_lexer": "ipython3",
   "version": "3.12.7"
  }
 },
 "nbformat": 4,
 "nbformat_minor": 5
}
