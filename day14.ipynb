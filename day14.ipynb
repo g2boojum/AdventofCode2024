{
 "cells": [
  {
   "cell_type": "code",
   "execution_count": 1,
   "id": "fbacb8d6-53e0-48d2-aa60-774e247beef1",
   "metadata": {},
   "outputs": [],
   "source": [
    "import numpy as np\n",
    "import matplotlib.pyplot as plt"
   ]
  },
  {
   "cell_type": "code",
   "execution_count": 2,
   "id": "7241ff0f-4da7-4f68-ac6b-2c4d5a1c7b23",
   "metadata": {},
   "outputs": [],
   "source": [
    "testsz = (11, 7)\n",
    "testlines = '''p=0,4 v=3,-3\n",
    "p=6,3 v=-1,-3\n",
    "p=10,3 v=-1,2\n",
    "p=2,0 v=2,-1\n",
    "p=0,0 v=1,3\n",
    "p=3,0 v=-2,-2\n",
    "p=7,6 v=-1,-3\n",
    "p=3,0 v=-1,-2\n",
    "p=9,3 v=2,3\n",
    "p=7,3 v=-1,2\n",
    "p=2,4 v=2,-3\n",
    "p=9,5 v=-3,-3'''.splitlines()"
   ]
  },
  {
   "cell_type": "code",
   "execution_count": 3,
   "id": "a3c9ef99-48be-4fc2-87ab-c35f13298021",
   "metadata": {},
   "outputs": [],
   "source": [
    "datasz = (101, 103)\n",
    "with open('day14input.txt') as fp:\n",
    "    data = fp.read().splitlines()"
   ]
  },
  {
   "cell_type": "markdown",
   "id": "651c37d3-0221-4bbf-9a9d-10211e8976f9",
   "metadata": {},
   "source": [
    "## Part 1 ##\n",
    "\n",
    "Coordinate system w/ periodic boundary conditions:\n",
    "```\n",
    "----> x\n",
    "|\n",
    "|\n",
    "▼\n",
    "y\n",
    "```"
   ]
  },
  {
   "cell_type": "code",
   "execution_count": 4,
   "id": "d1acd8e7-e500-4ab8-8e74-8f2a184db66e",
   "metadata": {},
   "outputs": [],
   "source": [
    "def get_particles(lines):\n",
    "    particles = []\n",
    "    for line in lines:\n",
    "        xypart, vxvypart = line.split(' ')[:2]\n",
    "        x,y = xypart[2:].split(',')\n",
    "        vx,vy = vxvypart[2:].split(',')\n",
    "        particles.append((int(x), int(y), int(vx), int(vy)))\n",
    "    return particles"
   ]
  },
  {
   "cell_type": "code",
   "execution_count": 5,
   "id": "fe964d27-60f9-4e44-abd2-ba4ef86ab831",
   "metadata": {},
   "outputs": [],
   "source": [
    "def move(particle, time, xsize, ysize):\n",
    "    x0, y0, vx, vy = particle\n",
    "    x = (x0 + vx*time) % xsize\n",
    "    y = (y0 + vy*time) % ysize\n",
    "    return (x, y, vx, vy)"
   ]
  },
  {
   "cell_type": "code",
   "execution_count": 6,
   "id": "3360801f-b2be-4228-9b64-b6000d19b696",
   "metadata": {},
   "outputs": [],
   "source": [
    "def moveall(particles, time, xsize, ysize):\n",
    "    return [move(particle, time, xsize, ysize) for particle in particles]"
   ]
  },
  {
   "cell_type": "code",
   "execution_count": 7,
   "id": "9837d40e-67cf-4934-af03-940fab3f72af",
   "metadata": {},
   "outputs": [],
   "source": [
    "def score(particles, xsize, ysize):\n",
    "    xhalf, yhalf = xsize//2, ysize//2\n",
    "    q1, q2, q3, q4 = 0, 0, 0, 0\n",
    "    for particle in particles:\n",
    "        x, y = particle[:2]\n",
    "        if 0 <= x < xhalf:\n",
    "            if 0 <= y < yhalf:\n",
    "                q1 += 1\n",
    "            elif y > yhalf:\n",
    "                q3 += 1\n",
    "        elif x > xhalf:\n",
    "            if 0 <= y < yhalf:\n",
    "                q2 += 1\n",
    "            elif y > yhalf:\n",
    "                q4 += 1\n",
    "    return q1, q2, q3, q4, q1*q2*q3*q4"
   ]
  },
  {
   "cell_type": "code",
   "execution_count": 8,
   "id": "81408329-9faf-453d-9f23-d26b332cef1f",
   "metadata": {},
   "outputs": [],
   "source": [
    "def part1(lines, size, time):\n",
    "    particles = get_particles(lines)\n",
    "    xsize, ysize = size\n",
    "    #moved = []\n",
    "    #for particle in particles:\n",
    "        #moved.append(move(particle, time, xsize, ysize))\n",
    "    moved = moveall(particles, time, xsize, ysize)\n",
    "    q1, q2, q3, q4, product = score(moved, xsize, ysize)\n",
    "    return product"
   ]
  },
  {
   "cell_type": "code",
   "execution_count": 9,
   "id": "70416644-9f7f-4915-93e0-e24e63b44143",
   "metadata": {},
   "outputs": [],
   "source": [
    "assert(12 == part1(testlines, testsz, 100))"
   ]
  },
  {
   "cell_type": "code",
   "execution_count": 10,
   "id": "f54b52df-c8dd-4222-b9d9-59e0cdc05d2a",
   "metadata": {},
   "outputs": [
    {
     "data": {
      "text/plain": [
       "221655456"
      ]
     },
     "execution_count": 10,
     "metadata": {},
     "output_type": "execute_result"
    }
   ],
   "source": [
    "part1(data, datasz, 100)"
   ]
  },
  {
   "cell_type": "markdown",
   "id": "daa75493-5373-412f-9c14-5fd2906e29e7",
   "metadata": {},
   "source": [
    "## Part 2 ##\n",
    "\n",
    "I'm guessing that when the particles form a tree, that will be when the most particles have neighboring grid points that are occupied.\n",
    "So, let's just count the number of occupied neighboring grid points for each particle, and look for a max. Brute force, but it worked."
   ]
  },
  {
   "cell_type": "code",
   "execution_count": 11,
   "id": "c53067fb-62cf-440c-bfc5-351b1eba3801",
   "metadata": {},
   "outputs": [],
   "source": [
    "particles = get_particles(data)"
   ]
  },
  {
   "cell_type": "code",
   "execution_count": 12,
   "id": "7413450e-acc0-40bb-8071-3350ab3c509b",
   "metadata": {},
   "outputs": [
    {
     "data": {
      "text/plain": [
       "500"
      ]
     },
     "execution_count": 12,
     "metadata": {},
     "output_type": "execute_result"
    }
   ],
   "source": [
    "len(particles)"
   ]
  },
  {
   "cell_type": "code",
   "execution_count": 13,
   "id": "e14179bb-0781-43ac-ad25-34e14104d9bc",
   "metadata": {},
   "outputs": [],
   "source": [
    "def nbrscore(particles):\n",
    "    score = 0\n",
    "    positions = set(tuple(particle[:2]) for particle in particles)\n",
    "    dirs = [(-1, -1), (-1, 0), (-1, +1), (0,-1), (0, +1), (+1, -1), (+1, 0), (+1, +1)]\n",
    "    for particle in particles:\n",
    "        x, y = particle[:2]\n",
    "        for d in dirs:\n",
    "            if (x+d[0], y+d[1]) in positions:\n",
    "                score += 1\n",
    "    return score\n",
    "    "
   ]
  },
  {
   "cell_type": "code",
   "execution_count": 14,
   "id": "0867ab52-dbf8-4f48-b9f9-10dd6111a616",
   "metadata": {},
   "outputs": [
    {
     "data": {
      "text/plain": [
       "149"
      ]
     },
     "execution_count": 14,
     "metadata": {},
     "output_type": "execute_result"
    }
   ],
   "source": [
    "nbrscore(particles)"
   ]
  },
  {
   "cell_type": "code",
   "execution_count": 15,
   "id": "f1bb61db-c03f-444e-8827-21742c01b598",
   "metadata": {},
   "outputs": [],
   "source": [
    "ts = list(range(0, 15000))"
   ]
  },
  {
   "cell_type": "code",
   "execution_count": 16,
   "id": "9cda9c10-4f21-4be7-ab00-85e05aea6cb7",
   "metadata": {},
   "outputs": [],
   "source": [
    "scores = [nbrscore(moveall(particles, t, datasz[0], datasz[1])) for t in ts]"
   ]
  },
  {
   "cell_type": "code",
   "execution_count": 17,
   "id": "f7980da9-5ba6-4d2a-837e-129686712359",
   "metadata": {},
   "outputs": [
    {
     "data": {
      "text/plain": [
       "[<matplotlib.lines.Line2D at 0x15328a015a30>]"
      ]
     },
     "execution_count": 17,
     "metadata": {},
     "output_type": "execute_result"
    },
    {
     "data": {
      "image/png": "[encoded data removed]",
      "text/plain": [
       "<Figure size 640x480 with 1 Axes>"
      ]
     },
     "metadata": {},
     "output_type": "display_data"
    }
   ],
   "source": [
    "plt.plot(ts, scores, '-')"
   ]
  },
  {
   "cell_type": "code",
   "execution_count": 18,
   "id": "3d141749-b513-46a3-b3f7-4b55956a887f",
   "metadata": {},
   "outputs": [
    {
     "data": {
      "text/plain": [
       "(1860, 7858)"
      ]
     },
     "execution_count": 18,
     "metadata": {},
     "output_type": "execute_result"
    }
   ],
   "source": [
    "max(scores), scores.index(max(scores))"
   ]
  },
  {
   "cell_type": "code",
   "execution_count": 19,
   "id": "4ccb941b-9df9-4310-a557-2825a8819dbc",
   "metadata": {},
   "outputs": [],
   "source": [
    "tree = moveall(particles, 7858, datasz[0], datasz[1])"
   ]
  },
  {
   "cell_type": "code",
   "execution_count": 20,
   "id": "97b1d2e3-807c-49aa-9440-8fb9357fc4a5",
   "metadata": {},
   "outputs": [],
   "source": [
    "treepositions = set(tuple(particle[:2]) for particle in tree)"
   ]
  },
  {
   "cell_type": "code",
   "execution_count": 21,
   "id": "ebd1b074-fa26-4d66-96c5-e9e7e1a23b83",
   "metadata": {},
   "outputs": [
    {
     "name": "stdout",
     "output_type": "stream",
     "text": [
      "#........##..................#.......................................................................\n",
      ".................................................................................................#...\n",
      ".............................................#.......................................................\n",
      "................#................##..................#....................#..........................\n",
      ".......#.............................................................................................\n",
      "........................................................................#............................\n",
      ".....................................................................................................\n",
      ".....................................................................................................\n",
      ".........................................#...........................................................\n",
      "..............#..............................................#.......................................\n",
      ".....................................................................................................\n",
      "...................................................#..................................#..............\n",
      "...................................................................#.................................\n",
      "........#...........................................................................#................\n",
      ".................................#...................................................................\n",
      "..#.................#................................................................................\n",
      ".............#..................#.....................................#..............................\n",
      "...................#......................................................................#..........\n",
      "................#..................#..............................#..................................\n",
      ".......#.............................................................................................\n",
      ".............................................##.....................#..............#.................\n",
      "............................................................................#........................\n",
      ".............#.......................................................................................\n",
      "...................................................#.................................................\n",
      ".................#...................................................................................\n",
      "........................................................#............................................\n",
      "...................#.................................................................................\n",
      ".................#.................................................................................#.\n",
      "................................#...........#..................................................#.....\n",
      "...................#.............................................................#...................\n",
      "..................................................#.............................#.#.............#....\n",
      ".....................................................................................................\n",
      ".............................................................................#.......................\n",
      "..................................................................#..................................\n",
      ".....................................................#...............#...............................\n",
      "#...............................................................................#............#.......\n",
      "...........................................................................................#.........\n",
      "..................................................#..........................................#.......\n",
      "...................#......................................................................#..........\n",
      ".......................................................................#........................#....\n",
      "......................#..........................................................................#...\n",
      ".............................................#.......................................................\n",
      "..........................................................................................#..........\n",
      "............#.............................................................................#..........\n",
      "...................................###############################...................................\n",
      "...................................#.............................#..........#........................\n",
      "...................................#.............................#...................................\n",
      "...................................#.............................#...................................\n",
      "...................................#.............................#...................................\n",
      "...................................#..............#..............#.....................#.............\n",
      "...................................#.............###.............#...................................\n",
      "....#..............................#............#####............#...................................\n",
      "...................................#...........#######...........#...................................\n",
      "..............................#....#..........#########..........#...................................\n",
      "...................................#............#####............#...................#...............\n",
      "................#..................#...........#######...........#...................................\n",
      "...................................#..........#########..........#...................................\n",
      "....................#..............#.........###########.........#...................................\n",
      "...................................#........#############........#...................................\n",
      "..#..........#..........#..........#..........#########..........#......................#............\n",
      "...................................#.........###########.........#...............#...................\n",
      "...................................#........#############........#...................................\n",
      "...................................#.......###############.......#..............#....................\n",
      "...................................#......#################......#..................#.............#..\n",
      "...............................#...#........#############........#..#................................\n",
      "........................#..........#.......###############.......#......#............................\n",
      ".................#.....#...........#......#################......#...................................\n",
      "...................................#.....###################.....#......#............................\n",
      "...............#...................#....#####################....#..........#........................\n",
      ".....................#.....#.......#.............###.............#.........................#.........\n",
      "..........................#........#.............###.............#...................................\n",
      "...................................#.............###.............#...................................\n",
      "...................................#.............................#...................................\n",
      "...................................#.............................#.....................#.............\n",
      ".....#.............................#.............................#...................................\n",
      "...................................#.............................#............#........#.............\n",
      "...................................###############################...................................\n",
      ".....................................................................................................\n",
      ".....................................................................................................\n",
      "..................#.........................................#....................................#...\n",
      ".....................................................................................................\n",
      "#.................................................................................................#..\n",
      ".......................................#...............#.............................................\n",
      "...............................................#.....................................................\n",
      ".....................................................................................#...............\n",
      "..........................................##................#........................................\n",
      "....#................................................................................................\n",
      "#...#.........................................#...........................#.....#....................\n",
      ".............................#.....#...........................................#.....................\n",
      ".#..................................................#............................................#...\n",
      "...............#...........................................#...........................#.......#.....\n",
      ".....................................................................................................\n",
      ".......#.............................................................................................\n",
      ".....................................................................................................\n",
      "...........................................#..................................#......................\n",
      ".....................#.............................................................................#.\n",
      ".................................................................#...................................\n",
      ".....................................................................................................\n",
      "...#..#.....#........................................................................................\n",
      ".....................................................................................................\n",
      "............................#........................................................................\n",
      "......................................................#......................#.......................\n",
      ".........................................#...........................................................\n"
     ]
    }
   ],
   "source": [
    "for y in range(datasz[1]):\n",
    "    line = []\n",
    "    for x in range(datasz[0]):\n",
    "        if (x, y) in treepositions:\n",
    "            line.append('#')\n",
    "        else:\n",
    "            line.append('.')\n",
    "    print(''.join(line))"
   ]
  },
  {
   "cell_type": "code",
   "execution_count": null,
   "id": "6dae73ec-3ff4-42dd-a106-4c22846cc1ae",
   "metadata": {},
   "outputs": [],
   "source": []
  }
 ],
 "metadata": {
  "kernelspec": {
   "display_name": "Python 3 (ipykernel)",
   "language": "python",
   "name": "python3"
  },
  "language_info": {
   "codemirror_mode": {
    "name": "ipython",
    "version": 3
   },
   "file_extension": ".py",
   "mimetype": "text/x-python",
   "name": "python",
   "nbconvert_exporter": "python",
   "pygments_lexer": "ipython3",
   "version": "3.12.7"
  }
 },
 "nbformat": 4,
 "nbformat_minor": 5
}
